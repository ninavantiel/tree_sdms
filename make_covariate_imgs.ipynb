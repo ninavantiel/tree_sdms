{
 "cells": [
  {
   "cell_type": "code",
   "execution_count": 1,
   "metadata": {},
   "outputs": [],
   "source": [
    "import ee\n",
    "ee.Initialize()"
   ]
  },
  {
   "cell_type": "code",
   "execution_count": 2,
   "metadata": {},
   "outputs": [
    {
     "name": "stdout",
     "output_type": "stream",
     "text": [
      "['SG_Coarse_fragments_005cm', 'SG_Silt_Content_005cm', 'SG_Soil_pH_H2O_005cm', 'CHELSA_bio12_1981_2010_V2_1', 'CHELSA_bio15_1981_2010_V2_1', 'CHELSA_bio1_1981_2010_V2_1', 'CHELSA_bio4_1981_2010_V2_1', 'CHELSA_gsl_1981_2010_V2_1', 'CHELSA_npp_1981_2010_V2_1', 'Abs_Lat', 'Pixel_Lat', 'Pixel_Long', 'Resolve_Biome', 'Resolve_Ecoregion']\n"
     ]
    }
   ],
   "source": [
    "composite = ee.Image('projects/crowtherlab/nina/treemap/composite_to_sample')\n",
    "print(composite.bandNames().getInfo())"
   ]
  },
  {
   "cell_type": "code",
   "execution_count": 3,
   "metadata": {},
   "outputs": [],
   "source": [
    "mask_img = composite.select('Abs_Lat').add(10000)"
   ]
  },
  {
   "cell_type": "code",
   "execution_count": 64,
   "metadata": {},
   "outputs": [],
   "source": [
    "time = ee.String('2011_2040_')\n",
    "scenario = ee.String('ssp126')\n",
    "chelsa_layers = ee.ImageCollection('users/crowtherlab/Chelsa_V2_1/CHELSA_' + time.getInfo() + scenario.getInfo())"
   ]
  },
  {
   "cell_type": "code",
   "execution_count": 65,
   "metadata": {},
   "outputs": [],
   "source": [
    "def cov_names(climate_model):\n",
    "    return ee.List([\n",
    "        ee.String('CHELSA_bio12_'), ee.String('CHELSA_bio15_'), ee.String('CHELSA_bio1_'), \n",
    "        ee.String('CHELSA_bio4_'), ee.String('CHELSA_gsl_'), ee.String('CHELSA_npp_')\n",
    "    ]).map(lambda s: ee.String(s).cat(time).cat(climate_model).cat(scenario))"
   ]
  },
  {
   "cell_type": "code",
   "execution_count": 66,
   "metadata": {},
   "outputs": [
    {
     "data": {
      "text/plain": [
       "['CHELSA_bio12_2011_2040_gfdl_esm4_ssp126',\n",
       " 'CHELSA_bio15_2011_2040_gfdl_esm4_ssp126',\n",
       " 'CHELSA_bio1_2011_2040_gfdl_esm4_ssp126',\n",
       " 'CHELSA_bio4_2011_2040_gfdl_esm4_ssp126',\n",
       " 'CHELSA_gsl_2011_2040_gfdl_esm4_ssp126',\n",
       " 'CHELSA_npp_2011_2040_gfdl_esm4_ssp126']"
      ]
     },
     "execution_count": 66,
     "metadata": {},
     "output_type": "execute_result"
    }
   ],
   "source": [
    "cov_names('gfdl_esm4_').getInfo()"
   ]
  },
  {
   "cell_type": "code",
   "execution_count": 67,
   "metadata": {},
   "outputs": [
    {
     "name": "stdout",
     "output_type": "stream",
     "text": [
      "[6, 6, 6, 6, 6]\n"
     ]
    }
   ],
   "source": [
    "chelsa_covariates = ee.List(['gfdl_esm4_', 'ipsl_cm6a_lr_', 'mpi_esm1_2_hr_', 'mri_esm2_0_', 'ukesm1_0_ll_']).map(\n",
    "    lambda model: chelsa_layers.filter(ee.Filter.inList('system:index', cov_names(model))))\n",
    "print(chelsa_covariates.map(lambda ic: ee.ImageCollection(ic).aggregate_array('system:index').length()).getInfo())"
   ]
  },
  {
   "cell_type": "code",
   "execution_count": 68,
   "metadata": {},
   "outputs": [],
   "source": [
    "def full_covariate_img(chelsa_cov):\n",
    "    chelsa_cov_img = ee.Image(ee.ImageCollection(chelsa_cov).iterate(\n",
    "        lambda img_to_add, final_img: ee.Image(final_img).addBands(\n",
    "            img_to_add.select(['b1'], [img_to_add.get('system:index')]).updateMask(mask_img)\n",
    "        ), ee.Image()\n",
    "    )).select(ee.ImageCollection(chelsa_cov).aggregate_array('system:index'))\n",
    "    \n",
    "    full_cov_img = chelsa_cov_img.addBands(composite, [\n",
    "        'SG_Coarse_fragments_005cm', 'SG_Silt_Content_005cm', 'SG_Soil_pH_H2O_005cm'\n",
    "    ])\n",
    "    full_cov_img = full_cov_img.select(full_cov_img.bandNames(), [\n",
    "        'bio12', 'bio15', 'bio1', 'bio4', 'gsl', 'npp', 'coarse_fragments', 'silt_content', 'soil_ph'\n",
    "    ])\n",
    "    \n",
    "    img_name = 'covariates_' + '_'.join(ee.ImageCollection(chelsa_cov).first().get('system:index').getInfo().split('_')[2:])\n",
    "    print(img_name)\n",
    "    export = ee.batch.Export.image.toAsset(\n",
    "        image = full_cov_img,\n",
    "        description = 'treemap_' + img_name,\n",
    "        assetId = 'projects/crowtherlab/nina/treemap/covariate_imgs/' + img_name,\n",
    "        crs = 'EPSG:4326',\n",
    "        crsTransform = '[0.008333333333333333,0,-180,0,-0.008333333333333333,90]',\n",
    "        region = ee.Geometry.Polygon([-180, 88, 0, 88, 180, 88, 180, -88, 0, -88, -180, -88], None, False),\n",
    "        maxPixels = int(1e13))\n",
    "    export.start()\n",
    "    \n",
    "    return full_cov_img.bandNames().getInfo()"
   ]
  },
  {
   "cell_type": "code",
   "execution_count": 69,
   "metadata": {},
   "outputs": [
    {
     "name": "stdout",
     "output_type": "stream",
     "text": [
      "0\n",
      "covariates_2011_2040_gfdl_esm4_ssp126\n",
      "['bio12', 'bio15', 'bio1', 'bio4', 'gsl', 'npp', 'coarse_fragments', 'silt_content', 'soil_ph']\n",
      "1\n",
      "covariates_2011_2040_ipsl_cm6a_lr_ssp126\n",
      "['bio12', 'bio15', 'bio1', 'bio4', 'gsl', 'npp', 'coarse_fragments', 'silt_content', 'soil_ph']\n",
      "2\n",
      "covariates_2011_2040_mpi_esm1_2_hr_ssp126\n",
      "['bio12', 'bio15', 'bio1', 'bio4', 'gsl', 'npp', 'coarse_fragments', 'silt_content', 'soil_ph']\n",
      "3\n",
      "covariates_2011_2040_mri_esm2_0_ssp126\n",
      "['bio12', 'bio15', 'bio1', 'bio4', 'gsl', 'npp', 'coarse_fragments', 'silt_content', 'soil_ph']\n",
      "4\n",
      "covariates_2011_2040_ukesm1_0_ll_ssp126\n",
      "['bio12', 'bio15', 'bio1', 'bio4', 'gsl', 'npp', 'coarse_fragments', 'silt_content', 'soil_ph']\n"
     ]
    }
   ],
   "source": [
    "for i in range(chelsa_covariates.length().getInfo()):\n",
    "    print(i)\n",
    "    print(full_covariate_img(chelsa_covariates.get(i)))"
   ]
  },
  {
   "cell_type": "code",
   "execution_count": null,
   "metadata": {},
   "outputs": [],
   "source": []
  }
 ],
 "metadata": {
  "kernelspec": {
   "display_name": "Python 3",
   "language": "python",
   "name": "python3"
  },
  "language_info": {
   "codemirror_mode": {
    "name": "ipython",
    "version": 3
   },
   "file_extension": ".py",
   "mimetype": "text/x-python",
   "name": "python",
   "nbconvert_exporter": "python",
   "pygments_lexer": "ipython3",
   "version": "3.8.3"
  }
 },
 "nbformat": 4,
 "nbformat_minor": 4
}
