{
 "cells": [
  {
   "cell_type": "code",
   "execution_count": 1,
   "metadata": {},
   "outputs": [],
   "source": [
    "from config_figures import *"
   ]
  },
  {
   "cell_type": "code",
   "execution_count": 3,
   "metadata": {},
   "outputs": [
    {
     "name": "stdout",
     "output_type": "stream",
     "text": [
      "# packages in environment at /Users/nina/opt/anaconda3/envs/ee:\r\n",
      "#\r\n",
      "# Name                    Version                   Build  Channel\r\n",
      "aiohttp                   3.8.1            py38hca72f7f_1  \r\n",
      "aiosignal                 1.2.0              pyhd3eb1b0_0  \r\n",
      "anyio                     3.6.2                    pypi_0    pypi\r\n",
      "appnope                   0.1.2           py38hecd8cb5_1001  \r\n",
      "argon2-cffi               21.3.0                   pypi_0    pypi\r\n",
      "argon2-cffi-bindings      21.2.0                   pypi_0    pypi\r\n",
      "asttokens                 2.0.5              pyhd3eb1b0_0  \r\n",
      "async-timeout             4.0.2            py38hecd8cb5_0  \r\n",
      "attrs                     21.4.0             pyhd3eb1b0_0  \r\n",
      "backcall                  0.2.0              pyhd3eb1b0_0  \r\n",
      "beautifulsoup4            4.11.1                   pypi_0    pypi\r\n",
      "blas                      1.0                         mkl  \r\n",
      "bleach                    5.0.1                    pypi_0    pypi\r\n",
      "bottleneck                1.3.5            py38h67323c0_0  \r\n",
      "brotli                    1.0.9                hca72f7f_7  \r\n",
      "brotli-bin                1.0.9                hca72f7f_7  \r\n",
      "brotlipy                  0.7.0           py38h9ed2024_1003  \r\n",
      "c-ares                    1.18.1               hca72f7f_0  \r\n",
      "ca-certificates           2022.10.11           hecd8cb5_0  \r\n",
      "cachetools                4.2.2              pyhd3eb1b0_0  \r\n",
      "certifi                   2022.9.24        py38hecd8cb5_0  \r\n",
      "cffi                      1.15.1           py38hc55c11b_0  \r\n",
      "charset-normalizer        2.0.4              pyhd3eb1b0_0  \r\n",
      "contourpy                 1.0.5            py38h98b9b1b_1    conda-forge\r\n",
      "cryptography              38.0.1           py38hf6deb26_0  \r\n",
      "cycler                    0.11.0             pyhd3eb1b0_0  \r\n",
      "debugpy                   1.5.1            py38he9d5cce_0  \r\n",
      "decorator                 5.1.1              pyhd3eb1b0_0  \r\n",
      "defusedxml                0.7.1                    pypi_0    pypi\r\n",
      "earthengine-api           0.1.329            pyhd8ed1ab_0    conda-forge\r\n",
      "entrypoints               0.4              py38hecd8cb5_0  \r\n",
      "executing                 0.8.3              pyhd3eb1b0_0  \r\n",
      "fonttools                 4.25.0             pyhd3eb1b0_0  \r\n",
      "freetype                  2.12.1               hd8bbffd_0  \r\n",
      "frozenlist                1.2.0            py38hca72f7f_0  \r\n",
      "future                    0.18.2                   py38_1  \r\n",
      "giflib                    5.2.1                haf1e3a3_0  \r\n",
      "google-api-core           1.25.1             pyhd3eb1b0_0  \r\n",
      "google-api-python-client  1.12.8             pyhd3deb0d_0    conda-forge\r\n",
      "google-auth               1.33.0             pyhd3eb1b0_0  \r\n",
      "google-auth-httplib2      0.1.0              pyhd8ed1ab_1    conda-forge\r\n",
      "google-cloud-core         1.7.1              pyhd3eb1b0_0  \r\n",
      "google-cloud-storage      1.19.0                     py_0    conda-forge\r\n",
      "google-crc32c             1.1.2            py38h9ed2024_0  \r\n",
      "google-resumable-media    1.3.1              pyhd3eb1b0_1  \r\n",
      "googleapis-common-protos  1.56.4           py38hecd8cb5_0  \r\n",
      "grpcio                    1.42.0           py38ha29bfda_0  \r\n",
      "httplib2                  0.20.4             pyhd8ed1ab_0    conda-forge\r\n",
      "httplib2shim              0.0.3              pyh9f0ad1d_0    conda-forge\r\n",
      "idna                      3.4              py38hecd8cb5_0  \r\n",
      "importlib-metadata        5.0.0                    pypi_0    pypi\r\n",
      "importlib_resources       5.2.0              pyhd3eb1b0_1  \r\n",
      "intel-openmp              2021.4.0          hecd8cb5_3538  \r\n",
      "ipykernel                 6.17.0                   pypi_0    pypi\r\n",
      "ipython                   8.4.0            py38hecd8cb5_0  \r\n",
      "ipython-genutils          0.2.0                    pypi_0    pypi\r\n",
      "ipywidgets                8.0.2                    pypi_0    pypi\r\n",
      "jedi                      0.18.1           py38hecd8cb5_1  \r\n",
      "jinja2                    3.1.2                    pypi_0    pypi\r\n",
      "jpeg                      9e                   hca72f7f_0  \r\n",
      "jsonschema                4.16.0           py38hecd8cb5_0  \r\n",
      "jupyter                   1.0.0                    pypi_0    pypi\r\n",
      "jupyter-console           6.4.4                    pypi_0    pypi\r\n",
      "jupyter-server            1.21.0                   pypi_0    pypi\r\n",
      "jupyter_client            7.3.5            py38hecd8cb5_0  \r\n",
      "jupyter_core              4.11.1           py38hecd8cb5_0  \r\n",
      "jupyterlab-pygments       0.2.2                    pypi_0    pypi\r\n",
      "jupyterlab-widgets        3.0.3                    pypi_0    pypi\r\n",
      "kiwisolver                1.4.2            py38he9d5cce_0  \r\n",
      "lcms2                     2.12                 hf1fd2bf_0  \r\n",
      "lerc                      3.0                  he9d5cce_0  \r\n",
      "libbrotlicommon           1.0.9                hca72f7f_7  \r\n",
      "libbrotlidec              1.0.9                hca72f7f_7  \r\n",
      "libbrotlienc              1.0.9                hca72f7f_7  \r\n",
      "libcrc32c                 1.1.2                he9d5cce_0  \r\n",
      "libcxx                    14.0.6               h9765a3e_0  \r\n",
      "libdeflate                1.8                  h9ed2024_5  \r\n",
      "libffi                    3.3                  hb1e8313_2  \r\n",
      "libpng                    1.6.37               ha441bb4_0  \r\n",
      "libprotobuf               3.20.1               h8346a28_0  \r\n",
      "libsodium                 1.0.18               h1de35cc_0  \r\n",
      "libtiff                   4.4.0                h2ef1027_1  \r\n",
      "libwebp                   1.2.4                h56c3ce4_0  \r\n",
      "libwebp-base              1.2.4                hca72f7f_0  \r\n",
      "lz4-c                     1.9.3                h23ab428_1  \r\n",
      "markupsafe                2.1.1                    pypi_0    pypi\r\n",
      "matplotlib                3.5.3            py38hecd8cb5_0  \r\n",
      "matplotlib-base           3.5.3            py38hfb0c5b7_0  \r\n",
      "matplotlib-inline         0.1.6            py38hecd8cb5_0  \r\n",
      "mistune                   2.0.4                    pypi_0    pypi\r\n",
      "mkl                       2021.4.0           hecd8cb5_637  \r\n",
      "mkl-service               2.4.0            py38h9ed2024_0  \r\n",
      "mkl_fft                   1.3.1            py38h4ab4a9b_0  \r\n",
      "mkl_random                1.2.2            py38hb2f4e1b_0  \r\n",
      "multidict                 6.0.2            py38hca72f7f_0  \r\n",
      "munkres                   1.1.4                      py_0  \r\n",
      "nbclassic                 0.4.7                    pypi_0    pypi\r\n",
      "nbclient                  0.7.0                    pypi_0    pypi\r\n",
      "nbconvert                 7.2.3                    pypi_0    pypi\r\n",
      "nbformat                  5.5.0            py38hecd8cb5_0  \r\n",
      "ncurses                   6.3                  hca72f7f_3  \r\n",
      "nest-asyncio              1.5.5            py38hecd8cb5_0  \r\n",
      "notebook                  6.5.2                    pypi_0    pypi\r\n",
      "notebook-shim             0.2.2                    pypi_0    pypi\r\n",
      "numexpr                   2.8.3            py38h2e5f0a9_0  \r\n",
      "numpy                     1.23.3           py38hce7a837_1  \r\n",
      "numpy-base                1.23.3           py38heddfccc_1  \r\n",
      "openssl                   1.1.1q               hca72f7f_0  \r\n",
      "packaging                 21.3               pyhd3eb1b0_0  \r\n",
      "pandas                    1.4.4            py38he9d5cce_0  \r\n",
      "pandocfilters             1.5.0                    pypi_0    pypi\r\n",
      "parso                     0.8.3              pyhd3eb1b0_0  \r\n",
      "pexpect                   4.8.0              pyhd3eb1b0_3  \r\n",
      "pickleshare               0.7.5           pyhd3eb1b0_1003  \r\n",
      "pillow                    9.2.0            py38hde71d04_1  \r\n",
      "pip                       22.2.2           py38hecd8cb5_0  \r\n",
      "pkgutil-resolve-name      1.3.10           py38hecd8cb5_0  \r\n",
      "plotly                    5.9.0            py38hecd8cb5_0  \r\n",
      "prometheus-client         0.15.0                   pypi_0    pypi\r\n",
      "prompt-toolkit            3.0.20             pyhd3eb1b0_0  \r\n",
      "protobuf                  3.20.1           py38he9d5cce_0  \r\n",
      "psutil                    5.9.0            py38hca72f7f_0  \r\n",
      "ptyprocess                0.7.0              pyhd3eb1b0_2  \r\n",
      "pure_eval                 0.2.2              pyhd3eb1b0_0  \r\n",
      "pyasn1                    0.4.8              pyhd3eb1b0_0  \r\n",
      "pyasn1-modules            0.2.8                      py_0  \r\n",
      "pycparser                 2.21               pyhd3eb1b0_0  \r\n",
      "pygments                  2.11.2             pyhd3eb1b0_0  \r\n",
      "pyopenssl                 22.0.0             pyhd3eb1b0_0  \r\n",
      "pyparsing                 3.0.9            py38hecd8cb5_0  \r\n",
      "pyrsistent                0.18.0           py38hca72f7f_0  \r\n",
      "pysocks                   1.7.1                    py38_1  \r\n",
      "python                    3.8.13               hdfd78df_1  \r\n",
      "python-dateutil           2.8.2              pyhd3eb1b0_0  \r\n",
      "python-fastjsonschema     2.16.2           py38hecd8cb5_0  \r\n",
      "python_abi                3.8                      2_cp38    conda-forge\r\n",
      "pytz                      2022.1           py38hecd8cb5_0  \r\n",
      "pyzmq                     23.2.0           py38he9d5cce_0  \r\n",
      "qtconsole                 5.4.0                    pypi_0    pypi\r\n",
      "qtpy                      2.2.1                    pypi_0    pypi\r\n",
      "readline                  8.2                  hca72f7f_0  \r\n",
      "requests                  2.28.1           py38hecd8cb5_0  \r\n",
      "rsa                       4.7.2              pyhd3eb1b0_1  \r\n",
      "send2trash                1.8.0                    pypi_0    pypi\r\n",
      "setuptools                65.5.0           py38hecd8cb5_0  \r\n",
      "simplejson                3.17.6           py38hca72f7f_0  \r\n",
      "six                       1.16.0             pyhd3eb1b0_1  \r\n",
      "sniffio                   1.3.0                    pypi_0    pypi\r\n",
      "soupsieve                 2.3.2.post1              pypi_0    pypi\r\n",
      "sqlite                    3.39.3               h707629a_0  \r\n",
      "stack_data                0.2.0              pyhd3eb1b0_0  \r\n",
      "tenacity                  8.0.1            py38hecd8cb5_1  \r\n",
      "terminado                 0.17.0                   pypi_0    pypi\r\n",
      "tinycss2                  1.2.1                    pypi_0    pypi\r\n",
      "tk                        8.6.12               h5d9f67b_0  \r\n",
      "tornado                   6.2              py38hca72f7f_0  \r\n",
      "traitlets                 5.5.0                    pypi_0    pypi\r\n",
      "unicodedata2              14.0.0           py38hef030d1_2    conda-forge\r\n",
      "uritemplate               3.0.1                      py_0    conda-forge\r\n",
      "urllib3                   1.26.12          py38hecd8cb5_0  \r\n",
      "wcwidth                   0.2.5              pyhd3eb1b0_0  \r\n",
      "webencodings              0.5.1                    pypi_0    pypi\r\n",
      "websocket-client          1.4.1                    pypi_0    pypi\r\n",
      "wheel                     0.37.1             pyhd3eb1b0_0  \r\n",
      "widgetsnbextension        4.0.3                    pypi_0    pypi\r\n",
      "xz                        5.2.6                hca72f7f_0  \r\n",
      "yarl                      1.8.1            py38hca72f7f_0  \r\n",
      "zeromq                    4.3.4                h23ab428_0  \r\n",
      "zipp                      3.8.0            py38hecd8cb5_0  \r\n",
      "zlib                      1.2.13               h4dc903c_0  \r\n",
      "zstd                      1.5.2                hcb37349_0  \r\n"
     ]
    }
   ],
   "source": [
    "!conda list"
   ]
  },
  {
   "cell_type": "code",
   "execution_count": 36,
   "metadata": {},
   "outputs": [],
   "source": [
    "import plotly.graph_objects as go\n",
    "import plotly.offline as pyo\n",
    "import matplotlib.pyplot as plt"
   ]
  },
  {
   "cell_type": "code",
   "execution_count": 125,
   "metadata": {},
   "outputs": [
    {
     "name": "stdout",
     "output_type": "stream",
     "text": [
      "Checking file for biome 6\n",
      "(26, 11)\n",
      "(26, 11)\n",
      "Checking file for biome 5\n",
      "(47, 11)\n",
      "(47, 11)\n",
      "Checking file for biome 4\n",
      "(83, 11)\n",
      "(83, 11)\n"
     ]
    }
   ],
   "source": [
    "df_list = []\n",
    "for biome in [6, 5, 4]:#[1,2,3,4,5,6,12]: #range(1,13):\n",
    "    print(f'Checking file for biome {biome}')\n",
    "    #filename = google_drive_path + '/ecoregions_species_stats_biome_' + str(biome) + '.csv' \n",
    "    filename = google_drive_path + '/ecoregions_species_numbers_biome_' + str(biome) + '.csv'\n",
    "    df = pd.read_csv(filename)\n",
    "    print(df.shape)\n",
    "\n",
    "    assert len(df.BIOME_NAME.unique()) == 1 & len(df.BIOME_NUM.unique()) == 1\n",
    "    assert len([(ecoid, df[df.ECO_ID == ecoid].shape[0]) for ecoid in df.ECO_ID.unique() if df[df.ECO_ID == ecoid].shape[0] != 1]) == 0\n",
    "\n",
    "    # remove rows for ecoregions with no species, ie. n_present = n_future = 0\n",
    "    df = df[~(df[['n_future','n_present']] == 0).all(axis=1)]\n",
    "    print(df.shape)\n",
    "\n",
    "    df['J_index'] = (df.n_present - df.n_lost) / (df.n_present + df.n_gained) * 100\n",
    "    #df['species_median_area_rel_present'] = df.species_median_area_present / df.ECO_AREA * 100\n",
    "    #df['species_median_area_rel_future'] = df.species_median_area_future / df.ECO_AREA * 100\n",
    "\n",
    "    df_m = pd.DataFrame(df.drop(['system:index', 'BIOME_NUM', 'ECO_ID'], axis=1).median(axis=0, numeric_only=True), columns = [df.BIOME_NAME[0]]).transpose()\n",
    "    df_list.append(df_m)\n",
    "\n",
    "df_median = pd.concat(df_list) "
   ]
  },
  {
   "cell_type": "code",
   "execution_count": 126,
   "metadata": {},
   "outputs": [
    {
     "data": {
      "text/html": [
       "<div>\n",
       "<style scoped>\n",
       "    .dataframe tbody tr th:only-of-type {\n",
       "        vertical-align: middle;\n",
       "    }\n",
       "\n",
       "    .dataframe tbody tr th {\n",
       "        vertical-align: top;\n",
       "    }\n",
       "\n",
       "    .dataframe thead th {\n",
       "        text-align: right;\n",
       "    }\n",
       "</style>\n",
       "<table border=\"1\" class=\"dataframe\">\n",
       "  <thead>\n",
       "    <tr style=\"text-align: right;\">\n",
       "      <th></th>\n",
       "      <th>n_future</th>\n",
       "      <th>n_gained</th>\n",
       "      <th>n_lost</th>\n",
       "      <th>n_present</th>\n",
       "      <th>J_index</th>\n",
       "    </tr>\n",
       "  </thead>\n",
       "  <tbody>\n",
       "    <tr>\n",
       "      <th>Boreal Forests/Taiga</th>\n",
       "      <td>106.0</td>\n",
       "      <td>47.0</td>\n",
       "      <td>1.0</td>\n",
       "      <td>48.0</td>\n",
       "      <td>53.923828</td>\n",
       "    </tr>\n",
       "    <tr>\n",
       "      <th>Temperate Conifer Forests</th>\n",
       "      <td>273.0</td>\n",
       "      <td>51.0</td>\n",
       "      <td>11.0</td>\n",
       "      <td>210.0</td>\n",
       "      <td>71.979434</td>\n",
       "    </tr>\n",
       "    <tr>\n",
       "      <th>Temperate Broadleaf &amp; Mixed Forests</th>\n",
       "      <td>238.0</td>\n",
       "      <td>24.0</td>\n",
       "      <td>16.0</td>\n",
       "      <td>194.0</td>\n",
       "      <td>80.480905</td>\n",
       "    </tr>\n",
       "  </tbody>\n",
       "</table>\n",
       "</div>"
      ],
      "text/plain": [
       "                                     n_future  n_gained  n_lost  n_present  \\\n",
       "Boreal Forests/Taiga                    106.0      47.0     1.0       48.0   \n",
       "Temperate Conifer Forests               273.0      51.0    11.0      210.0   \n",
       "Temperate Broadleaf & Mixed Forests     238.0      24.0    16.0      194.0   \n",
       "\n",
       "                                       J_index  \n",
       "Boreal Forests/Taiga                 53.923828  \n",
       "Temperate Conifer Forests            71.979434  \n",
       "Temperate Broadleaf & Mixed Forests  80.480905  "
      ]
     },
     "execution_count": 126,
     "metadata": {},
     "output_type": "execute_result"
    }
   ],
   "source": [
    "df_median"
   ]
  },
  {
   "cell_type": "code",
   "execution_count": 133,
   "metadata": {},
   "outputs": [
    {
     "data": {
      "text/html": [
       "<div>\n",
       "<style scoped>\n",
       "    .dataframe tbody tr th:only-of-type {\n",
       "        vertical-align: middle;\n",
       "    }\n",
       "\n",
       "    .dataframe tbody tr th {\n",
       "        vertical-align: top;\n",
       "    }\n",
       "\n",
       "    .dataframe thead th {\n",
       "        text-align: right;\n",
       "    }\n",
       "</style>\n",
       "<table border=\"1\" class=\"dataframe\">\n",
       "  <thead>\n",
       "    <tr style=\"text-align: right;\">\n",
       "      <th></th>\n",
       "      <th>n_future</th>\n",
       "      <th>n_gained</th>\n",
       "      <th>n_lost</th>\n",
       "      <th>n_present</th>\n",
       "      <th>J_index</th>\n",
       "    </tr>\n",
       "  </thead>\n",
       "  <tbody>\n",
       "    <tr>\n",
       "      <th>Boreal Forests/Taiga</th>\n",
       "      <td>0.388278</td>\n",
       "      <td>0.921569</td>\n",
       "      <td>0.0625</td>\n",
       "      <td>0.228571</td>\n",
       "      <td>0.670020</td>\n",
       "    </tr>\n",
       "    <tr>\n",
       "      <th>Temperate Conifer Forests</th>\n",
       "      <td>1.000000</td>\n",
       "      <td>1.000000</td>\n",
       "      <td>0.6875</td>\n",
       "      <td>1.000000</td>\n",
       "      <td>0.894367</td>\n",
       "    </tr>\n",
       "    <tr>\n",
       "      <th>Temperate Broadleaf &amp; Mixed Forests</th>\n",
       "      <td>0.871795</td>\n",
       "      <td>0.470588</td>\n",
       "      <td>1.0000</td>\n",
       "      <td>0.923810</td>\n",
       "      <td>1.000000</td>\n",
       "    </tr>\n",
       "  </tbody>\n",
       "</table>\n",
       "</div>"
      ],
      "text/plain": [
       "                                     n_future  n_gained  n_lost  n_present  \\\n",
       "Boreal Forests/Taiga                 0.388278  0.921569  0.0625   0.228571   \n",
       "Temperate Conifer Forests            1.000000  1.000000  0.6875   1.000000   \n",
       "Temperate Broadleaf & Mixed Forests  0.871795  0.470588  1.0000   0.923810   \n",
       "\n",
       "                                      J_index  \n",
       "Boreal Forests/Taiga                 0.670020  \n",
       "Temperate Conifer Forests            0.894367  \n",
       "Temperate Broadleaf & Mixed Forests  1.000000  "
      ]
     },
     "execution_count": 133,
     "metadata": {},
     "output_type": "execute_result"
    }
   ],
   "source": [
    "df_norm = df_median / df_median.max()\n",
    "df_norm"
   ]
  },
  {
   "cell_type": "code",
   "execution_count": 140,
   "metadata": {},
   "outputs": [
    {
     "name": "stdout",
     "output_type": "stream",
     "text": [
      "['n_present', 'n_gained', 'n_lost', 'J_index', 'n_present']\n"
     ]
    }
   ],
   "source": [
    "categories = ['n_present', 'n_gained', 'n_lost', 'J_index'] #n_future\n",
    "categories = [*categories, categories[0]]\n",
    "print(categories)"
   ]
  },
  {
   "cell_type": "code",
   "execution_count": 141,
   "metadata": {},
   "outputs": [
    {
     "data": {
      "application/vnd.plotly.v1+json": {
       "config": {
        "plotlyServerURL": "https://plot.ly"
       },
       "data": [
        {
         "name": "Boreal Forests/Taiga",
         "r": [
          0.22857142857142856,
          0.9215686274509803,
          0.0625,
          0.670020142531756,
          0.22857142857142856
         ],
         "theta": [
          "n_present",
          "n_gained",
          "n_lost",
          "J_index",
          "n_present"
         ],
         "type": "scatterpolar"
        },
        {
         "name": "Temperate Conifer Forests",
         "r": [
          1,
          1,
          0.6875,
          0.894366610795108,
          1
         ],
         "theta": [
          "n_present",
          "n_gained",
          "n_lost",
          "J_index",
          "n_present"
         ],
         "type": "scatterpolar"
        },
        {
         "name": "Temperate Broadleaf & Mixed Forests",
         "r": [
          0.9238095238095239,
          0.47058823529411764,
          1,
          1,
          0.9238095238095239
         ],
         "theta": [
          "n_present",
          "n_gained",
          "n_lost",
          "J_index",
          "n_present"
         ],
         "type": "scatterpolar"
        }
       ],
       "layout": {
        "template": {
         "data": {
          "bar": [
           {
            "error_x": {
             "color": "#2a3f5f"
            },
            "error_y": {
             "color": "#2a3f5f"
            },
            "marker": {
             "line": {
              "color": "#E5ECF6",
              "width": 0.5
             },
             "pattern": {
              "fillmode": "overlay",
              "size": 10,
              "solidity": 0.2
             }
            },
            "type": "bar"
           }
          ],
          "barpolar": [
           {
            "marker": {
             "line": {
              "color": "#E5ECF6",
              "width": 0.5
             },
             "pattern": {
              "fillmode": "overlay",
              "size": 10,
              "solidity": 0.2
             }
            },
            "type": "barpolar"
           }
          ],
          "carpet": [
           {
            "aaxis": {
             "endlinecolor": "#2a3f5f",
             "gridcolor": "white",
             "linecolor": "white",
             "minorgridcolor": "white",
             "startlinecolor": "#2a3f5f"
            },
            "baxis": {
             "endlinecolor": "#2a3f5f",
             "gridcolor": "white",
             "linecolor": "white",
             "minorgridcolor": "white",
             "startlinecolor": "#2a3f5f"
            },
            "type": "carpet"
           }
          ],
          "choropleth": [
           {
            "colorbar": {
             "outlinewidth": 0,
             "ticks": ""
            },
            "type": "choropleth"
           }
          ],
          "contour": [
           {
            "colorbar": {
             "outlinewidth": 0,
             "ticks": ""
            },
            "colorscale": [
             [
              0,
              "#0d0887"
             ],
             [
              0.1111111111111111,
              "#46039f"
             ],
             [
              0.2222222222222222,
              "#7201a8"
             ],
             [
              0.3333333333333333,
              "#9c179e"
             ],
             [
              0.4444444444444444,
              "#bd3786"
             ],
             [
              0.5555555555555556,
              "#d8576b"
             ],
             [
              0.6666666666666666,
              "#ed7953"
             ],
             [
              0.7777777777777778,
              "#fb9f3a"
             ],
             [
              0.8888888888888888,
              "#fdca26"
             ],
             [
              1,
              "#f0f921"
             ]
            ],
            "type": "contour"
           }
          ],
          "contourcarpet": [
           {
            "colorbar": {
             "outlinewidth": 0,
             "ticks": ""
            },
            "type": "contourcarpet"
           }
          ],
          "heatmap": [
           {
            "colorbar": {
             "outlinewidth": 0,
             "ticks": ""
            },
            "colorscale": [
             [
              0,
              "#0d0887"
             ],
             [
              0.1111111111111111,
              "#46039f"
             ],
             [
              0.2222222222222222,
              "#7201a8"
             ],
             [
              0.3333333333333333,
              "#9c179e"
             ],
             [
              0.4444444444444444,
              "#bd3786"
             ],
             [
              0.5555555555555556,
              "#d8576b"
             ],
             [
              0.6666666666666666,
              "#ed7953"
             ],
             [
              0.7777777777777778,
              "#fb9f3a"
             ],
             [
              0.8888888888888888,
              "#fdca26"
             ],
             [
              1,
              "#f0f921"
             ]
            ],
            "type": "heatmap"
           }
          ],
          "heatmapgl": [
           {
            "colorbar": {
             "outlinewidth": 0,
             "ticks": ""
            },
            "colorscale": [
             [
              0,
              "#0d0887"
             ],
             [
              0.1111111111111111,
              "#46039f"
             ],
             [
              0.2222222222222222,
              "#7201a8"
             ],
             [
              0.3333333333333333,
              "#9c179e"
             ],
             [
              0.4444444444444444,
              "#bd3786"
             ],
             [
              0.5555555555555556,
              "#d8576b"
             ],
             [
              0.6666666666666666,
              "#ed7953"
             ],
             [
              0.7777777777777778,
              "#fb9f3a"
             ],
             [
              0.8888888888888888,
              "#fdca26"
             ],
             [
              1,
              "#f0f921"
             ]
            ],
            "type": "heatmapgl"
           }
          ],
          "histogram": [
           {
            "marker": {
             "pattern": {
              "fillmode": "overlay",
              "size": 10,
              "solidity": 0.2
             }
            },
            "type": "histogram"
           }
          ],
          "histogram2d": [
           {
            "colorbar": {
             "outlinewidth": 0,
             "ticks": ""
            },
            "colorscale": [
             [
              0,
              "#0d0887"
             ],
             [
              0.1111111111111111,
              "#46039f"
             ],
             [
              0.2222222222222222,
              "#7201a8"
             ],
             [
              0.3333333333333333,
              "#9c179e"
             ],
             [
              0.4444444444444444,
              "#bd3786"
             ],
             [
              0.5555555555555556,
              "#d8576b"
             ],
             [
              0.6666666666666666,
              "#ed7953"
             ],
             [
              0.7777777777777778,
              "#fb9f3a"
             ],
             [
              0.8888888888888888,
              "#fdca26"
             ],
             [
              1,
              "#f0f921"
             ]
            ],
            "type": "histogram2d"
           }
          ],
          "histogram2dcontour": [
           {
            "colorbar": {
             "outlinewidth": 0,
             "ticks": ""
            },
            "colorscale": [
             [
              0,
              "#0d0887"
             ],
             [
              0.1111111111111111,
              "#46039f"
             ],
             [
              0.2222222222222222,
              "#7201a8"
             ],
             [
              0.3333333333333333,
              "#9c179e"
             ],
             [
              0.4444444444444444,
              "#bd3786"
             ],
             [
              0.5555555555555556,
              "#d8576b"
             ],
             [
              0.6666666666666666,
              "#ed7953"
             ],
             [
              0.7777777777777778,
              "#fb9f3a"
             ],
             [
              0.8888888888888888,
              "#fdca26"
             ],
             [
              1,
              "#f0f921"
             ]
            ],
            "type": "histogram2dcontour"
           }
          ],
          "mesh3d": [
           {
            "colorbar": {
             "outlinewidth": 0,
             "ticks": ""
            },
            "type": "mesh3d"
           }
          ],
          "parcoords": [
           {
            "line": {
             "colorbar": {
              "outlinewidth": 0,
              "ticks": ""
             }
            },
            "type": "parcoords"
           }
          ],
          "pie": [
           {
            "automargin": true,
            "type": "pie"
           }
          ],
          "scatter": [
           {
            "fillpattern": {
             "fillmode": "overlay",
             "size": 10,
             "solidity": 0.2
            },
            "type": "scatter"
           }
          ],
          "scatter3d": [
           {
            "line": {
             "colorbar": {
              "outlinewidth": 0,
              "ticks": ""
             }
            },
            "marker": {
             "colorbar": {
              "outlinewidth": 0,
              "ticks": ""
             }
            },
            "type": "scatter3d"
           }
          ],
          "scattercarpet": [
           {
            "marker": {
             "colorbar": {
              "outlinewidth": 0,
              "ticks": ""
             }
            },
            "type": "scattercarpet"
           }
          ],
          "scattergeo": [
           {
            "marker": {
             "colorbar": {
              "outlinewidth": 0,
              "ticks": ""
             }
            },
            "type": "scattergeo"
           }
          ],
          "scattergl": [
           {
            "marker": {
             "colorbar": {
              "outlinewidth": 0,
              "ticks": ""
             }
            },
            "type": "scattergl"
           }
          ],
          "scattermapbox": [
           {
            "marker": {
             "colorbar": {
              "outlinewidth": 0,
              "ticks": ""
             }
            },
            "type": "scattermapbox"
           }
          ],
          "scatterpolar": [
           {
            "marker": {
             "colorbar": {
              "outlinewidth": 0,
              "ticks": ""
             }
            },
            "type": "scatterpolar"
           }
          ],
          "scatterpolargl": [
           {
            "marker": {
             "colorbar": {
              "outlinewidth": 0,
              "ticks": ""
             }
            },
            "type": "scatterpolargl"
           }
          ],
          "scatterternary": [
           {
            "marker": {
             "colorbar": {
              "outlinewidth": 0,
              "ticks": ""
             }
            },
            "type": "scatterternary"
           }
          ],
          "surface": [
           {
            "colorbar": {
             "outlinewidth": 0,
             "ticks": ""
            },
            "colorscale": [
             [
              0,
              "#0d0887"
             ],
             [
              0.1111111111111111,
              "#46039f"
             ],
             [
              0.2222222222222222,
              "#7201a8"
             ],
             [
              0.3333333333333333,
              "#9c179e"
             ],
             [
              0.4444444444444444,
              "#bd3786"
             ],
             [
              0.5555555555555556,
              "#d8576b"
             ],
             [
              0.6666666666666666,
              "#ed7953"
             ],
             [
              0.7777777777777778,
              "#fb9f3a"
             ],
             [
              0.8888888888888888,
              "#fdca26"
             ],
             [
              1,
              "#f0f921"
             ]
            ],
            "type": "surface"
           }
          ],
          "table": [
           {
            "cells": {
             "fill": {
              "color": "#EBF0F8"
             },
             "line": {
              "color": "white"
             }
            },
            "header": {
             "fill": {
              "color": "#C8D4E3"
             },
             "line": {
              "color": "white"
             }
            },
            "type": "table"
           }
          ]
         },
         "layout": {
          "annotationdefaults": {
           "arrowcolor": "#2a3f5f",
           "arrowhead": 0,
           "arrowwidth": 1
          },
          "autotypenumbers": "strict",
          "coloraxis": {
           "colorbar": {
            "outlinewidth": 0,
            "ticks": ""
           }
          },
          "colorscale": {
           "diverging": [
            [
             0,
             "#8e0152"
            ],
            [
             0.1,
             "#c51b7d"
            ],
            [
             0.2,
             "#de77ae"
            ],
            [
             0.3,
             "#f1b6da"
            ],
            [
             0.4,
             "#fde0ef"
            ],
            [
             0.5,
             "#f7f7f7"
            ],
            [
             0.6,
             "#e6f5d0"
            ],
            [
             0.7,
             "#b8e186"
            ],
            [
             0.8,
             "#7fbc41"
            ],
            [
             0.9,
             "#4d9221"
            ],
            [
             1,
             "#276419"
            ]
           ],
           "sequential": [
            [
             0,
             "#0d0887"
            ],
            [
             0.1111111111111111,
             "#46039f"
            ],
            [
             0.2222222222222222,
             "#7201a8"
            ],
            [
             0.3333333333333333,
             "#9c179e"
            ],
            [
             0.4444444444444444,
             "#bd3786"
            ],
            [
             0.5555555555555556,
             "#d8576b"
            ],
            [
             0.6666666666666666,
             "#ed7953"
            ],
            [
             0.7777777777777778,
             "#fb9f3a"
            ],
            [
             0.8888888888888888,
             "#fdca26"
            ],
            [
             1,
             "#f0f921"
            ]
           ],
           "sequentialminus": [
            [
             0,
             "#0d0887"
            ],
            [
             0.1111111111111111,
             "#46039f"
            ],
            [
             0.2222222222222222,
             "#7201a8"
            ],
            [
             0.3333333333333333,
             "#9c179e"
            ],
            [
             0.4444444444444444,
             "#bd3786"
            ],
            [
             0.5555555555555556,
             "#d8576b"
            ],
            [
             0.6666666666666666,
             "#ed7953"
            ],
            [
             0.7777777777777778,
             "#fb9f3a"
            ],
            [
             0.8888888888888888,
             "#fdca26"
            ],
            [
             1,
             "#f0f921"
            ]
           ]
          },
          "colorway": [
           "#636efa",
           "#EF553B",
           "#00cc96",
           "#ab63fa",
           "#FFA15A",
           "#19d3f3",
           "#FF6692",
           "#B6E880",
           "#FF97FF",
           "#FECB52"
          ],
          "font": {
           "color": "#2a3f5f"
          },
          "geo": {
           "bgcolor": "white",
           "lakecolor": "white",
           "landcolor": "#E5ECF6",
           "showlakes": true,
           "showland": true,
           "subunitcolor": "white"
          },
          "hoverlabel": {
           "align": "left"
          },
          "hovermode": "closest",
          "mapbox": {
           "style": "light"
          },
          "paper_bgcolor": "white",
          "plot_bgcolor": "#E5ECF6",
          "polar": {
           "angularaxis": {
            "gridcolor": "white",
            "linecolor": "white",
            "ticks": ""
           },
           "bgcolor": "#E5ECF6",
           "radialaxis": {
            "gridcolor": "white",
            "linecolor": "white",
            "ticks": ""
           }
          },
          "scene": {
           "xaxis": {
            "backgroundcolor": "#E5ECF6",
            "gridcolor": "white",
            "gridwidth": 2,
            "linecolor": "white",
            "showbackground": true,
            "ticks": "",
            "zerolinecolor": "white"
           },
           "yaxis": {
            "backgroundcolor": "#E5ECF6",
            "gridcolor": "white",
            "gridwidth": 2,
            "linecolor": "white",
            "showbackground": true,
            "ticks": "",
            "zerolinecolor": "white"
           },
           "zaxis": {
            "backgroundcolor": "#E5ECF6",
            "gridcolor": "white",
            "gridwidth": 2,
            "linecolor": "white",
            "showbackground": true,
            "ticks": "",
            "zerolinecolor": "white"
           }
          },
          "shapedefaults": {
           "line": {
            "color": "#2a3f5f"
           }
          },
          "ternary": {
           "aaxis": {
            "gridcolor": "white",
            "linecolor": "white",
            "ticks": ""
           },
           "baxis": {
            "gridcolor": "white",
            "linecolor": "white",
            "ticks": ""
           },
           "bgcolor": "#E5ECF6",
           "caxis": {
            "gridcolor": "white",
            "linecolor": "white",
            "ticks": ""
           }
          },
          "title": {
           "x": 0.05
          },
          "xaxis": {
           "automargin": true,
           "gridcolor": "white",
           "linecolor": "white",
           "ticks": "",
           "title": {
            "standoff": 15
           },
           "zerolinecolor": "white",
           "zerolinewidth": 2
          },
          "yaxis": {
           "automargin": true,
           "gridcolor": "white",
           "linecolor": "white",
           "ticks": "",
           "title": {
            "standoff": 15
           },
           "zerolinecolor": "white",
           "zerolinewidth": 2
          }
         }
        }
       }
      }
     },
     "metadata": {},
     "output_type": "display_data"
    }
   ],
   "source": [
    "# plot each ecoregion in the biome\n",
    "fig = go.Figure(\n",
    "    data = [go.Scatterpolar(r=list(l[1][categories]), theta=categories, name=l[0]) for l in df_norm.iterrows()])\n",
    "#pyo.plot(fig)\n",
    "fig.show()"
   ]
  },
  {
   "cell_type": "code",
   "execution_count": 120,
   "metadata": {},
   "outputs": [
    {
     "name": "stdout",
     "output_type": "stream",
     "text": [
      "(26, 14)\n",
      "(26, 14)\n"
     ]
    },
    {
     "data": {
      "text/html": [
       "<div>\n",
       "<style scoped>\n",
       "    .dataframe tbody tr th:only-of-type {\n",
       "        vertical-align: middle;\n",
       "    }\n",
       "\n",
       "    .dataframe tbody tr th {\n",
       "        vertical-align: top;\n",
       "    }\n",
       "\n",
       "    .dataframe thead th {\n",
       "        text-align: right;\n",
       "    }\n",
       "</style>\n",
       "<table border=\"1\" class=\"dataframe\">\n",
       "  <thead>\n",
       "    <tr style=\"text-align: right;\">\n",
       "      <th></th>\n",
       "      <th>system:index</th>\n",
       "      <th>BIOME_NAME</th>\n",
       "      <th>BIOME_NUM</th>\n",
       "      <th>ECO_AREA</th>\n",
       "      <th>ECO_ID</th>\n",
       "      <th>ECO_NAME</th>\n",
       "      <th>REALM</th>\n",
       "      <th>n_future</th>\n",
       "      <th>n_gained</th>\n",
       "      <th>n_lost</th>\n",
       "      <th>n_present</th>\n",
       "      <th>species_median_area_future</th>\n",
       "      <th>species_median_area_present</th>\n",
       "      <th>.geo</th>\n",
       "      <th>J_index</th>\n",
       "      <th>species_area_rel_change</th>\n",
       "      <th>species_median_area_rel_present</th>\n",
       "      <th>species_median_area_rel_future</th>\n",
       "    </tr>\n",
       "  </thead>\n",
       "  <tbody>\n",
       "    <tr>\n",
       "      <th>0</th>\n",
       "      <td>0</td>\n",
       "      <td>Boreal Forests/Taiga</td>\n",
       "      <td>6.0</td>\n",
       "      <td>4.887186e+10</td>\n",
       "      <td>369</td>\n",
       "      <td>Alaska Peninsula montane taiga</td>\n",
       "      <td>Nearctic</td>\n",
       "      <td>46</td>\n",
       "      <td>3</td>\n",
       "      <td>2</td>\n",
       "      <td>45</td>\n",
       "      <td>33422.047059</td>\n",
       "      <td>10406.176471</td>\n",
       "      <td>{\"type\":\"MultiPoint\",\"coordinates\":[]}</td>\n",
       "      <td>89.583333</td>\n",
       "      <td>221.175094</td>\n",
       "      <td>2.129278e-05</td>\n",
       "      <td>0.000068</td>\n",
       "    </tr>\n",
       "    <tr>\n",
       "      <th>1</th>\n",
       "      <td>1</td>\n",
       "      <td>Boreal Forests/Taiga</td>\n",
       "      <td>6.0</td>\n",
       "      <td>4.657188e+11</td>\n",
       "      <td>373</td>\n",
       "      <td>Eastern Canadian forests</td>\n",
       "      <td>Nearctic</td>\n",
       "      <td>234</td>\n",
       "      <td>104</td>\n",
       "      <td>4</td>\n",
       "      <td>134</td>\n",
       "      <td>178627.849020</td>\n",
       "      <td>6210.619608</td>\n",
       "      <td>{\"type\":\"MultiPoint\",\"coordinates\":[]}</td>\n",
       "      <td>54.621849</td>\n",
       "      <td>2776.167924</td>\n",
       "      <td>1.333556e-06</td>\n",
       "      <td>0.000038</td>\n",
       "    </tr>\n",
       "    <tr>\n",
       "      <th>2</th>\n",
       "      <td>2</td>\n",
       "      <td>Boreal Forests/Taiga</td>\n",
       "      <td>6.0</td>\n",
       "      <td>7.579771e+11</td>\n",
       "      <td>374</td>\n",
       "      <td>Eastern Canadian Shield taiga</td>\n",
       "      <td>Nearctic</td>\n",
       "      <td>148</td>\n",
       "      <td>105</td>\n",
       "      <td>0</td>\n",
       "      <td>43</td>\n",
       "      <td>97848.072549</td>\n",
       "      <td>2377.203922</td>\n",
       "      <td>{\"type\":\"MultiPoint\",\"coordinates\":[]}</td>\n",
       "      <td>29.054054</td>\n",
       "      <td>4016.099240</td>\n",
       "      <td>3.136248e-07</td>\n",
       "      <td>0.000013</td>\n",
       "    </tr>\n",
       "    <tr>\n",
       "      <th>3</th>\n",
       "      <td>3</td>\n",
       "      <td>Boreal Forests/Taiga</td>\n",
       "      <td>6.0</td>\n",
       "      <td>2.716516e+11</td>\n",
       "      <td>370</td>\n",
       "      <td>Central Canadian Shield forests</td>\n",
       "      <td>Nearctic</td>\n",
       "      <td>210</td>\n",
       "      <td>146</td>\n",
       "      <td>6</td>\n",
       "      <td>70</td>\n",
       "      <td>258259.118627</td>\n",
       "      <td>20642.072549</td>\n",
       "      <td>{\"type\":\"MultiPoint\",\"coordinates\":[]}</td>\n",
       "      <td>29.629630</td>\n",
       "      <td>1151.129789</td>\n",
       "      <td>7.598730e-06</td>\n",
       "      <td>0.000095</td>\n",
       "    </tr>\n",
       "    <tr>\n",
       "      <th>4</th>\n",
       "      <td>4</td>\n",
       "      <td>Boreal Forests/Taiga</td>\n",
       "      <td>6.0</td>\n",
       "      <td>3.732958e+11</td>\n",
       "      <td>382</td>\n",
       "      <td>Southern Hudson Bay taiga</td>\n",
       "      <td>Nearctic</td>\n",
       "      <td>174</td>\n",
       "      <td>136</td>\n",
       "      <td>1</td>\n",
       "      <td>39</td>\n",
       "      <td>108700.825490</td>\n",
       "      <td>12364.117647</td>\n",
       "      <td>{\"type\":\"MultiPoint\",\"coordinates\":[]}</td>\n",
       "      <td>21.714286</td>\n",
       "      <td>779.163630</td>\n",
       "      <td>3.312151e-06</td>\n",
       "      <td>0.000029</td>\n",
       "    </tr>\n",
       "  </tbody>\n",
       "</table>\n",
       "</div>"
      ],
      "text/plain": [
       "   system:index            BIOME_NAME  BIOME_NUM      ECO_AREA  ECO_ID  \\\n",
       "0             0  Boreal Forests/Taiga        6.0  4.887186e+10     369   \n",
       "1             1  Boreal Forests/Taiga        6.0  4.657188e+11     373   \n",
       "2             2  Boreal Forests/Taiga        6.0  7.579771e+11     374   \n",
       "3             3  Boreal Forests/Taiga        6.0  2.716516e+11     370   \n",
       "4             4  Boreal Forests/Taiga        6.0  3.732958e+11     382   \n",
       "\n",
       "                          ECO_NAME     REALM  n_future  n_gained  n_lost  \\\n",
       "0   Alaska Peninsula montane taiga  Nearctic        46         3       2   \n",
       "1         Eastern Canadian forests  Nearctic       234       104       4   \n",
       "2    Eastern Canadian Shield taiga  Nearctic       148       105       0   \n",
       "3  Central Canadian Shield forests  Nearctic       210       146       6   \n",
       "4        Southern Hudson Bay taiga  Nearctic       174       136       1   \n",
       "\n",
       "   n_present  species_median_area_future  species_median_area_present  \\\n",
       "0         45                33422.047059                 10406.176471   \n",
       "1        134               178627.849020                  6210.619608   \n",
       "2         43                97848.072549                  2377.203922   \n",
       "3         70               258259.118627                 20642.072549   \n",
       "4         39               108700.825490                 12364.117647   \n",
       "\n",
       "                                     .geo    J_index  species_area_rel_change  \\\n",
       "0  {\"type\":\"MultiPoint\",\"coordinates\":[]}  89.583333               221.175094   \n",
       "1  {\"type\":\"MultiPoint\",\"coordinates\":[]}  54.621849              2776.167924   \n",
       "2  {\"type\":\"MultiPoint\",\"coordinates\":[]}  29.054054              4016.099240   \n",
       "3  {\"type\":\"MultiPoint\",\"coordinates\":[]}  29.629630              1151.129789   \n",
       "4  {\"type\":\"MultiPoint\",\"coordinates\":[]}  21.714286               779.163630   \n",
       "\n",
       "   species_median_area_rel_present  species_median_area_rel_future  \n",
       "0                     2.129278e-05                        0.000068  \n",
       "1                     1.333556e-06                        0.000038  \n",
       "2                     3.136248e-07                        0.000013  \n",
       "3                     7.598730e-06                        0.000095  \n",
       "4                     3.312151e-06                        0.000029  "
      ]
     },
     "execution_count": 120,
     "metadata": {},
     "output_type": "execute_result"
    }
   ],
   "source": [
    "biome = 6\n",
    "filename = google_drive_path + '/ecoregions_species_stats_biome_' + str(biome) + '.csv' \n",
    "df = pd.read_csv(filename)\n",
    "print(df.shape)\n",
    "\n",
    "assert len(df.BIOME_NAME.unique()) == 1 & len(df.BIOME_NUM.unique()) == 1\n",
    "assert len([(ecoid, df[df.ECO_ID == ecoid].shape[0]) for ecoid in df.ECO_ID.unique() if df[df.ECO_ID == ecoid].shape[0] != 1]) == 0\n",
    "\n",
    "# remove rows for ecoregions with no species, ie. n_present = n_future = n_gained = n_lost = 0\n",
    "df = df[~(df[['n_future','n_present']] == 0).all(axis=1)]\n",
    "print(df.shape)\n",
    "\n",
    "df['J_index'] = (df.n_present - df.n_lost) / (df.n_present + df.n_gained) * 100\n",
    "df['species_area_rel_change'] = (df.species_median_area_future - df.species_median_area_present) / df.species_median_area_present * 100\n",
    "df['species_median_area_rel_present'] = df.species_median_area_present / df.ECO_AREA * 100\n",
    "df['species_median_area_rel_future'] = df.species_median_area_future / df.ECO_AREA * 100\n",
    "\n",
    "#df['species_median_area_norm_present'] = df.species_median_area_present / df.species_median_area_present.abs().max() * 100\n",
    "#df['species_median_area_norm_future'] = df.species_median_area_future / df.species_median_area_future.abs().max() * 100\n",
    "\n",
    "df.head()"
   ]
  },
  {
   "cell_type": "code",
   "execution_count": 124,
   "metadata": {},
   "outputs": [
    {
     "data": {
      "text/plain": [
       "ECO_AREA                           3.166265e+11\n",
       "n_present                          4.800000e+01\n",
       "J_index                            5.392383e+01\n",
       "species_median_area_present        5.090582e+03\n",
       "species_median_area_rel_present    1.443305e-06\n",
       "species_area_rel_change            4.469144e+02\n",
       "dtype: float64"
      ]
     },
     "execution_count": 124,
     "metadata": {},
     "output_type": "execute_result"
    }
   ],
   "source": [
    "df[['ECO_AREA', 'n_present', 'J_index', 'species_median_area_present', 'species_median_area_rel_present', 'species_area_rel_change']].median(axis=0)"
   ]
  },
  {
   "cell_type": "code",
   "execution_count": null,
   "metadata": {},
   "outputs": [],
   "source": []
  },
  {
   "cell_type": "code",
   "execution_count": null,
   "metadata": {},
   "outputs": [],
   "source": []
  },
  {
   "cell_type": "code",
   "execution_count": 118,
   "metadata": {},
   "outputs": [
    {
     "name": "stderr",
     "output_type": "stream",
     "text": [
      "/Users/nina/opt/anaconda3/envs/ee/lib/python3.8/site-packages/pandas/plotting/_matplotlib/core.py:1114: UserWarning:\n",
      "\n",
      "No data for colormapping provided via 'c'. Parameters 'cmap' will be ignored\n",
      "\n"
     ]
    },
    {
     "data": {
      "image/png": "[encoded data removed]",
      "text/plain": [
       "<Figure size 640x480 with 1 Axes>"
      ]
     },
     "metadata": {},
     "output_type": "display_data"
    }
   ],
   "source": [
    "df.plot.scatter(x = 'n_present', y = 'J_index', s = 'species_median_area_norm_present')\n",
    "plt.show()"
   ]
  },
  {
   "cell_type": "code",
   "execution_count": null,
   "metadata": {},
   "outputs": [],
   "source": []
  },
  {
   "cell_type": "code",
   "execution_count": null,
   "metadata": {},
   "outputs": [],
   "source": []
  },
  {
   "cell_type": "code",
   "execution_count": null,
   "metadata": {},
   "outputs": [],
   "source": []
  },
  {
   "cell_type": "code",
   "execution_count": 108,
   "metadata": {},
   "outputs": [
    {
     "name": "stderr",
     "output_type": "stream",
     "text": [
      "/Users/nina/opt/anaconda3/envs/ee/lib/python3.8/site-packages/pandas/plotting/_matplotlib/core.py:1114: UserWarning:\n",
      "\n",
      "No data for colormapping provided via 'c'. Parameters 'cmap' will be ignored\n",
      "\n"
     ]
    },
    {
     "data": {
      "image/png": "[encoded data removed]",
      "text/plain": [
       "<Figure size 640x480 with 1 Axes>"
      ]
     },
     "metadata": {},
     "output_type": "display_data"
    }
   ],
   "source": [
    "df.plot.scatter(x = 'species_median_area_rel_present', y = 'J_index')\n",
    "plt.show()"
   ]
  },
  {
   "cell_type": "code",
   "execution_count": 109,
   "metadata": {},
   "outputs": [
    {
     "data": {
      "image/png": "[encoded data removed]",
      "text/plain": [
       "<Figure size 640x480 with 1 Axes>"
      ]
     },
     "metadata": {},
     "output_type": "display_data"
    }
   ],
   "source": [
    "df.plot.scatter(x = 'species_median_area_present', y = 'J_index')\n",
    "plt.show()"
   ]
  },
  {
   "cell_type": "code",
   "execution_count": null,
   "metadata": {},
   "outputs": [],
   "source": []
  },
  {
   "cell_type": "code",
   "execution_count": 63,
   "metadata": {},
   "outputs": [
    {
     "data": {
      "text/plain": [
       "Index(['ECO_AREA', 'n_future', 'n_gained', 'n_lost', 'n_present',\n",
       "       'species_median_area_future', 'species_median_area_present', 'J_index',\n",
       "       'species_median_area_rel_present', 'species_median_area_rel_future'],\n",
       "      dtype='object')"
      ]
     },
     "execution_count": 63,
     "metadata": {},
     "output_type": "execute_result"
    }
   ],
   "source": [
    "norm_df.columns"
   ]
  },
  {
   "cell_type": "code",
   "execution_count": 76,
   "metadata": {},
   "outputs": [
    {
     "name": "stdout",
     "output_type": "stream",
     "text": [
      "['n_present', 'n_future', 'n_gained', 'n_lost', 'ECO_AREA', 'n_present']\n"
     ]
    }
   ],
   "source": [
    "categories2 = ['n_present', 'n_future', 'n_gained', 'n_lost', 'ECO_AREA']\n",
    "categories2 = [*categories2, categories2[0]]\n",
    "print(categories2)"
   ]
  },
  {
   "cell_type": "code",
   "execution_count": 77,
   "metadata": {},
   "outputs": [
    {
     "data": {
      "application/vnd.plotly.v1+json": {
       "config": {
        "plotlyServerURL": "https://plot.ly"
       },
       "data": [
        {
         "r": [
          0.1696969696969697,
          0.10266159695817491,
          0.006944444444444444,
          0.2222222222222222,
          0.008593948245721511,
          0.1696969696969697
         ],
         "theta": [
          "n_present",
          "n_future",
          "n_gained",
          "n_lost",
          "ECO_AREA",
          "n_present"
         ],
         "type": "scatterpolar"
        },
        {
         "r": [
          0.7090909090909091,
          0.8174904942965779,
          0.7083333333333334,
          0.4444444444444444,
          0.1152803236980485,
          0.7090909090909091
         ],
         "theta": [
          "n_present",
          "n_future",
          "n_gained",
          "n_lost",
          "ECO_AREA",
          "n_present"
         ],
         "type": "scatterpolar"
        },
        {
         "r": [
          0.15757575757575756,
          0.49049429657794674,
          0.7152777777777778,
          0,
          0.1900798999393342,
          0.15757575757575756
         ],
         "theta": [
          "n_present",
          "n_future",
          "n_gained",
          "n_lost",
          "ECO_AREA",
          "n_present"
         ],
         "type": "scatterpolar"
        },
        {
         "r": [
          0.3212121212121212,
          0.7262357414448669,
          1,
          0.6666666666666666,
          0.06561143023290254,
          0.3212121212121212
         ],
         "theta": [
          "n_present",
          "n_future",
          "n_gained",
          "n_lost",
          "ECO_AREA",
          "n_present"
         ],
         "type": "scatterpolar"
        },
        {
         "r": [
          0.13333333333333333,
          0.5893536121673004,
          0.9305555555555556,
          0.1111111111111111,
          0.09162588684881134,
          0.13333333333333333
         ],
         "theta": [
          "n_present",
          "n_future",
          "n_gained",
          "n_lost",
          "ECO_AREA",
          "n_present"
         ],
         "type": "scatterpolar"
        },
        {
         "r": [
          0.1696969696969697,
          0.21292775665399238,
          0.19444444444444445,
          0,
          0.0005023588193275798,
          0.1696969696969697
         ],
         "theta": [
          "n_present",
          "n_future",
          "n_gained",
          "n_lost",
          "ECO_AREA",
          "n_present"
         ],
         "type": "scatterpolar"
        },
        {
         "r": [
          0.2,
          0.1444866920152091,
          0.041666666666666664,
          0.1111111111111111,
          0.0032624166057719614,
          0.2
         ],
         "theta": [
          "n_present",
          "n_future",
          "n_gained",
          "n_lost",
          "ECO_AREA",
          "n_present"
         ],
         "type": "scatterpolar"
        },
        {
         "r": [
          0.36363636363636365,
          0.6996197718631179,
          0.8958333333333334,
          0.5555555555555556,
          0.18983912662748023,
          0.36363636363636365
         ],
         "theta": [
          "n_present",
          "n_future",
          "n_gained",
          "n_lost",
          "ECO_AREA",
          "n_present"
         ],
         "type": "scatterpolar"
        },
        {
         "r": [
          0.17575757575757575,
          0.19391634980988592,
          0.1527777777777778,
          0,
          0.10518301829033008,
          0.17575757575757575
         ],
         "theta": [
          "n_present",
          "n_future",
          "n_gained",
          "n_lost",
          "ECO_AREA",
          "n_present"
         ],
         "type": "scatterpolar"
        },
        {
         "r": [
          0.048484848484848485,
          0.17490494296577946,
          0.2638888888888889,
          0,
          0.08165796628420217,
          0.048484848484848485
         ],
         "theta": [
          "n_present",
          "n_future",
          "n_gained",
          "n_lost",
          "ECO_AREA",
          "n_present"
         ],
         "type": "scatterpolar"
        },
        {
         "r": [
          0.1696969696969697,
          0.34220532319391633,
          0.4305555555555556,
          0,
          0.05728039676193999,
          0.1696969696969697
         ],
         "theta": [
          "n_present",
          "n_future",
          "n_gained",
          "n_lost",
          "ECO_AREA",
          "n_present"
         ],
         "type": "scatterpolar"
        },
        {
         "r": [
          0.503030303030303,
          0.5893536121673004,
          0.5069444444444444,
          0.1111111111111111,
          0.03943853838675317,
          0.503030303030303
         ],
         "theta": [
          "n_present",
          "n_future",
          "n_gained",
          "n_lost",
          "ECO_AREA",
          "n_present"
         ],
         "type": "scatterpolar"
        },
        {
         "r": [
          0.04242424242424243,
          0.22433460076045628,
          0.3611111111111111,
          0,
          0.15805172225799102,
          0.04242424242424243
         ],
         "theta": [
          "n_present",
          "n_future",
          "n_gained",
          "n_lost",
          "ECO_AREA",
          "n_present"
         ],
         "type": "scatterpolar"
        },
        {
         "r": [
          0.5454545454545454,
          0.6083650190114068,
          0.5486111111111112,
          1,
          0.14189615861060775,
          0.5454545454545454
         ],
         "theta": [
          "n_present",
          "n_future",
          "n_gained",
          "n_lost",
          "ECO_AREA",
          "n_present"
         ],
         "type": "scatterpolar"
        },
        {
         "r": [
          0.16363636363636364,
          0.3916349809885932,
          0.5555555555555556,
          0.4444444444444444,
          0.07258635637780561,
          0.16363636363636364
         ],
         "theta": [
          "n_present",
          "n_future",
          "n_gained",
          "n_lost",
          "ECO_AREA",
          "n_present"
         ],
         "type": "scatterpolar"
        },
        {
         "r": [
          0.09090909090909091,
          0.19391634980988592,
          0.2638888888888889,
          0.2222222222222222,
          0.42611866214669447,
          0.09090909090909091
         ],
         "theta": [
          "n_present",
          "n_future",
          "n_gained",
          "n_lost",
          "ECO_AREA",
          "n_present"
         ],
         "type": "scatterpolar"
        },
        {
         "r": [
          0.22424242424242424,
          0.1444866920152091,
          0.006944444444444444,
          0,
          0.019650756290381526,
          0.22424242424242424
         ],
         "theta": [
          "n_present",
          "n_future",
          "n_gained",
          "n_lost",
          "ECO_AREA",
          "n_present"
         ],
         "type": "scatterpolar"
        },
        {
         "r": [
          0.3212121212121212,
          0.3193916349809886,
          0.24305555555555555,
          0.4444444444444444,
          1,
          0.3212121212121212
         ],
         "theta": [
          "n_present",
          "n_future",
          "n_gained",
          "n_lost",
          "ECO_AREA",
          "n_present"
         ],
         "type": "scatterpolar"
        },
        {
         "r": [
          0.9090909090909091,
          0.779467680608365,
          0.3819444444444444,
          0,
          0.03372158240897482,
          0.9090909090909091
         ],
         "theta": [
          "n_present",
          "n_future",
          "n_gained",
          "n_lost",
          "ECO_AREA",
          "n_present"
         ],
         "type": "scatterpolar"
        },
        {
         "r": [
          0,
          0,
          0,
          0,
          0,
          0
         ],
         "theta": [
          "n_present",
          "n_future",
          "n_gained",
          "n_lost",
          "ECO_AREA",
          "n_present"
         ],
         "type": "scatterpolar"
        },
        {
         "r": [
          0.09696969696969697,
          0.1634980988593156,
          0.1875,
          0,
          0.286125849888939,
          0.09696969696969697
         ],
         "theta": [
          "n_present",
          "n_future",
          "n_gained",
          "n_lost",
          "ECO_AREA",
          "n_present"
         ],
         "type": "scatterpolar"
        },
        {
         "r": [
          0.5878787878787879,
          0.7984790874524715,
          0.7916666666666666,
          0.1111111111111111,
          0.09935833930292286,
          0.5878787878787879
         ],
         "theta": [
          "n_present",
          "n_future",
          "n_gained",
          "n_lost",
          "ECO_AREA",
          "n_present"
         ],
         "type": "scatterpolar"
        },
        {
         "r": [
          0.2909090909090909,
          0.30798479087452474,
          0.25,
          0.3333333333333333,
          0.04757585776431656,
          0.2909090909090909
         ],
         "theta": [
          "n_present",
          "n_future",
          "n_gained",
          "n_lost",
          "ECO_AREA",
          "n_present"
         ],
         "type": "scatterpolar"
        },
        {
         "r": [
          1,
          1,
          0.6944444444444444,
          0.2222222222222222,
          0.013730637903943245,
          1
         ],
         "theta": [
          "n_present",
          "n_future",
          "n_gained",
          "n_lost",
          "ECO_AREA",
          "n_present"
         ],
         "type": "scatterpolar"
        },
        {
         "r": [
          0.8424242424242424,
          0.6159695817490495,
          0.1597222222222222,
          0,
          0.5515351452931783,
          0.8424242424242424
         ],
         "theta": [
          "n_present",
          "n_future",
          "n_gained",
          "n_lost",
          "ECO_AREA",
          "n_present"
         ],
         "type": "scatterpolar"
        },
        {
         "r": [
          0.10909090909090909,
          0.17870722433460076,
          0.20833333333333334,
          0.1111111111111111,
          0.041014279565962285,
          0.10909090909090909
         ],
         "theta": [
          "n_present",
          "n_future",
          "n_gained",
          "n_lost",
          "ECO_AREA",
          "n_present"
         ],
         "type": "scatterpolar"
        }
       ],
       "layout": {
        "template": {
         "data": {
          "bar": [
           {
            "error_x": {
             "color": "#2a3f5f"
            },
            "error_y": {
             "color": "#2a3f5f"
            },
            "marker": {
             "line": {
              "color": "#E5ECF6",
              "width": 0.5
             },
             "pattern": {
              "fillmode": "overlay",
              "size": 10,
              "solidity": 0.2
             }
            },
            "type": "bar"
           }
          ],
          "barpolar": [
           {
            "marker": {
             "line": {
              "color": "#E5ECF6",
              "width": 0.5
             },
             "pattern": {
              "fillmode": "overlay",
              "size": 10,
              "solidity": 0.2
             }
            },
            "type": "barpolar"
           }
          ],
          "carpet": [
           {
            "aaxis": {
             "endlinecolor": "#2a3f5f",
             "gridcolor": "white",
             "linecolor": "white",
             "minorgridcolor": "white",
             "startlinecolor": "#2a3f5f"
            },
            "baxis": {
             "endlinecolor": "#2a3f5f",
             "gridcolor": "white",
             "linecolor": "white",
             "minorgridcolor": "white",
             "startlinecolor": "#2a3f5f"
            },
            "type": "carpet"
           }
          ],
          "choropleth": [
           {
            "colorbar": {
             "outlinewidth": 0,
             "ticks": ""
            },
            "type": "choropleth"
           }
          ],
          "contour": [
           {
            "colorbar": {
             "outlinewidth": 0,
             "ticks": ""
            },
            "colorscale": [
             [
              0,
              "#0d0887"
             ],
             [
              0.1111111111111111,
              "#46039f"
             ],
             [
              0.2222222222222222,
              "#7201a8"
             ],
             [
              0.3333333333333333,
              "#9c179e"
             ],
             [
              0.4444444444444444,
              "#bd3786"
             ],
             [
              0.5555555555555556,
              "#d8576b"
             ],
             [
              0.6666666666666666,
              "#ed7953"
             ],
             [
              0.7777777777777778,
              "#fb9f3a"
             ],
             [
              0.8888888888888888,
              "#fdca26"
             ],
             [
              1,
              "#f0f921"
             ]
            ],
            "type": "contour"
           }
          ],
          "contourcarpet": [
           {
            "colorbar": {
             "outlinewidth": 0,
             "ticks": ""
            },
            "type": "contourcarpet"
           }
          ],
          "heatmap": [
           {
            "colorbar": {
             "outlinewidth": 0,
             "ticks": ""
            },
            "colorscale": [
             [
              0,
              "#0d0887"
             ],
             [
              0.1111111111111111,
              "#46039f"
             ],
             [
              0.2222222222222222,
              "#7201a8"
             ],
             [
              0.3333333333333333,
              "#9c179e"
             ],
             [
              0.4444444444444444,
              "#bd3786"
             ],
             [
              0.5555555555555556,
              "#d8576b"
             ],
             [
              0.6666666666666666,
              "#ed7953"
             ],
             [
              0.7777777777777778,
              "#fb9f3a"
             ],
             [
              0.8888888888888888,
              "#fdca26"
             ],
             [
              1,
              "#f0f921"
             ]
            ],
            "type": "heatmap"
           }
          ],
          "heatmapgl": [
           {
            "colorbar": {
             "outlinewidth": 0,
             "ticks": ""
            },
            "colorscale": [
             [
              0,
              "#0d0887"
             ],
             [
              0.1111111111111111,
              "#46039f"
             ],
             [
              0.2222222222222222,
              "#7201a8"
             ],
             [
              0.3333333333333333,
              "#9c179e"
             ],
             [
              0.4444444444444444,
              "#bd3786"
             ],
             [
              0.5555555555555556,
              "#d8576b"
             ],
             [
              0.6666666666666666,
              "#ed7953"
             ],
             [
              0.7777777777777778,
              "#fb9f3a"
             ],
             [
              0.8888888888888888,
              "#fdca26"
             ],
             [
              1,
              "#f0f921"
             ]
            ],
            "type": "heatmapgl"
           }
          ],
          "histogram": [
           {
            "marker": {
             "pattern": {
              "fillmode": "overlay",
              "size": 10,
              "solidity": 0.2
             }
            },
            "type": "histogram"
           }
          ],
          "histogram2d": [
           {
            "colorbar": {
             "outlinewidth": 0,
             "ticks": ""
            },
            "colorscale": [
             [
              0,
              "#0d0887"
             ],
             [
              0.1111111111111111,
              "#46039f"
             ],
             [
              0.2222222222222222,
              "#7201a8"
             ],
             [
              0.3333333333333333,
              "#9c179e"
             ],
             [
              0.4444444444444444,
              "#bd3786"
             ],
             [
              0.5555555555555556,
              "#d8576b"
             ],
             [
              0.6666666666666666,
              "#ed7953"
             ],
             [
              0.7777777777777778,
              "#fb9f3a"
             ],
             [
              0.8888888888888888,
              "#fdca26"
             ],
             [
              1,
              "#f0f921"
             ]
            ],
            "type": "histogram2d"
           }
          ],
          "histogram2dcontour": [
           {
            "colorbar": {
             "outlinewidth": 0,
             "ticks": ""
            },
            "colorscale": [
             [
              0,
              "#0d0887"
             ],
             [
              0.1111111111111111,
              "#46039f"
             ],
             [
              0.2222222222222222,
              "#7201a8"
             ],
             [
              0.3333333333333333,
              "#9c179e"
             ],
             [
              0.4444444444444444,
              "#bd3786"
             ],
             [
              0.5555555555555556,
              "#d8576b"
             ],
             [
              0.6666666666666666,
              "#ed7953"
             ],
             [
              0.7777777777777778,
              "#fb9f3a"
             ],
             [
              0.8888888888888888,
              "#fdca26"
             ],
             [
              1,
              "#f0f921"
             ]
            ],
            "type": "histogram2dcontour"
           }
          ],
          "mesh3d": [
           {
            "colorbar": {
             "outlinewidth": 0,
             "ticks": ""
            },
            "type": "mesh3d"
           }
          ],
          "parcoords": [
           {
            "line": {
             "colorbar": {
              "outlinewidth": 0,
              "ticks": ""
             }
            },
            "type": "parcoords"
           }
          ],
          "pie": [
           {
            "automargin": true,
            "type": "pie"
           }
          ],
          "scatter": [
           {
            "fillpattern": {
             "fillmode": "overlay",
             "size": 10,
             "solidity": 0.2
            },
            "type": "scatter"
           }
          ],
          "scatter3d": [
           {
            "line": {
             "colorbar": {
              "outlinewidth": 0,
              "ticks": ""
             }
            },
            "marker": {
             "colorbar": {
              "outlinewidth": 0,
              "ticks": ""
             }
            },
            "type": "scatter3d"
           }
          ],
          "scattercarpet": [
           {
            "marker": {
             "colorbar": {
              "outlinewidth": 0,
              "ticks": ""
             }
            },
            "type": "scattercarpet"
           }
          ],
          "scattergeo": [
           {
            "marker": {
             "colorbar": {
              "outlinewidth": 0,
              "ticks": ""
             }
            },
            "type": "scattergeo"
           }
          ],
          "scattergl": [
           {
            "marker": {
             "colorbar": {
              "outlinewidth": 0,
              "ticks": ""
             }
            },
            "type": "scattergl"
           }
          ],
          "scattermapbox": [
           {
            "marker": {
             "colorbar": {
              "outlinewidth": 0,
              "ticks": ""
             }
            },
            "type": "scattermapbox"
           }
          ],
          "scatterpolar": [
           {
            "marker": {
             "colorbar": {
              "outlinewidth": 0,
              "ticks": ""
             }
            },
            "type": "scatterpolar"
           }
          ],
          "scatterpolargl": [
           {
            "marker": {
             "colorbar": {
              "outlinewidth": 0,
              "ticks": ""
             }
            },
            "type": "scatterpolargl"
           }
          ],
          "scatterternary": [
           {
            "marker": {
             "colorbar": {
              "outlinewidth": 0,
              "ticks": ""
             }
            },
            "type": "scatterternary"
           }
          ],
          "surface": [
           {
            "colorbar": {
             "outlinewidth": 0,
             "ticks": ""
            },
            "colorscale": [
             [
              0,
              "#0d0887"
             ],
             [
              0.1111111111111111,
              "#46039f"
             ],
             [
              0.2222222222222222,
              "#7201a8"
             ],
             [
              0.3333333333333333,
              "#9c179e"
             ],
             [
              0.4444444444444444,
              "#bd3786"
             ],
             [
              0.5555555555555556,
              "#d8576b"
             ],
             [
              0.6666666666666666,
              "#ed7953"
             ],
             [
              0.7777777777777778,
              "#fb9f3a"
             ],
             [
              0.8888888888888888,
              "#fdca26"
             ],
             [
              1,
              "#f0f921"
             ]
            ],
            "type": "surface"
           }
          ],
          "table": [
           {
            "cells": {
             "fill": {
              "color": "#EBF0F8"
             },
             "line": {
              "color": "white"
             }
            },
            "header": {
             "fill": {
              "color": "#C8D4E3"
             },
             "line": {
              "color": "white"
             }
            },
            "type": "table"
           }
          ]
         },
         "layout": {
          "annotationdefaults": {
           "arrowcolor": "#2a3f5f",
           "arrowhead": 0,
           "arrowwidth": 1
          },
          "autotypenumbers": "strict",
          "coloraxis": {
           "colorbar": {
            "outlinewidth": 0,
            "ticks": ""
           }
          },
          "colorscale": {
           "diverging": [
            [
             0,
             "#8e0152"
            ],
            [
             0.1,
             "#c51b7d"
            ],
            [
             0.2,
             "#de77ae"
            ],
            [
             0.3,
             "#f1b6da"
            ],
            [
             0.4,
             "#fde0ef"
            ],
            [
             0.5,
             "#f7f7f7"
            ],
            [
             0.6,
             "#e6f5d0"
            ],
            [
             0.7,
             "#b8e186"
            ],
            [
             0.8,
             "#7fbc41"
            ],
            [
             0.9,
             "#4d9221"
            ],
            [
             1,
             "#276419"
            ]
           ],
           "sequential": [
            [
             0,
             "#0d0887"
            ],
            [
             0.1111111111111111,
             "#46039f"
            ],
            [
             0.2222222222222222,
             "#7201a8"
            ],
            [
             0.3333333333333333,
             "#9c179e"
            ],
            [
             0.4444444444444444,
             "#bd3786"
            ],
            [
             0.5555555555555556,
             "#d8576b"
            ],
            [
             0.6666666666666666,
             "#ed7953"
            ],
            [
             0.7777777777777778,
             "#fb9f3a"
            ],
            [
             0.8888888888888888,
             "#fdca26"
            ],
            [
             1,
             "#f0f921"
            ]
           ],
           "sequentialminus": [
            [
             0,
             "#0d0887"
            ],
            [
             0.1111111111111111,
             "#46039f"
            ],
            [
             0.2222222222222222,
             "#7201a8"
            ],
            [
             0.3333333333333333,
             "#9c179e"
            ],
            [
             0.4444444444444444,
             "#bd3786"
            ],
            [
             0.5555555555555556,
             "#d8576b"
            ],
            [
             0.6666666666666666,
             "#ed7953"
            ],
            [
             0.7777777777777778,
             "#fb9f3a"
            ],
            [
             0.8888888888888888,
             "#fdca26"
            ],
            [
             1,
             "#f0f921"
            ]
           ]
          },
          "colorway": [
           "#636efa",
           "#EF553B",
           "#00cc96",
           "#ab63fa",
           "#FFA15A",
           "#19d3f3",
           "#FF6692",
           "#B6E880",
           "#FF97FF",
           "#FECB52"
          ],
          "font": {
           "color": "#2a3f5f"
          },
          "geo": {
           "bgcolor": "white",
           "lakecolor": "white",
           "landcolor": "#E5ECF6",
           "showlakes": true,
           "showland": true,
           "subunitcolor": "white"
          },
          "hoverlabel": {
           "align": "left"
          },
          "hovermode": "closest",
          "mapbox": {
           "style": "light"
          },
          "paper_bgcolor": "white",
          "plot_bgcolor": "#E5ECF6",
          "polar": {
           "angularaxis": {
            "gridcolor": "white",
            "linecolor": "white",
            "ticks": ""
           },
           "bgcolor": "#E5ECF6",
           "radialaxis": {
            "gridcolor": "white",
            "linecolor": "white",
            "ticks": ""
           }
          },
          "scene": {
           "xaxis": {
            "backgroundcolor": "#E5ECF6",
            "gridcolor": "white",
            "gridwidth": 2,
            "linecolor": "white",
            "showbackground": true,
            "ticks": "",
            "zerolinecolor": "white"
           },
           "yaxis": {
            "backgroundcolor": "#E5ECF6",
            "gridcolor": "white",
            "gridwidth": 2,
            "linecolor": "white",
            "showbackground": true,
            "ticks": "",
            "zerolinecolor": "white"
           },
           "zaxis": {
            "backgroundcolor": "#E5ECF6",
            "gridcolor": "white",
            "gridwidth": 2,
            "linecolor": "white",
            "showbackground": true,
            "ticks": "",
            "zerolinecolor": "white"
           }
          },
          "shapedefaults": {
           "line": {
            "color": "#2a3f5f"
           }
          },
          "ternary": {
           "aaxis": {
            "gridcolor": "white",
            "linecolor": "white",
            "ticks": ""
           },
           "baxis": {
            "gridcolor": "white",
            "linecolor": "white",
            "ticks": ""
           },
           "bgcolor": "#E5ECF6",
           "caxis": {
            "gridcolor": "white",
            "linecolor": "white",
            "ticks": ""
           }
          },
          "title": {
           "x": 0.05
          },
          "xaxis": {
           "automargin": true,
           "gridcolor": "white",
           "linecolor": "white",
           "ticks": "",
           "title": {
            "standoff": 15
           },
           "zerolinecolor": "white",
           "zerolinewidth": 2
          },
          "yaxis": {
           "automargin": true,
           "gridcolor": "white",
           "linecolor": "white",
           "ticks": "",
           "title": {
            "standoff": 15
           },
           "zerolinecolor": "white",
           "zerolinewidth": 2
          }
         }
        }
       }
      }
     },
     "metadata": {},
     "output_type": "display_data"
    }
   ],
   "source": [
    "# plot each ecoregion in the biome\n",
    "fig = go.Figure(\n",
    "    data = [go.Scatterpolar(r=list(l[1][categories2]), theta=categories2) for l in norm_df.iterrows()])\n",
    "#pyo.plot(fig)\n",
    "fig.show()"
   ]
  },
  {
   "cell_type": "code",
   "execution_count": null,
   "metadata": {},
   "outputs": [],
   "source": []
  }
 ],
 "metadata": {
  "kernelspec": {
   "display_name": "Python 3 (ipykernel)",
   "language": "python",
   "name": "python3"
  },
  "language_info": {
   "codemirror_mode": {
    "name": "ipython",
    "version": 3
   },
   "file_extension": ".py",
   "mimetype": "text/x-python",
   "name": "python",
   "nbconvert_exporter": "python",
   "pygments_lexer": "ipython3",
   "version": "3.8.13"
  },
  "vscode": {
   "interpreter": {
    "hash": "6073755aa6f12da173ae60060eb9721bff4ec494b8627df73ca8d827240fcf4a"
   }
  }
 },
 "nbformat": 4,
 "nbformat_minor": 2
}
