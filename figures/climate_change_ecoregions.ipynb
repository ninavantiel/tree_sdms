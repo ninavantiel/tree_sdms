{
 "cells": [
  {
   "cell_type": "code",
   "execution_count": 1,
   "metadata": {},
   "outputs": [],
   "source": [
    "from config_figures import *"
   ]
  },
  {
   "cell_type": "code",
   "execution_count": 2,
   "metadata": {},
   "outputs": [],
   "source": [
    "import plotly.graph_objects as go\n",
    "import plotly.offline as pyo"
   ]
  },
  {
   "cell_type": "code",
   "execution_count": 3,
   "metadata": {},
   "outputs": [
    {
     "name": "stdout",
     "output_type": "stream",
     "text": [
      "Checking file for biome 6\n",
      "(26, 11)\n",
      "Ecoregions with more than one entry in file: []\n",
      "(26, 11)\n"
     ]
    }
   ],
   "source": [
    "for biome in [6]:#[1,2,3,4,5,6,12]: #range(1,13):\n",
    "    print(f'Checking file for biome {biome}')\n",
    "    filename = google_drive_path + '/ecoregions_species_numbers_biome_' + str(biome) + '.csv'\n",
    "    f = pd.read_csv(filename)\n",
    "    print(f.shape)\n",
    "\n",
    "    assert len(f.BIOME_NAME.unique()) == 1 & len(f.BIOME_NUM.unique()) == 1\n",
    "    print('Ecoregions with more than one entry in file:', [(ecoid, f[f.ECO_ID == ecoid].shape[0]) for ecoid in f.ECO_ID.unique() if f[f.ECO_ID == ecoid].shape[0] != 1])\n",
    "\n",
    "    # remove rows for ecoregions with no species, ie. n_present = n_future = n_gained = n_lost = 0\n",
    "    f = f[~(f[['n_future','n_gained','n_lost','n_present']] == 0).all(axis=1)]\n",
    "    print(f.shape)\n",
    "\n",
    "    f['J_index'] = (f.n_present - f.n_lost) / (f.n_present + f.n_gained) * 100\n",
    "    \n",
    "    "
   ]
  },
  {
   "cell_type": "code",
   "execution_count": 4,
   "metadata": {},
   "outputs": [
    {
     "data": {
      "text/html": [
       "<div>\n",
       "<style scoped>\n",
       "    .dataframe tbody tr th:only-of-type {\n",
       "        vertical-align: middle;\n",
       "    }\n",
       "\n",
       "    .dataframe tbody tr th {\n",
       "        vertical-align: top;\n",
       "    }\n",
       "\n",
       "    .dataframe thead th {\n",
       "        text-align: right;\n",
       "    }\n",
       "</style>\n",
       "<table border=\"1\" class=\"dataframe\">\n",
       "  <thead>\n",
       "    <tr style=\"text-align: right;\">\n",
       "      <th></th>\n",
       "      <th>system:index</th>\n",
       "      <th>BIOME_NAME</th>\n",
       "      <th>BIOME_NUM</th>\n",
       "      <th>ECO_ID</th>\n",
       "      <th>ECO_NAME</th>\n",
       "      <th>REALM</th>\n",
       "      <th>n_future</th>\n",
       "      <th>n_gained</th>\n",
       "      <th>n_lost</th>\n",
       "      <th>n_present</th>\n",
       "      <th>.geo</th>\n",
       "      <th>J_index</th>\n",
       "    </tr>\n",
       "  </thead>\n",
       "  <tbody>\n",
       "    <tr>\n",
       "      <th>0</th>\n",
       "      <td>0</td>\n",
       "      <td>Boreal Forests/Taiga</td>\n",
       "      <td>6.0</td>\n",
       "      <td>369</td>\n",
       "      <td>Alaska Peninsula montane taiga</td>\n",
       "      <td>Nearctic</td>\n",
       "      <td>46</td>\n",
       "      <td>3</td>\n",
       "      <td>2</td>\n",
       "      <td>45</td>\n",
       "      <td>{\"type\":\"MultiPoint\",\"coordinates\":[]}</td>\n",
       "      <td>89.583333</td>\n",
       "    </tr>\n",
       "    <tr>\n",
       "      <th>1</th>\n",
       "      <td>1</td>\n",
       "      <td>Boreal Forests/Taiga</td>\n",
       "      <td>6.0</td>\n",
       "      <td>373</td>\n",
       "      <td>Eastern Canadian forests</td>\n",
       "      <td>Nearctic</td>\n",
       "      <td>234</td>\n",
       "      <td>104</td>\n",
       "      <td>4</td>\n",
       "      <td>134</td>\n",
       "      <td>{\"type\":\"MultiPoint\",\"coordinates\":[]}</td>\n",
       "      <td>54.621849</td>\n",
       "    </tr>\n",
       "    <tr>\n",
       "      <th>2</th>\n",
       "      <td>2</td>\n",
       "      <td>Boreal Forests/Taiga</td>\n",
       "      <td>6.0</td>\n",
       "      <td>374</td>\n",
       "      <td>Eastern Canadian Shield taiga</td>\n",
       "      <td>Nearctic</td>\n",
       "      <td>148</td>\n",
       "      <td>105</td>\n",
       "      <td>0</td>\n",
       "      <td>43</td>\n",
       "      <td>{\"type\":\"MultiPoint\",\"coordinates\":[]}</td>\n",
       "      <td>29.054054</td>\n",
       "    </tr>\n",
       "    <tr>\n",
       "      <th>3</th>\n",
       "      <td>3</td>\n",
       "      <td>Boreal Forests/Taiga</td>\n",
       "      <td>6.0</td>\n",
       "      <td>370</td>\n",
       "      <td>Central Canadian Shield forests</td>\n",
       "      <td>Nearctic</td>\n",
       "      <td>210</td>\n",
       "      <td>146</td>\n",
       "      <td>6</td>\n",
       "      <td>70</td>\n",
       "      <td>{\"type\":\"MultiPoint\",\"coordinates\":[]}</td>\n",
       "      <td>29.629630</td>\n",
       "    </tr>\n",
       "    <tr>\n",
       "      <th>4</th>\n",
       "      <td>4</td>\n",
       "      <td>Boreal Forests/Taiga</td>\n",
       "      <td>6.0</td>\n",
       "      <td>382</td>\n",
       "      <td>Southern Hudson Bay taiga</td>\n",
       "      <td>Nearctic</td>\n",
       "      <td>174</td>\n",
       "      <td>136</td>\n",
       "      <td>1</td>\n",
       "      <td>39</td>\n",
       "      <td>{\"type\":\"MultiPoint\",\"coordinates\":[]}</td>\n",
       "      <td>21.714286</td>\n",
       "    </tr>\n",
       "    <tr>\n",
       "      <th>5</th>\n",
       "      <td>5</td>\n",
       "      <td>Boreal Forests/Taiga</td>\n",
       "      <td>6.0</td>\n",
       "      <td>372</td>\n",
       "      <td>Copper Plateau taiga</td>\n",
       "      <td>Nearctic</td>\n",
       "      <td>75</td>\n",
       "      <td>30</td>\n",
       "      <td>0</td>\n",
       "      <td>45</td>\n",
       "      <td>{\"type\":\"MultiPoint\",\"coordinates\":[]}</td>\n",
       "      <td>60.000000</td>\n",
       "    </tr>\n",
       "    <tr>\n",
       "      <th>6</th>\n",
       "      <td>6</td>\n",
       "      <td>Boreal Forests/Taiga</td>\n",
       "      <td>6.0</td>\n",
       "      <td>371</td>\n",
       "      <td>Cook Inlet taiga</td>\n",
       "      <td>Nearctic</td>\n",
       "      <td>57</td>\n",
       "      <td>8</td>\n",
       "      <td>1</td>\n",
       "      <td>50</td>\n",
       "      <td>{\"type\":\"MultiPoint\",\"coordinates\":[]}</td>\n",
       "      <td>84.482759</td>\n",
       "    </tr>\n",
       "    <tr>\n",
       "      <th>7</th>\n",
       "      <td>7</td>\n",
       "      <td>Boreal Forests/Taiga</td>\n",
       "      <td>6.0</td>\n",
       "      <td>377</td>\n",
       "      <td>Midwest Canadian Shield forests</td>\n",
       "      <td>Nearctic</td>\n",
       "      <td>203</td>\n",
       "      <td>131</td>\n",
       "      <td>5</td>\n",
       "      <td>77</td>\n",
       "      <td>{\"type\":\"MultiPoint\",\"coordinates\":[]}</td>\n",
       "      <td>34.615385</td>\n",
       "    </tr>\n",
       "    <tr>\n",
       "      <th>8</th>\n",
       "      <td>8</td>\n",
       "      <td>Boreal Forests/Taiga</td>\n",
       "      <td>6.0</td>\n",
       "      <td>375</td>\n",
       "      <td>Interior Alaska-Yukon lowland taiga</td>\n",
       "      <td>Nearctic</td>\n",
       "      <td>70</td>\n",
       "      <td>24</td>\n",
       "      <td>0</td>\n",
       "      <td>46</td>\n",
       "      <td>{\"type\":\"MultiPoint\",\"coordinates\":[]}</td>\n",
       "      <td>65.714286</td>\n",
       "    </tr>\n",
       "    <tr>\n",
       "      <th>9</th>\n",
       "      <td>9</td>\n",
       "      <td>Boreal Forests/Taiga</td>\n",
       "      <td>6.0</td>\n",
       "      <td>381</td>\n",
       "      <td>Northwest Territories taiga</td>\n",
       "      <td>Nearctic</td>\n",
       "      <td>65</td>\n",
       "      <td>40</td>\n",
       "      <td>0</td>\n",
       "      <td>25</td>\n",
       "      <td>{\"type\":\"MultiPoint\",\"coordinates\":[]}</td>\n",
       "      <td>38.461538</td>\n",
       "    </tr>\n",
       "    <tr>\n",
       "      <th>10</th>\n",
       "      <td>10</td>\n",
       "      <td>Boreal Forests/Taiga</td>\n",
       "      <td>6.0</td>\n",
       "      <td>383</td>\n",
       "      <td>Watson Highlands taiga</td>\n",
       "      <td>Nearctic</td>\n",
       "      <td>109</td>\n",
       "      <td>64</td>\n",
       "      <td>0</td>\n",
       "      <td>45</td>\n",
       "      <td>{\"type\":\"MultiPoint\",\"coordinates\":[]}</td>\n",
       "      <td>41.284404</td>\n",
       "    </tr>\n",
       "    <tr>\n",
       "      <th>11</th>\n",
       "      <td>11</td>\n",
       "      <td>Boreal Forests/Taiga</td>\n",
       "      <td>6.0</td>\n",
       "      <td>380</td>\n",
       "      <td>Northern Cordillera forests</td>\n",
       "      <td>Nearctic</td>\n",
       "      <td>174</td>\n",
       "      <td>75</td>\n",
       "      <td>1</td>\n",
       "      <td>100</td>\n",
       "      <td>{\"type\":\"MultiPoint\",\"coordinates\":[]}</td>\n",
       "      <td>56.571429</td>\n",
       "    </tr>\n",
       "    <tr>\n",
       "      <th>12</th>\n",
       "      <td>12</td>\n",
       "      <td>Boreal Forests/Taiga</td>\n",
       "      <td>6.0</td>\n",
       "      <td>379</td>\n",
       "      <td>Northern Canadian Shield taiga</td>\n",
       "      <td>Nearctic</td>\n",
       "      <td>78</td>\n",
       "      <td>54</td>\n",
       "      <td>0</td>\n",
       "      <td>24</td>\n",
       "      <td>{\"type\":\"MultiPoint\",\"coordinates\":[]}</td>\n",
       "      <td>30.769231</td>\n",
       "    </tr>\n",
       "    <tr>\n",
       "      <th>13</th>\n",
       "      <td>13</td>\n",
       "      <td>Boreal Forests/Taiga</td>\n",
       "      <td>6.0</td>\n",
       "      <td>376</td>\n",
       "      <td>Mid-Canada Boreal Plains forests</td>\n",
       "      <td>Nearctic</td>\n",
       "      <td>179</td>\n",
       "      <td>81</td>\n",
       "      <td>9</td>\n",
       "      <td>107</td>\n",
       "      <td>{\"type\":\"MultiPoint\",\"coordinates\":[]}</td>\n",
       "      <td>52.127660</td>\n",
       "    </tr>\n",
       "    <tr>\n",
       "      <th>14</th>\n",
       "      <td>14</td>\n",
       "      <td>Boreal Forests/Taiga</td>\n",
       "      <td>6.0</td>\n",
       "      <td>378</td>\n",
       "      <td>Muskwa-Slave Lake taiga</td>\n",
       "      <td>Nearctic</td>\n",
       "      <td>122</td>\n",
       "      <td>82</td>\n",
       "      <td>4</td>\n",
       "      <td>44</td>\n",
       "      <td>{\"type\":\"MultiPoint\",\"coordinates\":[]}</td>\n",
       "      <td>31.746032</td>\n",
       "    </tr>\n",
       "    <tr>\n",
       "      <th>15</th>\n",
       "      <td>15</td>\n",
       "      <td>Boreal Forests/Taiga</td>\n",
       "      <td>6.0</td>\n",
       "      <td>720</td>\n",
       "      <td>West Siberian taiga</td>\n",
       "      <td>Palearctic</td>\n",
       "      <td>70</td>\n",
       "      <td>40</td>\n",
       "      <td>2</td>\n",
       "      <td>32</td>\n",
       "      <td>{\"type\":\"MultiPoint\",\"coordinates\":[]}</td>\n",
       "      <td>41.666667</td>\n",
       "    </tr>\n",
       "    <tr>\n",
       "      <th>16</th>\n",
       "      <td>16</td>\n",
       "      <td>Boreal Forests/Taiga</td>\n",
       "      <td>6.0</td>\n",
       "      <td>711</td>\n",
       "      <td>Iceland boreal birch forests and alpine tundra</td>\n",
       "      <td>Palearctic</td>\n",
       "      <td>57</td>\n",
       "      <td>3</td>\n",
       "      <td>0</td>\n",
       "      <td>54</td>\n",
       "      <td>{\"type\":\"MultiPoint\",\"coordinates\":[]}</td>\n",
       "      <td>94.736842</td>\n",
       "    </tr>\n",
       "    <tr>\n",
       "      <th>17</th>\n",
       "      <td>17</td>\n",
       "      <td>Boreal Forests/Taiga</td>\n",
       "      <td>6.0</td>\n",
       "      <td>710</td>\n",
       "      <td>East Siberian taiga</td>\n",
       "      <td>Palearctic</td>\n",
       "      <td>103</td>\n",
       "      <td>37</td>\n",
       "      <td>4</td>\n",
       "      <td>70</td>\n",
       "      <td>{\"type\":\"MultiPoint\",\"coordinates\":[]}</td>\n",
       "      <td>61.682243</td>\n",
       "    </tr>\n",
       "    <tr>\n",
       "      <th>18</th>\n",
       "      <td>18</td>\n",
       "      <td>Boreal Forests/Taiga</td>\n",
       "      <td>6.0</td>\n",
       "      <td>713</td>\n",
       "      <td>Kamchatka-Kurile meadows and sparse forests</td>\n",
       "      <td>Palearctic</td>\n",
       "      <td>224</td>\n",
       "      <td>57</td>\n",
       "      <td>0</td>\n",
       "      <td>167</td>\n",
       "      <td>{\"type\":\"MultiPoint\",\"coordinates\":[]}</td>\n",
       "      <td>74.553571</td>\n",
       "    </tr>\n",
       "    <tr>\n",
       "      <th>19</th>\n",
       "      <td>19</td>\n",
       "      <td>Boreal Forests/Taiga</td>\n",
       "      <td>6.0</td>\n",
       "      <td>712</td>\n",
       "      <td>Kamchatka taiga</td>\n",
       "      <td>Palearctic</td>\n",
       "      <td>19</td>\n",
       "      <td>2</td>\n",
       "      <td>0</td>\n",
       "      <td>17</td>\n",
       "      <td>{\"type\":\"MultiPoint\",\"coordinates\":[]}</td>\n",
       "      <td>89.473684</td>\n",
       "    </tr>\n",
       "    <tr>\n",
       "      <th>20</th>\n",
       "      <td>20</td>\n",
       "      <td>Boreal Forests/Taiga</td>\n",
       "      <td>6.0</td>\n",
       "      <td>714</td>\n",
       "      <td>Northeast Siberian taiga</td>\n",
       "      <td>Palearctic</td>\n",
       "      <td>62</td>\n",
       "      <td>29</td>\n",
       "      <td>0</td>\n",
       "      <td>33</td>\n",
       "      <td>{\"type\":\"MultiPoint\",\"coordinates\":[]}</td>\n",
       "      <td>53.225806</td>\n",
       "    </tr>\n",
       "    <tr>\n",
       "      <th>21</th>\n",
       "      <td>21</td>\n",
       "      <td>Boreal Forests/Taiga</td>\n",
       "      <td>6.0</td>\n",
       "      <td>715</td>\n",
       "      <td>Okhotsk-Manchurian taiga</td>\n",
       "      <td>Palearctic</td>\n",
       "      <td>229</td>\n",
       "      <td>116</td>\n",
       "      <td>1</td>\n",
       "      <td>114</td>\n",
       "      <td>{\"type\":\"MultiPoint\",\"coordinates\":[]}</td>\n",
       "      <td>49.130435</td>\n",
       "    </tr>\n",
       "    <tr>\n",
       "      <th>22</th>\n",
       "      <td>22</td>\n",
       "      <td>Boreal Forests/Taiga</td>\n",
       "      <td>6.0</td>\n",
       "      <td>718</td>\n",
       "      <td>Trans-Baikal conifer forests</td>\n",
       "      <td>Palearctic</td>\n",
       "      <td>100</td>\n",
       "      <td>38</td>\n",
       "      <td>3</td>\n",
       "      <td>65</td>\n",
       "      <td>{\"type\":\"MultiPoint\",\"coordinates\":[]}</td>\n",
       "      <td>60.194175</td>\n",
       "    </tr>\n",
       "    <tr>\n",
       "      <th>23</th>\n",
       "      <td>23</td>\n",
       "      <td>Boreal Forests/Taiga</td>\n",
       "      <td>6.0</td>\n",
       "      <td>716</td>\n",
       "      <td>Sakhalin Island taiga</td>\n",
       "      <td>Palearctic</td>\n",
       "      <td>282</td>\n",
       "      <td>102</td>\n",
       "      <td>2</td>\n",
       "      <td>182</td>\n",
       "      <td>{\"type\":\"MultiPoint\",\"coordinates\":[]}</td>\n",
       "      <td>63.380282</td>\n",
       "    </tr>\n",
       "    <tr>\n",
       "      <th>24</th>\n",
       "      <td>24</td>\n",
       "      <td>Boreal Forests/Taiga</td>\n",
       "      <td>6.0</td>\n",
       "      <td>717</td>\n",
       "      <td>Scandinavian and Russian taiga</td>\n",
       "      <td>Palearctic</td>\n",
       "      <td>181</td>\n",
       "      <td>25</td>\n",
       "      <td>0</td>\n",
       "      <td>156</td>\n",
       "      <td>{\"type\":\"MultiPoint\",\"coordinates\":[]}</td>\n",
       "      <td>86.187845</td>\n",
       "    </tr>\n",
       "    <tr>\n",
       "      <th>25</th>\n",
       "      <td>25</td>\n",
       "      <td>Boreal Forests/Taiga</td>\n",
       "      <td>6.0</td>\n",
       "      <td>719</td>\n",
       "      <td>Urals montane forest and taiga</td>\n",
       "      <td>Palearctic</td>\n",
       "      <td>66</td>\n",
       "      <td>32</td>\n",
       "      <td>1</td>\n",
       "      <td>35</td>\n",
       "      <td>{\"type\":\"MultiPoint\",\"coordinates\":[]}</td>\n",
       "      <td>50.746269</td>\n",
       "    </tr>\n",
       "  </tbody>\n",
       "</table>\n",
       "</div>"
      ],
      "text/plain": [
       "    system:index            BIOME_NAME  BIOME_NUM  ECO_ID  \\\n",
       "0              0  Boreal Forests/Taiga        6.0     369   \n",
       "1              1  Boreal Forests/Taiga        6.0     373   \n",
       "2              2  Boreal Forests/Taiga        6.0     374   \n",
       "3              3  Boreal Forests/Taiga        6.0     370   \n",
       "4              4  Boreal Forests/Taiga        6.0     382   \n",
       "5              5  Boreal Forests/Taiga        6.0     372   \n",
       "6              6  Boreal Forests/Taiga        6.0     371   \n",
       "7              7  Boreal Forests/Taiga        6.0     377   \n",
       "8              8  Boreal Forests/Taiga        6.0     375   \n",
       "9              9  Boreal Forests/Taiga        6.0     381   \n",
       "10            10  Boreal Forests/Taiga        6.0     383   \n",
       "11            11  Boreal Forests/Taiga        6.0     380   \n",
       "12            12  Boreal Forests/Taiga        6.0     379   \n",
       "13            13  Boreal Forests/Taiga        6.0     376   \n",
       "14            14  Boreal Forests/Taiga        6.0     378   \n",
       "15            15  Boreal Forests/Taiga        6.0     720   \n",
       "16            16  Boreal Forests/Taiga        6.0     711   \n",
       "17            17  Boreal Forests/Taiga        6.0     710   \n",
       "18            18  Boreal Forests/Taiga        6.0     713   \n",
       "19            19  Boreal Forests/Taiga        6.0     712   \n",
       "20            20  Boreal Forests/Taiga        6.0     714   \n",
       "21            21  Boreal Forests/Taiga        6.0     715   \n",
       "22            22  Boreal Forests/Taiga        6.0     718   \n",
       "23            23  Boreal Forests/Taiga        6.0     716   \n",
       "24            24  Boreal Forests/Taiga        6.0     717   \n",
       "25            25  Boreal Forests/Taiga        6.0     719   \n",
       "\n",
       "                                          ECO_NAME       REALM  n_future  \\\n",
       "0                   Alaska Peninsula montane taiga    Nearctic        46   \n",
       "1                         Eastern Canadian forests    Nearctic       234   \n",
       "2                    Eastern Canadian Shield taiga    Nearctic       148   \n",
       "3                  Central Canadian Shield forests    Nearctic       210   \n",
       "4                        Southern Hudson Bay taiga    Nearctic       174   \n",
       "5                             Copper Plateau taiga    Nearctic        75   \n",
       "6                                 Cook Inlet taiga    Nearctic        57   \n",
       "7                  Midwest Canadian Shield forests    Nearctic       203   \n",
       "8              Interior Alaska-Yukon lowland taiga    Nearctic        70   \n",
       "9                      Northwest Territories taiga    Nearctic        65   \n",
       "10                          Watson Highlands taiga    Nearctic       109   \n",
       "11                     Northern Cordillera forests    Nearctic       174   \n",
       "12                  Northern Canadian Shield taiga    Nearctic        78   \n",
       "13                Mid-Canada Boreal Plains forests    Nearctic       179   \n",
       "14                         Muskwa-Slave Lake taiga    Nearctic       122   \n",
       "15                             West Siberian taiga  Palearctic        70   \n",
       "16  Iceland boreal birch forests and alpine tundra  Palearctic        57   \n",
       "17                             East Siberian taiga  Palearctic       103   \n",
       "18     Kamchatka-Kurile meadows and sparse forests  Palearctic       224   \n",
       "19                                 Kamchatka taiga  Palearctic        19   \n",
       "20                        Northeast Siberian taiga  Palearctic        62   \n",
       "21                        Okhotsk-Manchurian taiga  Palearctic       229   \n",
       "22                    Trans-Baikal conifer forests  Palearctic       100   \n",
       "23                           Sakhalin Island taiga  Palearctic       282   \n",
       "24                  Scandinavian and Russian taiga  Palearctic       181   \n",
       "25                  Urals montane forest and taiga  Palearctic        66   \n",
       "\n",
       "    n_gained  n_lost  n_present                                    .geo  \\\n",
       "0          3       2         45  {\"type\":\"MultiPoint\",\"coordinates\":[]}   \n",
       "1        104       4        134  {\"type\":\"MultiPoint\",\"coordinates\":[]}   \n",
       "2        105       0         43  {\"type\":\"MultiPoint\",\"coordinates\":[]}   \n",
       "3        146       6         70  {\"type\":\"MultiPoint\",\"coordinates\":[]}   \n",
       "4        136       1         39  {\"type\":\"MultiPoint\",\"coordinates\":[]}   \n",
       "5         30       0         45  {\"type\":\"MultiPoint\",\"coordinates\":[]}   \n",
       "6          8       1         50  {\"type\":\"MultiPoint\",\"coordinates\":[]}   \n",
       "7        131       5         77  {\"type\":\"MultiPoint\",\"coordinates\":[]}   \n",
       "8         24       0         46  {\"type\":\"MultiPoint\",\"coordinates\":[]}   \n",
       "9         40       0         25  {\"type\":\"MultiPoint\",\"coordinates\":[]}   \n",
       "10        64       0         45  {\"type\":\"MultiPoint\",\"coordinates\":[]}   \n",
       "11        75       1        100  {\"type\":\"MultiPoint\",\"coordinates\":[]}   \n",
       "12        54       0         24  {\"type\":\"MultiPoint\",\"coordinates\":[]}   \n",
       "13        81       9        107  {\"type\":\"MultiPoint\",\"coordinates\":[]}   \n",
       "14        82       4         44  {\"type\":\"MultiPoint\",\"coordinates\":[]}   \n",
       "15        40       2         32  {\"type\":\"MultiPoint\",\"coordinates\":[]}   \n",
       "16         3       0         54  {\"type\":\"MultiPoint\",\"coordinates\":[]}   \n",
       "17        37       4         70  {\"type\":\"MultiPoint\",\"coordinates\":[]}   \n",
       "18        57       0        167  {\"type\":\"MultiPoint\",\"coordinates\":[]}   \n",
       "19         2       0         17  {\"type\":\"MultiPoint\",\"coordinates\":[]}   \n",
       "20        29       0         33  {\"type\":\"MultiPoint\",\"coordinates\":[]}   \n",
       "21       116       1        114  {\"type\":\"MultiPoint\",\"coordinates\":[]}   \n",
       "22        38       3         65  {\"type\":\"MultiPoint\",\"coordinates\":[]}   \n",
       "23       102       2        182  {\"type\":\"MultiPoint\",\"coordinates\":[]}   \n",
       "24        25       0        156  {\"type\":\"MultiPoint\",\"coordinates\":[]}   \n",
       "25        32       1         35  {\"type\":\"MultiPoint\",\"coordinates\":[]}   \n",
       "\n",
       "      J_index  \n",
       "0   89.583333  \n",
       "1   54.621849  \n",
       "2   29.054054  \n",
       "3   29.629630  \n",
       "4   21.714286  \n",
       "5   60.000000  \n",
       "6   84.482759  \n",
       "7   34.615385  \n",
       "8   65.714286  \n",
       "9   38.461538  \n",
       "10  41.284404  \n",
       "11  56.571429  \n",
       "12  30.769231  \n",
       "13  52.127660  \n",
       "14  31.746032  \n",
       "15  41.666667  \n",
       "16  94.736842  \n",
       "17  61.682243  \n",
       "18  74.553571  \n",
       "19  89.473684  \n",
       "20  53.225806  \n",
       "21  49.130435  \n",
       "22  60.194175  \n",
       "23  63.380282  \n",
       "24  86.187845  \n",
       "25  50.746269  "
      ]
     },
     "execution_count": 4,
     "metadata": {},
     "output_type": "execute_result"
    }
   ],
   "source": [
    "f"
   ]
  },
  {
   "cell_type": "code",
   "execution_count": 48,
   "metadata": {},
   "outputs": [
    {
     "data": {
      "text/html": [
       "<div>\n",
       "<style scoped>\n",
       "    .dataframe tbody tr th:only-of-type {\n",
       "        vertical-align: middle;\n",
       "    }\n",
       "\n",
       "    .dataframe tbody tr th {\n",
       "        vertical-align: top;\n",
       "    }\n",
       "\n",
       "    .dataframe thead th {\n",
       "        text-align: right;\n",
       "    }\n",
       "</style>\n",
       "<table border=\"1\" class=\"dataframe\">\n",
       "  <thead>\n",
       "    <tr style=\"text-align: right;\">\n",
       "      <th></th>\n",
       "      <th>index</th>\n",
       "      <th>0</th>\n",
       "    </tr>\n",
       "  </thead>\n",
       "  <tbody>\n",
       "    <tr>\n",
       "      <th>0</th>\n",
       "      <td>n_present</td>\n",
       "      <td>45</td>\n",
       "    </tr>\n",
       "    <tr>\n",
       "      <th>1</th>\n",
       "      <td>n_gained</td>\n",
       "      <td>3</td>\n",
       "    </tr>\n",
       "    <tr>\n",
       "      <th>2</th>\n",
       "      <td>n_lost</td>\n",
       "      <td>2</td>\n",
       "    </tr>\n",
       "    <tr>\n",
       "      <th>3</th>\n",
       "      <td>J_index</td>\n",
       "      <td>89.583333</td>\n",
       "    </tr>\n",
       "  </tbody>\n",
       "</table>\n",
       "</div>"
      ],
      "text/plain": [
       "       index          0\n",
       "0  n_present         45\n",
       "1   n_gained          3\n",
       "2     n_lost          2\n",
       "3    J_index  89.583333"
      ]
     },
     "execution_count": 48,
     "metadata": {},
     "output_type": "execute_result"
    }
   ],
   "source": [
    "#f.iloc[0]\n",
    "df = pd.DataFrame(f.iloc[0][['n_present', 'n_gained', 'n_lost', 'J_index']]).reset_index()\n",
    "df"
   ]
  },
  {
   "cell_type": "code",
   "execution_count": 49,
   "metadata": {},
   "outputs": [
    {
     "name": "stdout",
     "output_type": "stream",
     "text": [
      "['n_present', 'n_gained', 'n_lost', 'J_index', 'n_present']\n",
      "    n_present  n_gained  n_lost    J_index  n_present\n",
      "25         35        32       1  50.746269         35\n",
      "[35.0, 32.0, 1.0, 50.74626865671642, 35.0]\n"
     ]
    }
   ],
   "source": [
    "\n",
    "\n",
    "eco = f[f['ECO_ID'] == 719][categories]\n",
    "print(eco)\n",
    "eco = list(eco.iloc[0,:])\n",
    "print(eco)"
   ]
  },
  {
   "cell_type": "code",
   "execution_count": 50,
   "metadata": {},
   "outputs": [
    {
     "data": {
      "text/plain": [
       "'temp-plot.html'"
      ]
     },
     "execution_count": 50,
     "metadata": {},
     "output_type": "execute_result"
    }
   ],
   "source": [
    "fig = go.Figure(data=[go.Scatterpolar(r=eco, theta=categories, name='Ecoregion 719')])\n",
    "pyo.plot(fig)"
   ]
  },
  {
   "cell_type": "code",
   "execution_count": 12,
   "metadata": {},
   "outputs": [
    {
     "name": "stdout",
     "output_type": "stream",
     "text": [
      "['n_present', 'n_future', 'n_gained', 'n_lost', 'n_present']\n"
     ]
    }
   ],
   "source": [
    "categories = ['n_present', 'n_future', 'n_gained', 'n_lost']#, 'J_index']\n",
    "categories = [*categories, categories[0]]\n",
    "print(categories)"
   ]
  },
  {
   "cell_type": "code",
   "execution_count": 13,
   "metadata": {},
   "outputs": [
    {
     "data": {
      "application/vnd.plotly.v1+json": {
       "config": {
        "plotlyServerURL": "https://plot.ly"
       },
       "data": [
        {
         "r": [
          45,
          46,
          3,
          2,
          45
         ],
         "theta": [
          "n_present",
          "n_future",
          "n_gained",
          "n_lost",
          "n_present"
         ],
         "type": "scatterpolar"
        },
        {
         "r": [
          134,
          234,
          104,
          4,
          134
         ],
         "theta": [
          "n_present",
          "n_future",
          "n_gained",
          "n_lost",
          "n_present"
         ],
         "type": "scatterpolar"
        },
        {
         "r": [
          43,
          148,
          105,
          0,
          43
         ],
         "theta": [
          "n_present",
          "n_future",
          "n_gained",
          "n_lost",
          "n_present"
         ],
         "type": "scatterpolar"
        },
        {
         "r": [
          70,
          210,
          146,
          6,
          70
         ],
         "theta": [
          "n_present",
          "n_future",
          "n_gained",
          "n_lost",
          "n_present"
         ],
         "type": "scatterpolar"
        },
        {
         "r": [
          39,
          174,
          136,
          1,
          39
         ],
         "theta": [
          "n_present",
          "n_future",
          "n_gained",
          "n_lost",
          "n_present"
         ],
         "type": "scatterpolar"
        },
        {
         "r": [
          45,
          75,
          30,
          0,
          45
         ],
         "theta": [
          "n_present",
          "n_future",
          "n_gained",
          "n_lost",
          "n_present"
         ],
         "type": "scatterpolar"
        },
        {
         "r": [
          50,
          57,
          8,
          1,
          50
         ],
         "theta": [
          "n_present",
          "n_future",
          "n_gained",
          "n_lost",
          "n_present"
         ],
         "type": "scatterpolar"
        },
        {
         "r": [
          77,
          203,
          131,
          5,
          77
         ],
         "theta": [
          "n_present",
          "n_future",
          "n_gained",
          "n_lost",
          "n_present"
         ],
         "type": "scatterpolar"
        },
        {
         "r": [
          46,
          70,
          24,
          0,
          46
         ],
         "theta": [
          "n_present",
          "n_future",
          "n_gained",
          "n_lost",
          "n_present"
         ],
         "type": "scatterpolar"
        },
        {
         "r": [
          25,
          65,
          40,
          0,
          25
         ],
         "theta": [
          "n_present",
          "n_future",
          "n_gained",
          "n_lost",
          "n_present"
         ],
         "type": "scatterpolar"
        },
        {
         "r": [
          45,
          109,
          64,
          0,
          45
         ],
         "theta": [
          "n_present",
          "n_future",
          "n_gained",
          "n_lost",
          "n_present"
         ],
         "type": "scatterpolar"
        },
        {
         "r": [
          100,
          174,
          75,
          1,
          100
         ],
         "theta": [
          "n_present",
          "n_future",
          "n_gained",
          "n_lost",
          "n_present"
         ],
         "type": "scatterpolar"
        },
        {
         "r": [
          24,
          78,
          54,
          0,
          24
         ],
         "theta": [
          "n_present",
          "n_future",
          "n_gained",
          "n_lost",
          "n_present"
         ],
         "type": "scatterpolar"
        },
        {
         "r": [
          107,
          179,
          81,
          9,
          107
         ],
         "theta": [
          "n_present",
          "n_future",
          "n_gained",
          "n_lost",
          "n_present"
         ],
         "type": "scatterpolar"
        },
        {
         "r": [
          44,
          122,
          82,
          4,
          44
         ],
         "theta": [
          "n_present",
          "n_future",
          "n_gained",
          "n_lost",
          "n_present"
         ],
         "type": "scatterpolar"
        },
        {
         "r": [
          32,
          70,
          40,
          2,
          32
         ],
         "theta": [
          "n_present",
          "n_future",
          "n_gained",
          "n_lost",
          "n_present"
         ],
         "type": "scatterpolar"
        },
        {
         "r": [
          54,
          57,
          3,
          0,
          54
         ],
         "theta": [
          "n_present",
          "n_future",
          "n_gained",
          "n_lost",
          "n_present"
         ],
         "type": "scatterpolar"
        },
        {
         "r": [
          70,
          103,
          37,
          4,
          70
         ],
         "theta": [
          "n_present",
          "n_future",
          "n_gained",
          "n_lost",
          "n_present"
         ],
         "type": "scatterpolar"
        },
        {
         "r": [
          167,
          224,
          57,
          0,
          167
         ],
         "theta": [
          "n_present",
          "n_future",
          "n_gained",
          "n_lost",
          "n_present"
         ],
         "type": "scatterpolar"
        },
        {
         "r": [
          17,
          19,
          2,
          0,
          17
         ],
         "theta": [
          "n_present",
          "n_future",
          "n_gained",
          "n_lost",
          "n_present"
         ],
         "type": "scatterpolar"
        },
        {
         "r": [
          33,
          62,
          29,
          0,
          33
         ],
         "theta": [
          "n_present",
          "n_future",
          "n_gained",
          "n_lost",
          "n_present"
         ],
         "type": "scatterpolar"
        },
        {
         "r": [
          114,
          229,
          116,
          1,
          114
         ],
         "theta": [
          "n_present",
          "n_future",
          "n_gained",
          "n_lost",
          "n_present"
         ],
         "type": "scatterpolar"
        },
        {
         "r": [
          65,
          100,
          38,
          3,
          65
         ],
         "theta": [
          "n_present",
          "n_future",
          "n_gained",
          "n_lost",
          "n_present"
         ],
         "type": "scatterpolar"
        },
        {
         "r": [
          182,
          282,
          102,
          2,
          182
         ],
         "theta": [
          "n_present",
          "n_future",
          "n_gained",
          "n_lost",
          "n_present"
         ],
         "type": "scatterpolar"
        },
        {
         "r": [
          156,
          181,
          25,
          0,
          156
         ],
         "theta": [
          "n_present",
          "n_future",
          "n_gained",
          "n_lost",
          "n_present"
         ],
         "type": "scatterpolar"
        },
        {
         "r": [
          35,
          66,
          32,
          1,
          35
         ],
         "theta": [
          "n_present",
          "n_future",
          "n_gained",
          "n_lost",
          "n_present"
         ],
         "type": "scatterpolar"
        }
       ],
       "layout": {
        "template": {
         "data": {
          "bar": [
           {
            "error_x": {
             "color": "#2a3f5f"
            },
            "error_y": {
             "color": "#2a3f5f"
            },
            "marker": {
             "line": {
              "color": "#E5ECF6",
              "width": 0.5
             },
             "pattern": {
              "fillmode": "overlay",
              "size": 10,
              "solidity": 0.2
             }
            },
            "type": "bar"
           }
          ],
          "barpolar": [
           {
            "marker": {
             "line": {
              "color": "#E5ECF6",
              "width": 0.5
             },
             "pattern": {
              "fillmode": "overlay",
              "size": 10,
              "solidity": 0.2
             }
            },
            "type": "barpolar"
           }
          ],
          "carpet": [
           {
            "aaxis": {
             "endlinecolor": "#2a3f5f",
             "gridcolor": "white",
             "linecolor": "white",
             "minorgridcolor": "white",
             "startlinecolor": "#2a3f5f"
            },
            "baxis": {
             "endlinecolor": "#2a3f5f",
             "gridcolor": "white",
             "linecolor": "white",
             "minorgridcolor": "white",
             "startlinecolor": "#2a3f5f"
            },
            "type": "carpet"
           }
          ],
          "choropleth": [
           {
            "colorbar": {
             "outlinewidth": 0,
             "ticks": ""
            },
            "type": "choropleth"
           }
          ],
          "contour": [
           {
            "colorbar": {
             "outlinewidth": 0,
             "ticks": ""
            },
            "colorscale": [
             [
              0,
              "#0d0887"
             ],
             [
              0.1111111111111111,
              "#46039f"
             ],
             [
              0.2222222222222222,
              "#7201a8"
             ],
             [
              0.3333333333333333,
              "#9c179e"
             ],
             [
              0.4444444444444444,
              "#bd3786"
             ],
             [
              0.5555555555555556,
              "#d8576b"
             ],
             [
              0.6666666666666666,
              "#ed7953"
             ],
             [
              0.7777777777777778,
              "#fb9f3a"
             ],
             [
              0.8888888888888888,
              "#fdca26"
             ],
             [
              1,
              "#f0f921"
             ]
            ],
            "type": "contour"
           }
          ],
          "contourcarpet": [
           {
            "colorbar": {
             "outlinewidth": 0,
             "ticks": ""
            },
            "type": "contourcarpet"
           }
          ],
          "heatmap": [
           {
            "colorbar": {
             "outlinewidth": 0,
             "ticks": ""
            },
            "colorscale": [
             [
              0,
              "#0d0887"
             ],
             [
              0.1111111111111111,
              "#46039f"
             ],
             [
              0.2222222222222222,
              "#7201a8"
             ],
             [
              0.3333333333333333,
              "#9c179e"
             ],
             [
              0.4444444444444444,
              "#bd3786"
             ],
             [
              0.5555555555555556,
              "#d8576b"
             ],
             [
              0.6666666666666666,
              "#ed7953"
             ],
             [
              0.7777777777777778,
              "#fb9f3a"
             ],
             [
              0.8888888888888888,
              "#fdca26"
             ],
             [
              1,
              "#f0f921"
             ]
            ],
            "type": "heatmap"
           }
          ],
          "heatmapgl": [
           {
            "colorbar": {
             "outlinewidth": 0,
             "ticks": ""
            },
            "colorscale": [
             [
              0,
              "#0d0887"
             ],
             [
              0.1111111111111111,
              "#46039f"
             ],
             [
              0.2222222222222222,
              "#7201a8"
             ],
             [
              0.3333333333333333,
              "#9c179e"
             ],
             [
              0.4444444444444444,
              "#bd3786"
             ],
             [
              0.5555555555555556,
              "#d8576b"
             ],
             [
              0.6666666666666666,
              "#ed7953"
             ],
             [
              0.7777777777777778,
              "#fb9f3a"
             ],
             [
              0.8888888888888888,
              "#fdca26"
             ],
             [
              1,
              "#f0f921"
             ]
            ],
            "type": "heatmapgl"
           }
          ],
          "histogram": [
           {
            "marker": {
             "pattern": {
              "fillmode": "overlay",
              "size": 10,
              "solidity": 0.2
             }
            },
            "type": "histogram"
           }
          ],
          "histogram2d": [
           {
            "colorbar": {
             "outlinewidth": 0,
             "ticks": ""
            },
            "colorscale": [
             [
              0,
              "#0d0887"
             ],
             [
              0.1111111111111111,
              "#46039f"
             ],
             [
              0.2222222222222222,
              "#7201a8"
             ],
             [
              0.3333333333333333,
              "#9c179e"
             ],
             [
              0.4444444444444444,
              "#bd3786"
             ],
             [
              0.5555555555555556,
              "#d8576b"
             ],
             [
              0.6666666666666666,
              "#ed7953"
             ],
             [
              0.7777777777777778,
              "#fb9f3a"
             ],
             [
              0.8888888888888888,
              "#fdca26"
             ],
             [
              1,
              "#f0f921"
             ]
            ],
            "type": "histogram2d"
           }
          ],
          "histogram2dcontour": [
           {
            "colorbar": {
             "outlinewidth": 0,
             "ticks": ""
            },
            "colorscale": [
             [
              0,
              "#0d0887"
             ],
             [
              0.1111111111111111,
              "#46039f"
             ],
             [
              0.2222222222222222,
              "#7201a8"
             ],
             [
              0.3333333333333333,
              "#9c179e"
             ],
             [
              0.4444444444444444,
              "#bd3786"
             ],
             [
              0.5555555555555556,
              "#d8576b"
             ],
             [
              0.6666666666666666,
              "#ed7953"
             ],
             [
              0.7777777777777778,
              "#fb9f3a"
             ],
             [
              0.8888888888888888,
              "#fdca26"
             ],
             [
              1,
              "#f0f921"
             ]
            ],
            "type": "histogram2dcontour"
           }
          ],
          "mesh3d": [
           {
            "colorbar": {
             "outlinewidth": 0,
             "ticks": ""
            },
            "type": "mesh3d"
           }
          ],
          "parcoords": [
           {
            "line": {
             "colorbar": {
              "outlinewidth": 0,
              "ticks": ""
             }
            },
            "type": "parcoords"
           }
          ],
          "pie": [
           {
            "automargin": true,
            "type": "pie"
           }
          ],
          "scatter": [
           {
            "fillpattern": {
             "fillmode": "overlay",
             "size": 10,
             "solidity": 0.2
            },
            "type": "scatter"
           }
          ],
          "scatter3d": [
           {
            "line": {
             "colorbar": {
              "outlinewidth": 0,
              "ticks": ""
             }
            },
            "marker": {
             "colorbar": {
              "outlinewidth": 0,
              "ticks": ""
             }
            },
            "type": "scatter3d"
           }
          ],
          "scattercarpet": [
           {
            "marker": {
             "colorbar": {
              "outlinewidth": 0,
              "ticks": ""
             }
            },
            "type": "scattercarpet"
           }
          ],
          "scattergeo": [
           {
            "marker": {
             "colorbar": {
              "outlinewidth": 0,
              "ticks": ""
             }
            },
            "type": "scattergeo"
           }
          ],
          "scattergl": [
           {
            "marker": {
             "colorbar": {
              "outlinewidth": 0,
              "ticks": ""
             }
            },
            "type": "scattergl"
           }
          ],
          "scattermapbox": [
           {
            "marker": {
             "colorbar": {
              "outlinewidth": 0,
              "ticks": ""
             }
            },
            "type": "scattermapbox"
           }
          ],
          "scatterpolar": [
           {
            "marker": {
             "colorbar": {
              "outlinewidth": 0,
              "ticks": ""
             }
            },
            "type": "scatterpolar"
           }
          ],
          "scatterpolargl": [
           {
            "marker": {
             "colorbar": {
              "outlinewidth": 0,
              "ticks": ""
             }
            },
            "type": "scatterpolargl"
           }
          ],
          "scatterternary": [
           {
            "marker": {
             "colorbar": {
              "outlinewidth": 0,
              "ticks": ""
             }
            },
            "type": "scatterternary"
           }
          ],
          "surface": [
           {
            "colorbar": {
             "outlinewidth": 0,
             "ticks": ""
            },
            "colorscale": [
             [
              0,
              "#0d0887"
             ],
             [
              0.1111111111111111,
              "#46039f"
             ],
             [
              0.2222222222222222,
              "#7201a8"
             ],
             [
              0.3333333333333333,
              "#9c179e"
             ],
             [
              0.4444444444444444,
              "#bd3786"
             ],
             [
              0.5555555555555556,
              "#d8576b"
             ],
             [
              0.6666666666666666,
              "#ed7953"
             ],
             [
              0.7777777777777778,
              "#fb9f3a"
             ],
             [
              0.8888888888888888,
              "#fdca26"
             ],
             [
              1,
              "#f0f921"
             ]
            ],
            "type": "surface"
           }
          ],
          "table": [
           {
            "cells": {
             "fill": {
              "color": "#EBF0F8"
             },
             "line": {
              "color": "white"
             }
            },
            "header": {
             "fill": {
              "color": "#C8D4E3"
             },
             "line": {
              "color": "white"
             }
            },
            "type": "table"
           }
          ]
         },
         "layout": {
          "annotationdefaults": {
           "arrowcolor": "#2a3f5f",
           "arrowhead": 0,
           "arrowwidth": 1
          },
          "autotypenumbers": "strict",
          "coloraxis": {
           "colorbar": {
            "outlinewidth": 0,
            "ticks": ""
           }
          },
          "colorscale": {
           "diverging": [
            [
             0,
             "#8e0152"
            ],
            [
             0.1,
             "#c51b7d"
            ],
            [
             0.2,
             "#de77ae"
            ],
            [
             0.3,
             "#f1b6da"
            ],
            [
             0.4,
             "#fde0ef"
            ],
            [
             0.5,
             "#f7f7f7"
            ],
            [
             0.6,
             "#e6f5d0"
            ],
            [
             0.7,
             "#b8e186"
            ],
            [
             0.8,
             "#7fbc41"
            ],
            [
             0.9,
             "#4d9221"
            ],
            [
             1,
             "#276419"
            ]
           ],
           "sequential": [
            [
             0,
             "#0d0887"
            ],
            [
             0.1111111111111111,
             "#46039f"
            ],
            [
             0.2222222222222222,
             "#7201a8"
            ],
            [
             0.3333333333333333,
             "#9c179e"
            ],
            [
             0.4444444444444444,
             "#bd3786"
            ],
            [
             0.5555555555555556,
             "#d8576b"
            ],
            [
             0.6666666666666666,
             "#ed7953"
            ],
            [
             0.7777777777777778,
             "#fb9f3a"
            ],
            [
             0.8888888888888888,
             "#fdca26"
            ],
            [
             1,
             "#f0f921"
            ]
           ],
           "sequentialminus": [
            [
             0,
             "#0d0887"
            ],
            [
             0.1111111111111111,
             "#46039f"
            ],
            [
             0.2222222222222222,
             "#7201a8"
            ],
            [
             0.3333333333333333,
             "#9c179e"
            ],
            [
             0.4444444444444444,
             "#bd3786"
            ],
            [
             0.5555555555555556,
             "#d8576b"
            ],
            [
             0.6666666666666666,
             "#ed7953"
            ],
            [
             0.7777777777777778,
             "#fb9f3a"
            ],
            [
             0.8888888888888888,
             "#fdca26"
            ],
            [
             1,
             "#f0f921"
            ]
           ]
          },
          "colorway": [
           "#636efa",
           "#EF553B",
           "#00cc96",
           "#ab63fa",
           "#FFA15A",
           "#19d3f3",
           "#FF6692",
           "#B6E880",
           "#FF97FF",
           "#FECB52"
          ],
          "font": {
           "color": "#2a3f5f"
          },
          "geo": {
           "bgcolor": "white",
           "lakecolor": "white",
           "landcolor": "#E5ECF6",
           "showlakes": true,
           "showland": true,
           "subunitcolor": "white"
          },
          "hoverlabel": {
           "align": "left"
          },
          "hovermode": "closest",
          "mapbox": {
           "style": "light"
          },
          "paper_bgcolor": "white",
          "plot_bgcolor": "#E5ECF6",
          "polar": {
           "angularaxis": {
            "gridcolor": "white",
            "linecolor": "white",
            "ticks": ""
           },
           "bgcolor": "#E5ECF6",
           "radialaxis": {
            "gridcolor": "white",
            "linecolor": "white",
            "ticks": ""
           }
          },
          "scene": {
           "xaxis": {
            "backgroundcolor": "#E5ECF6",
            "gridcolor": "white",
            "gridwidth": 2,
            "linecolor": "white",
            "showbackground": true,
            "ticks": "",
            "zerolinecolor": "white"
           },
           "yaxis": {
            "backgroundcolor": "#E5ECF6",
            "gridcolor": "white",
            "gridwidth": 2,
            "linecolor": "white",
            "showbackground": true,
            "ticks": "",
            "zerolinecolor": "white"
           },
           "zaxis": {
            "backgroundcolor": "#E5ECF6",
            "gridcolor": "white",
            "gridwidth": 2,
            "linecolor": "white",
            "showbackground": true,
            "ticks": "",
            "zerolinecolor": "white"
           }
          },
          "shapedefaults": {
           "line": {
            "color": "#2a3f5f"
           }
          },
          "ternary": {
           "aaxis": {
            "gridcolor": "white",
            "linecolor": "white",
            "ticks": ""
           },
           "baxis": {
            "gridcolor": "white",
            "linecolor": "white",
            "ticks": ""
           },
           "bgcolor": "#E5ECF6",
           "caxis": {
            "gridcolor": "white",
            "linecolor": "white",
            "ticks": ""
           }
          },
          "title": {
           "x": 0.05
          },
          "xaxis": {
           "automargin": true,
           "gridcolor": "white",
           "linecolor": "white",
           "ticks": "",
           "title": {
            "standoff": 15
           },
           "zerolinecolor": "white",
           "zerolinewidth": 2
          },
          "yaxis": {
           "automargin": true,
           "gridcolor": "white",
           "linecolor": "white",
           "ticks": "",
           "title": {
            "standoff": 15
           },
           "zerolinecolor": "white",
           "zerolinewidth": 2
          }
         }
        }
       }
      }
     },
     "metadata": {},
     "output_type": "display_data"
    }
   ],
   "source": [
    "# plot each ecoregion in the biome\n",
    "fig = go.Figure(\n",
    "    data = [go.Scatterpolar(r=list(l[1][categories]), theta=categories) for l in f.iterrows()])\n",
    "#pyo.plot(fig)\n",
    "fig.show()"
   ]
  },
  {
   "cell_type": "code",
   "execution_count": 14,
   "metadata": {},
   "outputs": [
    {
     "data": {
      "application/vnd.plotly.v1+json": {
       "config": {
        "plotlyServerURL": "https://plot.ly"
       },
       "data": [
        {
         "r": [
          48,
          106,
          47,
          1,
          48
         ],
         "theta": [
          "n_present",
          "n_future",
          "n_gained",
          "n_lost",
          "n_present"
         ],
         "type": "scatterpolar"
        }
       ],
       "layout": {
        "template": {
         "data": {
          "bar": [
           {
            "error_x": {
             "color": "#2a3f5f"
            },
            "error_y": {
             "color": "#2a3f5f"
            },
            "marker": {
             "line": {
              "color": "#E5ECF6",
              "width": 0.5
             },
             "pattern": {
              "fillmode": "overlay",
              "size": 10,
              "solidity": 0.2
             }
            },
            "type": "bar"
           }
          ],
          "barpolar": [
           {
            "marker": {
             "line": {
              "color": "#E5ECF6",
              "width": 0.5
             },
             "pattern": {
              "fillmode": "overlay",
              "size": 10,
              "solidity": 0.2
             }
            },
            "type": "barpolar"
           }
          ],
          "carpet": [
           {
            "aaxis": {
             "endlinecolor": "#2a3f5f",
             "gridcolor": "white",
             "linecolor": "white",
             "minorgridcolor": "white",
             "startlinecolor": "#2a3f5f"
            },
            "baxis": {
             "endlinecolor": "#2a3f5f",
             "gridcolor": "white",
             "linecolor": "white",
             "minorgridcolor": "white",
             "startlinecolor": "#2a3f5f"
            },
            "type": "carpet"
           }
          ],
          "choropleth": [
           {
            "colorbar": {
             "outlinewidth": 0,
             "ticks": ""
            },
            "type": "choropleth"
           }
          ],
          "contour": [
           {
            "colorbar": {
             "outlinewidth": 0,
             "ticks": ""
            },
            "colorscale": [
             [
              0,
              "#0d0887"
             ],
             [
              0.1111111111111111,
              "#46039f"
             ],
             [
              0.2222222222222222,
              "#7201a8"
             ],
             [
              0.3333333333333333,
              "#9c179e"
             ],
             [
              0.4444444444444444,
              "#bd3786"
             ],
             [
              0.5555555555555556,
              "#d8576b"
             ],
             [
              0.6666666666666666,
              "#ed7953"
             ],
             [
              0.7777777777777778,
              "#fb9f3a"
             ],
             [
              0.8888888888888888,
              "#fdca26"
             ],
             [
              1,
              "#f0f921"
             ]
            ],
            "type": "contour"
           }
          ],
          "contourcarpet": [
           {
            "colorbar": {
             "outlinewidth": 0,
             "ticks": ""
            },
            "type": "contourcarpet"
           }
          ],
          "heatmap": [
           {
            "colorbar": {
             "outlinewidth": 0,
             "ticks": ""
            },
            "colorscale": [
             [
              0,
              "#0d0887"
             ],
             [
              0.1111111111111111,
              "#46039f"
             ],
             [
              0.2222222222222222,
              "#7201a8"
             ],
             [
              0.3333333333333333,
              "#9c179e"
             ],
             [
              0.4444444444444444,
              "#bd3786"
             ],
             [
              0.5555555555555556,
              "#d8576b"
             ],
             [
              0.6666666666666666,
              "#ed7953"
             ],
             [
              0.7777777777777778,
              "#fb9f3a"
             ],
             [
              0.8888888888888888,
              "#fdca26"
             ],
             [
              1,
              "#f0f921"
             ]
            ],
            "type": "heatmap"
           }
          ],
          "heatmapgl": [
           {
            "colorbar": {
             "outlinewidth": 0,
             "ticks": ""
            },
            "colorscale": [
             [
              0,
              "#0d0887"
             ],
             [
              0.1111111111111111,
              "#46039f"
             ],
             [
              0.2222222222222222,
              "#7201a8"
             ],
             [
              0.3333333333333333,
              "#9c179e"
             ],
             [
              0.4444444444444444,
              "#bd3786"
             ],
             [
              0.5555555555555556,
              "#d8576b"
             ],
             [
              0.6666666666666666,
              "#ed7953"
             ],
             [
              0.7777777777777778,
              "#fb9f3a"
             ],
             [
              0.8888888888888888,
              "#fdca26"
             ],
             [
              1,
              "#f0f921"
             ]
            ],
            "type": "heatmapgl"
           }
          ],
          "histogram": [
           {
            "marker": {
             "pattern": {
              "fillmode": "overlay",
              "size": 10,
              "solidity": 0.2
             }
            },
            "type": "histogram"
           }
          ],
          "histogram2d": [
           {
            "colorbar": {
             "outlinewidth": 0,
             "ticks": ""
            },
            "colorscale": [
             [
              0,
              "#0d0887"
             ],
             [
              0.1111111111111111,
              "#46039f"
             ],
             [
              0.2222222222222222,
              "#7201a8"
             ],
             [
              0.3333333333333333,
              "#9c179e"
             ],
             [
              0.4444444444444444,
              "#bd3786"
             ],
             [
              0.5555555555555556,
              "#d8576b"
             ],
             [
              0.6666666666666666,
              "#ed7953"
             ],
             [
              0.7777777777777778,
              "#fb9f3a"
             ],
             [
              0.8888888888888888,
              "#fdca26"
             ],
             [
              1,
              "#f0f921"
             ]
            ],
            "type": "histogram2d"
           }
          ],
          "histogram2dcontour": [
           {
            "colorbar": {
             "outlinewidth": 0,
             "ticks": ""
            },
            "colorscale": [
             [
              0,
              "#0d0887"
             ],
             [
              0.1111111111111111,
              "#46039f"
             ],
             [
              0.2222222222222222,
              "#7201a8"
             ],
             [
              0.3333333333333333,
              "#9c179e"
             ],
             [
              0.4444444444444444,
              "#bd3786"
             ],
             [
              0.5555555555555556,
              "#d8576b"
             ],
             [
              0.6666666666666666,
              "#ed7953"
             ],
             [
              0.7777777777777778,
              "#fb9f3a"
             ],
             [
              0.8888888888888888,
              "#fdca26"
             ],
             [
              1,
              "#f0f921"
             ]
            ],
            "type": "histogram2dcontour"
           }
          ],
          "mesh3d": [
           {
            "colorbar": {
             "outlinewidth": 0,
             "ticks": ""
            },
            "type": "mesh3d"
           }
          ],
          "parcoords": [
           {
            "line": {
             "colorbar": {
              "outlinewidth": 0,
              "ticks": ""
             }
            },
            "type": "parcoords"
           }
          ],
          "pie": [
           {
            "automargin": true,
            "type": "pie"
           }
          ],
          "scatter": [
           {
            "fillpattern": {
             "fillmode": "overlay",
             "size": 10,
             "solidity": 0.2
            },
            "type": "scatter"
           }
          ],
          "scatter3d": [
           {
            "line": {
             "colorbar": {
              "outlinewidth": 0,
              "ticks": ""
             }
            },
            "marker": {
             "colorbar": {
              "outlinewidth": 0,
              "ticks": ""
             }
            },
            "type": "scatter3d"
           }
          ],
          "scattercarpet": [
           {
            "marker": {
             "colorbar": {
              "outlinewidth": 0,
              "ticks": ""
             }
            },
            "type": "scattercarpet"
           }
          ],
          "scattergeo": [
           {
            "marker": {
             "colorbar": {
              "outlinewidth": 0,
              "ticks": ""
             }
            },
            "type": "scattergeo"
           }
          ],
          "scattergl": [
           {
            "marker": {
             "colorbar": {
              "outlinewidth": 0,
              "ticks": ""
             }
            },
            "type": "scattergl"
           }
          ],
          "scattermapbox": [
           {
            "marker": {
             "colorbar": {
              "outlinewidth": 0,
              "ticks": ""
             }
            },
            "type": "scattermapbox"
           }
          ],
          "scatterpolar": [
           {
            "marker": {
             "colorbar": {
              "outlinewidth": 0,
              "ticks": ""
             }
            },
            "type": "scatterpolar"
           }
          ],
          "scatterpolargl": [
           {
            "marker": {
             "colorbar": {
              "outlinewidth": 0,
              "ticks": ""
             }
            },
            "type": "scatterpolargl"
           }
          ],
          "scatterternary": [
           {
            "marker": {
             "colorbar": {
              "outlinewidth": 0,
              "ticks": ""
             }
            },
            "type": "scatterternary"
           }
          ],
          "surface": [
           {
            "colorbar": {
             "outlinewidth": 0,
             "ticks": ""
            },
            "colorscale": [
             [
              0,
              "#0d0887"
             ],
             [
              0.1111111111111111,
              "#46039f"
             ],
             [
              0.2222222222222222,
              "#7201a8"
             ],
             [
              0.3333333333333333,
              "#9c179e"
             ],
             [
              0.4444444444444444,
              "#bd3786"
             ],
             [
              0.5555555555555556,
              "#d8576b"
             ],
             [
              0.6666666666666666,
              "#ed7953"
             ],
             [
              0.7777777777777778,
              "#fb9f3a"
             ],
             [
              0.8888888888888888,
              "#fdca26"
             ],
             [
              1,
              "#f0f921"
             ]
            ],
            "type": "surface"
           }
          ],
          "table": [
           {
            "cells": {
             "fill": {
              "color": "#EBF0F8"
             },
             "line": {
              "color": "white"
             }
            },
            "header": {
             "fill": {
              "color": "#C8D4E3"
             },
             "line": {
              "color": "white"
             }
            },
            "type": "table"
           }
          ]
         },
         "layout": {
          "annotationdefaults": {
           "arrowcolor": "#2a3f5f",
           "arrowhead": 0,
           "arrowwidth": 1
          },
          "autotypenumbers": "strict",
          "coloraxis": {
           "colorbar": {
            "outlinewidth": 0,
            "ticks": ""
           }
          },
          "colorscale": {
           "diverging": [
            [
             0,
             "#8e0152"
            ],
            [
             0.1,
             "#c51b7d"
            ],
            [
             0.2,
             "#de77ae"
            ],
            [
             0.3,
             "#f1b6da"
            ],
            [
             0.4,
             "#fde0ef"
            ],
            [
             0.5,
             "#f7f7f7"
            ],
            [
             0.6,
             "#e6f5d0"
            ],
            [
             0.7,
             "#b8e186"
            ],
            [
             0.8,
             "#7fbc41"
            ],
            [
             0.9,
             "#4d9221"
            ],
            [
             1,
             "#276419"
            ]
           ],
           "sequential": [
            [
             0,
             "#0d0887"
            ],
            [
             0.1111111111111111,
             "#46039f"
            ],
            [
             0.2222222222222222,
             "#7201a8"
            ],
            [
             0.3333333333333333,
             "#9c179e"
            ],
            [
             0.4444444444444444,
             "#bd3786"
            ],
            [
             0.5555555555555556,
             "#d8576b"
            ],
            [
             0.6666666666666666,
             "#ed7953"
            ],
            [
             0.7777777777777778,
             "#fb9f3a"
            ],
            [
             0.8888888888888888,
             "#fdca26"
            ],
            [
             1,
             "#f0f921"
            ]
           ],
           "sequentialminus": [
            [
             0,
             "#0d0887"
            ],
            [
             0.1111111111111111,
             "#46039f"
            ],
            [
             0.2222222222222222,
             "#7201a8"
            ],
            [
             0.3333333333333333,
             "#9c179e"
            ],
            [
             0.4444444444444444,
             "#bd3786"
            ],
            [
             0.5555555555555556,
             "#d8576b"
            ],
            [
             0.6666666666666666,
             "#ed7953"
            ],
            [
             0.7777777777777778,
             "#fb9f3a"
            ],
            [
             0.8888888888888888,
             "#fdca26"
            ],
            [
             1,
             "#f0f921"
            ]
           ]
          },
          "colorway": [
           "#636efa",
           "#EF553B",
           "#00cc96",
           "#ab63fa",
           "#FFA15A",
           "#19d3f3",
           "#FF6692",
           "#B6E880",
           "#FF97FF",
           "#FECB52"
          ],
          "font": {
           "color": "#2a3f5f"
          },
          "geo": {
           "bgcolor": "white",
           "lakecolor": "white",
           "landcolor": "#E5ECF6",
           "showlakes": true,
           "showland": true,
           "subunitcolor": "white"
          },
          "hoverlabel": {
           "align": "left"
          },
          "hovermode": "closest",
          "mapbox": {
           "style": "light"
          },
          "paper_bgcolor": "white",
          "plot_bgcolor": "#E5ECF6",
          "polar": {
           "angularaxis": {
            "gridcolor": "white",
            "linecolor": "white",
            "ticks": ""
           },
           "bgcolor": "#E5ECF6",
           "radialaxis": {
            "gridcolor": "white",
            "linecolor": "white",
            "ticks": ""
           }
          },
          "scene": {
           "xaxis": {
            "backgroundcolor": "#E5ECF6",
            "gridcolor": "white",
            "gridwidth": 2,
            "linecolor": "white",
            "showbackground": true,
            "ticks": "",
            "zerolinecolor": "white"
           },
           "yaxis": {
            "backgroundcolor": "#E5ECF6",
            "gridcolor": "white",
            "gridwidth": 2,
            "linecolor": "white",
            "showbackground": true,
            "ticks": "",
            "zerolinecolor": "white"
           },
           "zaxis": {
            "backgroundcolor": "#E5ECF6",
            "gridcolor": "white",
            "gridwidth": 2,
            "linecolor": "white",
            "showbackground": true,
            "ticks": "",
            "zerolinecolor": "white"
           }
          },
          "shapedefaults": {
           "line": {
            "color": "#2a3f5f"
           }
          },
          "ternary": {
           "aaxis": {
            "gridcolor": "white",
            "linecolor": "white",
            "ticks": ""
           },
           "baxis": {
            "gridcolor": "white",
            "linecolor": "white",
            "ticks": ""
           },
           "bgcolor": "#E5ECF6",
           "caxis": {
            "gridcolor": "white",
            "linecolor": "white",
            "ticks": ""
           }
          },
          "title": {
           "x": 0.05
          },
          "xaxis": {
           "automargin": true,
           "gridcolor": "white",
           "linecolor": "white",
           "ticks": "",
           "title": {
            "standoff": 15
           },
           "zerolinecolor": "white",
           "zerolinewidth": 2
          },
          "yaxis": {
           "automargin": true,
           "gridcolor": "white",
           "linecolor": "white",
           "ticks": "",
           "title": {
            "standoff": 15
           },
           "zerolinecolor": "white",
           "zerolinewidth": 2
          }
         }
        }
       }
      }
     },
     "metadata": {},
     "output_type": "display_data"
    }
   ],
   "source": [
    "# plot the median across all ecoregions in the biome\n",
    "fig = go.Figure(\n",
    "    data = [go.Scatterpolar(r=list(f[categories].median(axis=0)), theta=categories)])\n",
    "#pyo.plot(fig)\n",
    "fig.show()"
   ]
  },
  {
   "cell_type": "code",
   "execution_count": null,
   "metadata": {},
   "outputs": [],
   "source": []
  }
 ],
 "metadata": {
  "kernelspec": {
   "display_name": "Python 3.8.13 ('ee')",
   "language": "python",
   "name": "python3"
  },
  "language_info": {
   "codemirror_mode": {
    "name": "ipython",
    "version": 3
   },
   "file_extension": ".py",
   "mimetype": "text/x-python",
   "name": "python",
   "nbconvert_exporter": "python",
   "pygments_lexer": "ipython3",
   "version": "3.8.13"
  },
  "orig_nbformat": 4,
  "vscode": {
   "interpreter": {
    "hash": "6073755aa6f12da173ae60060eb9721bff4ec494b8627df73ca8d827240fcf4a"
   }
  }
 },
 "nbformat": 4,
 "nbformat_minor": 2
}
