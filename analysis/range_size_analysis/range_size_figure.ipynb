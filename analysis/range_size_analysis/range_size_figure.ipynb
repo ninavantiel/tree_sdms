{
 "cells": [
  {
   "cell_type": "code",
   "execution_count": null,
   "metadata": {},
   "outputs": [],
   "source": [
    "import sys\n",
    "sys.path.append('..')\n",
    "from config_figures import *"
   ]
  },
  {
   "attachments": {},
   "cell_type": "markdown",
   "metadata": {},
   "source": [
    "### Range size dataframe"
   ]
  },
  {
   "cell_type": "code",
   "execution_count": null,
   "metadata": {},
   "outputs": [],
   "source": [
    "df = pd.read_csv(sdms_area_lat_elev_file).drop(['system:index', '.geo'], axis=1)\n",
    "df"
   ]
  },
  {
   "attachments": {},
   "cell_type": "markdown",
   "metadata": {},
   "source": [
    "### Biome dataframe"
   ]
  },
  {
   "cell_type": "code",
   "execution_count": null,
   "metadata": {},
   "outputs": [],
   "source": [
    "biome_names = {\n",
    "    'Boreal Forests/Taiga': 'Boreal Forests',\n",
    "    'Mediterranean Forests, Woodlands & Scrub': 'Mediterranean Forests',\n",
    "    'Temperate Broadleaf & Mixed Forests': 'Temperate Broadleaf Forests', \n",
    "    'Temperate Conifer Forests': 'Temperate Conifer Forests',\n",
    "    'Tropical & Subtropical Coniferous Forests': 'Tropical Coniferous Forests',\n",
    "    'Tropical & Subtropical Dry Broadleaf Forests': 'Tropical Dry Broadleaf Forests',\n",
    "    'Tropical & Subtropical Moist Broadleaf Forests': 'Tropical Moist Broadleaf Forests'\n",
    "}\n",
    "\n",
    "biome_df = pd.read_csv(sdm_biome_drive_file).drop(['system:index', '.geo'], axis=1)\n",
    "biome_df = pd.melt(biome_df, id_vars=['species'], var_name = 'biome', value_name = 'sdm_frac')\n",
    "biome_df = biome_df[(biome_df['sdm_frac'] > 20) & (biome_df['biome'].str.contains('Forests'))]\n",
    "biome_df['biome_name'] = biome_df['biome'].apply(lambda b: biome_names[b])\n",
    "biome_df"
   ]
  },
  {
   "attachments": {},
   "cell_type": "markdown",
   "metadata": {},
   "source": [
    "### Construct dataframe with range size and range restriction per species with biome attributed to each species"
   ]
  },
  {
   "cell_type": "code",
   "execution_count": null,
   "metadata": {},
   "outputs": [],
   "source": [
    "df_pivot = df[df['climate'] == '1981_2010'].pivot(index='species', columns='min_tree_cover', values='area').reset_index()\n",
    "df_pivot[10] = 100 - (df_pivot[10] / df_pivot[0] * 100)\n",
    "df_pivot[20] = 100 - (df_pivot[20] / df_pivot[0] * 100)\n",
    "df_pivot[0] = np.nan\n",
    "df_range_restriction = df_pivot.melt(id_vars='species', value_vars=[0,10,20], value_name='range_restriction')\n",
    "\n",
    "df_range_size_restriction = df[df['climate'] == '1981_2010'][['species', 'min_tree_cover', 'area']].merge(df_range_restriction).merge(biome_df[['species', 'biome_name']], how='outer')\n",
    "df_range_size_restriction['area'] = df_range_size_restriction['area'] / 1e12\n",
    "df_range_size_restriction['area_log10'] = np.log10(df_range_size_restriction['area'])\n",
    "df_range_size_restriction"
   ]
  },
  {
   "cell_type": "code",
   "execution_count": null,
   "metadata": {},
   "outputs": [],
   "source": [
    "n_per_biome = df_range_size_restriction.drop_duplicates(['species','biome_name']).groupby('biome_name').species.count()\n",
    "n_per_biome"
   ]
  },
  {
   "cell_type": "code",
   "execution_count": null,
   "metadata": {},
   "outputs": [],
   "source": [
    "biome_order = list(df_range_size_restriction[df_range_size_restriction['min_tree_cover'] == 10].groupby('biome_name')['range_restriction'].median().sort_values().index)\n",
    "biome_order"
   ]
  },
  {
   "cell_type": "code",
   "execution_count": null,
   "metadata": {},
   "outputs": [],
   "source": [
    "df_range_size_restriction[df_range_size_restriction['min_tree_cover'] != 20].drop(columns='area_log10').to_csv(datadir + 'fig2ab.csv', index=False)"
   ]
  },
  {
   "cell_type": "code",
   "execution_count": null,
   "metadata": {},
   "outputs": [],
   "source": [
    "sns.set(style='white') \n",
    "\n",
    "fig, axes = plt.subplots(7, 2, figsize=(7, 4))\n",
    "biome_order = [\n",
    "    'Tropical Moist Broadleaf Forests', \n",
    "    'Tropical Coniferous Forests',\n",
    "    'Tropical Dry Broadleaf Forests', \n",
    "    'Boreal Forests', \n",
    "    'Temperate Broadleaf Forests', \n",
    "    'Temperate Conifer Forests', \n",
    "    'Mediterranean Forests'\n",
    "]\n",
    "palette=['#F0E442', '#56B4E9', '#E69F00', '#009E73', '#CC79A7', '#0072B2', '#D55E00']\n",
    "\n",
    "for i, ((ax1, ax2), biome, color) in enumerate(zip(axes, biome_order, palette)):\n",
    "    df_biome_0 = df_range_size_restriction[(df_range_size_restriction['biome_name'] == biome) & (df_range_size_restriction['min_tree_cover'] == 0)]\n",
    "    df_biome_10 = df_range_size_restriction[(df_range_size_restriction['biome_name'] == biome) & (df_range_size_restriction['min_tree_cover'] == 10)]\n",
    "    sns.kdeplot(ax=ax1, data=df_biome_0[df_biome_0['area'] != 0], x='area', color='black', fill=True, alpha = 0.3, log_scale=True, linewidths=0.5)\n",
    "    sns.kdeplot(ax=ax1, data=df_biome_10[df_biome_10['area'] != 0], x='area', color=color, fill=True, alpha = 0.3, log_scale=True, linewidths=0.5)\n",
    "    ax1.set(xlim=(0.0005, 15))\n",
    "    ax1.set_ylabel(f\"{biome} (n = {str(n_per_biome[biome])} species)\", rotation=0, fontsize=7)\n",
    "\n",
    "    sns.boxplot(ax=ax2, data=df_biome_10, x='range_restriction', y='biome_name', color=color, flierprops={'marker':'o', 'markersize':1}, linewidth=0.5)\n",
    "    ax2.set(ylabel=\"\", yticklabels=\"\", xlim=(0,105))\n",
    "\n",
    "    if i != 6: \n",
    "        for ax in [ax1, ax2]:\n",
    "            ax.set(xticks=[], yticks=[], xlabel=\"\")\n",
    "            for side in ['top', 'bottom', 'right', 'left']:\n",
    "                if ax==ax1 and side=='bottom': ax.spines[side].set_linewidth(0.5)\n",
    "                else: ax.spines[side].set_visible(False)\n",
    "    else:\n",
    "        ax1.set_xlabel(\"SDM range size (million km2)\", fontsize=7)\n",
    "        ax1.set_yticklabels(\"\")\n",
    "        ax1.tick_params(labelsize=5)\n",
    "        # ax1.set(xlabel=\"SDM range size (million km2)\", yticklabels=\"\")\n",
    "        ax2.set_xlabel(\"SDM range reduction (%)\", fontsize=7)\n",
    "        ax2.tick_params(labelsize=5)\n",
    "        for ax in [ax1, ax2]:\n",
    "            for side in ['top', 'right', 'left']: ax.spines[side].set_visible(False)\n",
    "            ax.spines['bottom'].set_linewidth(0.5)\n",
    "\n",
    "plt.tight_layout()\n",
    "plt.savefig(figuredir + 'range_restriction_figure.pdf')"
   ]
  },
  {
   "attachments": {},
   "cell_type": "markdown",
   "metadata": {},
   "source": [
    "### Statistics on range size restriction per biome "
   ]
  },
  {
   "cell_type": "code",
   "execution_count": null,
   "metadata": {},
   "outputs": [],
   "source": [
    "df_range_size_restriction[df_range_size_restriction['min_tree_cover'] == 10].range_restriction.median()"
   ]
  },
  {
   "cell_type": "code",
   "execution_count": null,
   "metadata": {},
   "outputs": [],
   "source": [
    "stats = df_range_size_restriction[df_range_size_restriction['min_tree_cover'].isin([0, 10])].groupby(\n",
    "    ['biome_name', 'min_tree_cover'])[['area','range_restriction']].median()\n",
    "stats"
   ]
  },
  {
   "attachments": {},
   "cell_type": "markdown",
   "metadata": {},
   "source": [
    "### SDM range size vs. median latitude"
   ]
  },
  {
   "cell_type": "code",
   "execution_count": null,
   "metadata": {},
   "outputs": [],
   "source": [
    "df_area_lat = df[(df['min_tree_cover'] == 10) & (df['climate'] == '1981_2010') & (df['median_lat'] != -999)][['species', 'area', 'median_lat']]\n",
    "df_area_lat['area'] = df_area_lat['area'] / 1e12\n",
    "df_area_lat"
   ]
  },
  {
   "cell_type": "code",
   "execution_count": null,
   "metadata": {},
   "outputs": [],
   "source": [
    "from scipy.stats import gaussian_kde"
   ]
  },
  {
   "cell_type": "code",
   "execution_count": null,
   "metadata": {},
   "outputs": [],
   "source": [
    "values = np.vstack([df_area_lat[\"area\"], df_area_lat[\"median_lat\"]])\n",
    "kernel = gaussian_kde(values)(values)\n",
    "kernel_norm = (kernel - kernel.min()) / (kernel.max() - kernel.min())"
   ]
  },
  {
   "cell_type": "code",
   "execution_count": null,
   "metadata": {},
   "outputs": [],
   "source": [
    "latitudes = np.arange(-55, 65, 1)\n",
    "mean_area = [df_area_lat[(df['median_lat'] >= lat-2) & (df['median_lat'] < lat+2)]['area'].mean() for lat in latitudes]"
   ]
  },
  {
   "cell_type": "code",
   "execution_count": null,
   "metadata": {},
   "outputs": [],
   "source": [
    "sns.set_style(\"white\")\n",
    "fig, ax = plt.subplots(figsize=(2,3))\n",
    "sns.scatterplot(ax=ax, data = df_area_lat, x = 'area', y = 'median_lat', hue = kernel_norm, palette = 'turbo', s = 1, edgecolor = 'none', legend=False)\n",
    "sns.lineplot(ax=ax, x = mean_area, y = latitudes, orient='y', c='k', linewidth=1)\n",
    "\n",
    "ax.set(ylim=(-50, 70))\n",
    "ax.set_xlabel('SDM range size (million km2)', fontsize=7)\n",
    "ax.set_ylabel('SDM median latitude', fontsize = 7)\n",
    "ax.tick_params(labelsize=5)\n",
    "for side in ['top', 'right']: ax.spines[side].set_visible(False) \n",
    "for side in ['bottom', 'left']: ax.spines[side].set_linewidth(0.5)\n",
    "\n",
    "plt.tight_layout()\n",
    "plt.savefig(figuredir + 'sdm_range_median_lat.pdf')"
   ]
  },
  {
   "cell_type": "code",
   "execution_count": null,
   "metadata": {},
   "outputs": [],
   "source": [
    "sns.set_style(\"white\")\n",
    "fig = plt.figure(layout='constrained', figsize=(7, 7))\n",
    "subfigs = fig.subfigures(2, 1, wspace=0.07, height_ratios=[1, 0.75])\n",
    "plt.rcParams.update({\n",
    "    'font.sans-serif': 'Helvetica',\n",
    "})\n",
    "\n",
    "axes_top = subfigs[0].subplots(7, 2, sharey=False)\n",
    "biome_order = [\n",
    "    'Tropical Moist Broadleaf Forests', \n",
    "    'Tropical Coniferous Forests',\n",
    "    'Tropical Dry Broadleaf Forests', \n",
    "    'Boreal Forests', \n",
    "    'Temperate Broadleaf Forests', \n",
    "    'Temperate Conifer Forests', \n",
    "    'Mediterranean Forests'\n",
    "]\n",
    "palette=['#F0E442', '#56B4E9', '#E69F00', '#009E73', '#CC79A7', '#0072B2', '#D55E00']\n",
    "\n",
    "for i, ((ax1, ax2), biome, color) in enumerate(zip(axes_top, biome_order, palette)):\n",
    "    df_biome_0 = df_range_size_restriction[(df_range_size_restriction['biome_name'] == biome) & (df_range_size_restriction['min_tree_cover'] == 0)]\n",
    "    df_biome_10 = df_range_size_restriction[(df_range_size_restriction['biome_name'] == biome) & (df_range_size_restriction['min_tree_cover'] == 10)]\n",
    "    sns.kdeplot(ax=ax1, data=df_biome_0[df_biome_0['area'] != 0], x='area', color='black', fill=True, alpha = 0.3, log_scale=True, linewidths=0.5)\n",
    "    sns.kdeplot(ax=ax1, data=df_biome_10[df_biome_10['area'] != 0], x='area', color=color, fill=True, alpha = 0.3, log_scale=True, linewidths=0.5)\n",
    "    ax1.set(xlim=(0.0005, 15))\n",
    "    ax1.set_ylabel(f\"{biome} (n = {str(n_per_biome[biome])} species)\", rotation=0, fontsize=7, font='Helvetica')\n",
    "\n",
    "    sns.boxplot(ax=ax2, data=df_biome_10, x='range_restriction', y='biome_name', color=color, flierprops={'marker':'o', 'markersize':1}, linewidth=0.5)\n",
    "    ax2.set(ylabel=\"\", yticklabels=\"\", xlim=(0,105))\n",
    "\n",
    "    if i != 6: \n",
    "        for ax in [ax1, ax2]:\n",
    "            ax.set(xticks=[], yticks=[], xlabel=\"\")\n",
    "            for side in ['top', 'bottom', 'right', 'left']:\n",
    "                if ax==ax1 and side=='bottom': ax.spines[side].set_linewidth(0.5)\n",
    "                else: ax.spines[side].set_visible(False)\n",
    "\n",
    "    else:\n",
    "        ax1.set_xlabel(\"SDM range size (million km2)\", fontsize=7, font='Helvetica')\n",
    "        ax1.set_yticklabels(\"\")\n",
    "        ax1.tick_params(labelsize=5)\n",
    "        # ax1.set(xlabel=\"SDM range size (million km2)\", yticklabels=\"\")\n",
    "        ax2.set_xlabel(\"SDM range reduction (%)\", fontsize=7, font='Helvetica')\n",
    "        ax2.tick_params(labelsize=5)\n",
    "        for ax in [ax1, ax2]:\n",
    "            for side in ['top', 'right', 'left']: ax.spines[side].set_visible(False)\n",
    "            ax.spines['bottom'].set_linewidth(0.5)\n",
    "\n",
    "subsubfigs = subfigs[1].subfigures(1, 2, wspace=0.07, width_ratios=[1, 0.4])\n",
    "ax = subsubfigs[1].subplots(1, 1)\n",
    "sns.scatterplot(ax=ax, data = df_area_lat, x = 'area', y = 'median_lat', hue = kernel_norm, palette = 'turbo', s = 1, edgecolor = 'none', legend=False)\n",
    "sns.lineplot(ax=ax, x = mean_area, y = latitudes, orient='y', c='k', linewidth=1)\n",
    "\n",
    "ax.set(ylim=(-50, 70))\n",
    "ax.set_xlabel('SDM range size (million km2)', fontsize=7, font='Helvetica')\n",
    "ax.set_ylabel('SDM median latitude', fontsize = 7, font='Helvetica')\n",
    "ax.tick_params(labelsize=5)\n",
    "for side in ['top', 'right']: ax.spines[side].set_visible(False) \n",
    "for side in ['bottom', 'left']: ax.spines[side].set_linewidth(0.5)\n",
    "\n",
    "# plt.show()\n",
    "plt.savefig(figuredir + 'fig2_abd.pdf')"
   ]
  }
 ],
 "metadata": {
  "kernelspec": {
   "display_name": "ee",
   "language": "python",
   "name": "python3"
  },
  "language_info": {
   "codemirror_mode": {
    "name": "ipython",
    "version": 3
   },
   "file_extension": ".py",
   "mimetype": "text/x-python",
   "name": "python",
   "nbconvert_exporter": "python",
   "pygments_lexer": "ipython3",
   "version": "3.8.13"
  },
  "orig_nbformat": 4,
  "vscode": {
   "interpreter": {
    "hash": "6073755aa6f12da173ae60060eb9721bff4ec494b8627df73ca8d827240fcf4a"
   }
  }
 },
 "nbformat": 4,
 "nbformat_minor": 2
}
