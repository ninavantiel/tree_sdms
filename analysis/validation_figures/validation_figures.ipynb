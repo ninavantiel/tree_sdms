{
 "cells": [
  {
   "cell_type": "code",
   "execution_count": null,
   "metadata": {},
   "outputs": [],
   "source": [
    "import sys\n",
    "sys.path.append('..')\n",
    "from config_figures import *"
   ]
  },
  {
   "cell_type": "code",
   "execution_count": null,
   "metadata": {},
   "outputs": [],
   "source": [
    "df = pd.read_csv(validation_stats_file).drop(['.geo'], axis=1).rename(columns = {'system:index': 'species'}).sort_values('nobs', ascending=False)\n",
    "df['nobs_cat'] = ['at least 90' if x >= 90 else 'less than 90' for x in df['nobs']] \n",
    "df"
   ]
  },
  {
   "cell_type": "code",
   "execution_count": null,
   "metadata": {},
   "outputs": [],
   "source": [
    "df_melt = pd.melt(df, id_vars=['species', 'nobs', 'nobs_cat'] , value_vars=['tss','precision','recall'], var_name='metric')\n",
    "df_melt"
   ]
  },
  {
   "cell_type": "code",
   "execution_count": null,
   "metadata": {},
   "outputs": [],
   "source": [
    "g = sns.relplot(df_melt, x='nobs', y='value', hue='nobs_cat', col='metric', s=3, alpha=0.5, edgecolor=\"none\", height=4, legend=False)\n",
    "g.set_titles(col_template=\"{col_name}\")\n",
    "g.set(xlabel='Number of occurrences')\n",
    "g.axes[0,0].set_title('True skill statistic (TSS)')\n",
    "g.axes[0,1].set_title('Precision')\n",
    "g.axes[0,2].set_title('Recall')\n",
    "plt.savefig(figuredir + 'nobs_tss_precision_recall.png') "
   ]
  },
  {
   "cell_type": "code",
   "execution_count": null,
   "metadata": {},
   "outputs": [],
   "source": [
    "g = sns.FacetGrid(df_melt[df_melt['nobs'] >= 90], col=\"metric\", sharex=False)\n",
    "g.map(sns.histplot, 'value', bins = 25, edgecolor=None)\n",
    "g.set_titles(col_template=\"\")\n",
    "g.axes[0,0].set_xlabel('True skill statistic')\n",
    "g.axes[0,1].set_xlabel('Precision')\n",
    "g.axes[0,2].set_xlabel('Recall')\n",
    "plt.savefig(figuredir + 'tss_precision_recall.png')"
   ]
  },
  {
   "cell_type": "code",
   "execution_count": null,
   "metadata": {},
   "outputs": [],
   "source": [
    "df_splot = pd.read_csv(sdm_splot_file).drop(['system:index', '.geo'], axis=1)\n",
    "df_splot = df_splot.merge(df[['species','nobs']], on='species')\n",
    "df_splot['tss'] = (df_splot['tp'] / (df_splot['tp'] + df_splot['fn'])) + (df_splot['tn'] / (df_splot['tn'] + df_splot['fp'])) - 1\n",
    "df_splot['precision'] = df_splot['tp'] / (df_splot['tp'] + df_splot['fp'])\n",
    "df_splot['recall'] = df_splot['tp'] / (df_splot['tp'] + df_splot['fn'])\n",
    "df_splot['f1'] = (2 * df_splot['precision'] * df_splot['recall']) / (df_splot['precision'] + df_splot['recall'])\n",
    "df_splot"
   ]
  },
  {
   "cell_type": "code",
   "execution_count": null,
   "metadata": {},
   "outputs": [],
   "source": [
    "df_splot_5pos = df_splot[df_splot[['fn','tp']].sum(axis=1) > 5]\n",
    "df_splot_5pos"
   ]
  },
  {
   "cell_type": "code",
   "execution_count": null,
   "metadata": {},
   "outputs": [],
   "source": [
    "print(df_splot_5pos['tss'].mean(), df_splot_5pos['tss'].std())"
   ]
  },
  {
   "cell_type": "code",
   "execution_count": null,
   "metadata": {},
   "outputs": [],
   "source": [
    "# average false positive rate\n",
    "(df_splot_5pos['fp'] / (df_splot_5pos['fp'] + df_splot_5pos['tn'])).mean() "
   ]
  },
  {
   "cell_type": "code",
   "execution_count": null,
   "metadata": {},
   "outputs": [],
   "source": [
    "# average false negative rate\n",
    "(df_splot_5pos['fn'] / (df_splot_5pos['fn'] + df_splot_5pos['tp'])).mean() "
   ]
  },
  {
   "cell_type": "code",
   "execution_count": null,
   "metadata": {},
   "outputs": [],
   "source": [
    "df_splot_melt = pd.melt(df_splot_5pos, id_vars=['species','nobs'], value_vars=['tss','precision','recall'], var_name='metric')\n",
    "df_splot_melt"
   ]
  },
  {
   "cell_type": "code",
   "execution_count": null,
   "metadata": {},
   "outputs": [],
   "source": [
    "g = sns.FacetGrid(df_splot_melt, col=\"metric\", sharex=False, sharey=False)\n",
    "g.map(sns.histplot, 'value', bins = 25, edgecolor=None)\n",
    "g.set_titles(col_template=\"\")\n",
    "g.axes[0,0].set_xlabel('True skill statistic')\n",
    "g.axes[0,1].set_xlabel('Precision')\n",
    "g.axes[0,2].set_xlabel('Recall')\n",
    "plt.savefig(figuredir + 'splot_tss_precision_recall.png')"
   ]
  },
  {
   "cell_type": "code",
   "execution_count": null,
   "metadata": {},
   "outputs": [],
   "source": [
    "sdm_mhs_df = pd.read_csv(sdm_mhs_iou_file).drop(columns=['.geo'])\n",
    "sdm_mhs_df = sdm_mhs_df[sdm_mhs_df['IoU'] != 0].sort_values('IoU')\n",
    "sdm_mhs_df['system:index'] = [x.replace('_',' ') for x in sdm_mhs_df['system:index']]\n",
    "sdm_mhs_df"
   ]
  },
  {
   "cell_type": "code",
   "execution_count": null,
   "metadata": {},
   "outputs": [],
   "source": [
    "np.mean(sdm_mhs_df['IoU'])"
   ]
  },
  {
   "cell_type": "code",
   "execution_count": null,
   "metadata": {},
   "outputs": [],
   "source": [
    "sns.set_style(\"whitegrid\")\n",
    "fig, ax = plt.subplots(1)\n",
    "sns.scatterplot(sdm_mhs_df, x='IoU', y='system:index', ax=ax)\n",
    "ax.set(ylabel=None)\n",
    "plt.tight_layout()\n",
    "plt.savefig(figuredir + 'sdm_mhs_iou.png', dpi=300)"
   ]
  }
 ],
 "metadata": {
  "kernelspec": {
   "display_name": "ee",
   "language": "python",
   "name": "python3"
  },
  "language_info": {
   "codemirror_mode": {
    "name": "ipython",
    "version": 3
   },
   "file_extension": ".py",
   "mimetype": "text/x-python",
   "name": "python",
   "nbconvert_exporter": "python",
   "pygments_lexer": "ipython3",
   "version": "3.8.13"
  },
  "orig_nbformat": 4,
  "vscode": {
   "interpreter": {
    "hash": "6073755aa6f12da173ae60060eb9721bff4ec494b8627df73ca8d827240fcf4a"
   }
  }
 },
 "nbformat": 4,
 "nbformat_minor": 2
}
