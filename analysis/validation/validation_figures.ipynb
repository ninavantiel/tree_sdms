{
 "cells": [
  {
   "cell_type": "code",
   "execution_count": null,
   "metadata": {},
   "outputs": [],
   "source": [
    "import sys\n",
    "sys.path.append('..')\n",
    "from config_figures import *"
   ]
  },
  {
   "cell_type": "code",
   "execution_count": null,
   "metadata": {},
   "outputs": [],
   "source": [
    "df = pd.read_csv(validation_stats_file).drop(['.geo'], axis=1).rename(columns = {'system:index': 'species'}).sort_values('nobs', ascending=False)\n",
    "df['nobs_cat'] = ['at least 90' if x >= 90 else 'less than 90' for x in df['nobs']] \n",
    "df"
   ]
  },
  {
   "cell_type": "code",
   "execution_count": null,
   "metadata": {},
   "outputs": [],
   "source": [
    "df_melt = pd.melt(df, id_vars=['species', 'nobs', 'nobs_cat'] , value_vars=['tss','precision','recall'], var_name='metric')\n",
    "df_melt"
   ]
  },
  {
   "cell_type": "code",
   "execution_count": null,
   "metadata": {},
   "outputs": [],
   "source": [
    "g = sns.relplot(df_melt, x='nobs', y='value', hue='nobs_cat', col='metric', s=3, alpha=0.5, edgecolor=\"none\", height=4, legend=False)\n",
    "g.set_titles(col_template=\"{col_name}\")\n",
    "g.set(xlabel='Number of occurrences')\n",
    "g.axes[0,0].set_title('True skill statistic (TSS)')\n",
    "g.axes[0,1].set_title('Precision')\n",
    "g.axes[0,2].set_title('Recall')\n",
    "plt.savefig(figuredir + 'nobs_tss_precision_recall.png') "
   ]
  },
  {
   "cell_type": "code",
   "execution_count": null,
   "metadata": {},
   "outputs": [],
   "source": [
    "g = sns.FacetGrid(df_melt[df_melt['nobs'] >= 90], col=\"metric\", sharex=False)\n",
    "g.map(sns.histplot, 'value', bins = 25, edgecolor=None)\n",
    "g.set_titles(col_template=\"\")\n",
    "g.axes[0,0].set_xlabel('True skill statistic')\n",
    "g.axes[0,1].set_xlabel('Precision')\n",
    "g.axes[0,2].set_xlabel('Recall')\n",
    "plt.savefig(figuredir + 'tss_precision_recall.png')"
   ]
  },
  {
   "cell_type": "code",
   "execution_count": null,
   "metadata": {},
   "outputs": [],
   "source": [
    "df_splot = pd.read_csv(sdm_splot_file).drop(['system:index', '.geo'], axis=1)\n",
    "df_splot = df_splot.merge(df[['species','nobs']], on='species')\n",
    "df_splot['tss'] = (df_splot['tp'] / (df_splot['tp'] + df_splot['fn'])) + (df_splot['tn'] / (df_splot['tn'] + df_splot['fp'])) - 1\n",
    "df_splot['precision'] = df_splot['tp'] / (df_splot['tp'] + df_splot['fp'])\n",
    "df_splot['recall'] = df_splot['tp'] / (df_splot['tp'] + df_splot['fn'])\n",
    "df_splot['f1'] = (2 * df_splot['precision'] * df_splot['recall']) / (df_splot['precision'] + df_splot['recall'])\n",
    "df_splot"
   ]
  },
  {
   "cell_type": "code",
   "execution_count": null,
   "metadata": {},
   "outputs": [],
   "source": [
    "df_splot_5pos = df_splot[df_splot[['fn','tp']].sum(axis=1) > 5]\n",
    "df_splot_5pos"
   ]
  },
  {
   "cell_type": "code",
   "execution_count": null,
   "metadata": {},
   "outputs": [],
   "source": [
    "print(df_splot_5pos['tss'].mean(), df_splot_5pos['tss'].std())"
   ]
  },
  {
   "cell_type": "code",
   "execution_count": null,
   "metadata": {},
   "outputs": [],
   "source": [
    "# average false positive rate\n",
    "(df_splot_5pos['fp'] / (df_splot_5pos['fp'] + df_splot_5pos['tn'])).mean() "
   ]
  },
  {
   "cell_type": "code",
   "execution_count": null,
   "metadata": {},
   "outputs": [],
   "source": [
    "# average false negative rate\n",
    "(df_splot_5pos['fn'] / (df_splot_5pos['fn'] + df_splot_5pos['tp'])).mean() "
   ]
  },
  {
   "cell_type": "code",
   "execution_count": null,
   "metadata": {},
   "outputs": [],
   "source": [
    "df_splot_melt = pd.melt(df_splot_5pos, id_vars=['species','nobs'], value_vars=['tss','precision','recall'], var_name='metric')\n",
    "df_splot_melt"
   ]
  },
  {
   "cell_type": "code",
   "execution_count": null,
   "metadata": {},
   "outputs": [],
   "source": [
    "g = sns.FacetGrid(df_splot_melt, col=\"metric\", sharex=False, sharey=False)\n",
    "g.map(sns.histplot, 'value', bins = 25, edgecolor=None)\n",
    "g.set_titles(col_template=\"\")\n",
    "g.axes[0,0].set_xlabel('True skill statistic')\n",
    "g.axes[0,1].set_xlabel('Precision')\n",
    "g.axes[0,2].set_xlabel('Recall')\n",
    "plt.savefig(figuredir + 'splot_tss_precision_recall.png')"
   ]
  },
  {
   "cell_type": "code",
   "execution_count": null,
   "metadata": {},
   "outputs": [],
   "source": [
    "sdm_mhs_df = pd.read_csv(sdm_mhs_iou_file).drop(columns=['.geo','system:index'])\n",
    "sdm_mhs_df = sdm_mhs_df[sdm_mhs_df['IoU'] != 0].sort_values('IoU')\n",
    "sdm_mhs_df['species'] = [x.replace('_',' ') for x in sdm_mhs_df['species']]\n",
    "sdm_mhs_df['rel_sdm_area'] = sdm_mhs_df['sdm_area'] / sdm_mhs_df['mhs_area'] * 100\n",
    "sdm_mhs_df['rel_diff'] = (sdm_mhs_df['mhs_area'] - sdm_mhs_df['sdm_area']) / sdm_mhs_df['mhs_area'] * 100\n",
    "sdm_mhs_df"
   ]
  },
  {
   "cell_type": "code",
   "execution_count": null,
   "metadata": {},
   "outputs": [],
   "source": [
    "np.mean(sdm_mhs_df['IoU'])"
   ]
  },
  {
   "cell_type": "code",
   "execution_count": null,
   "metadata": {},
   "outputs": [],
   "source": [
    "np.mean(sdm_mhs_df['rel_sdm_area'])"
   ]
  },
  {
   "cell_type": "code",
   "execution_count": null,
   "metadata": {},
   "outputs": [],
   "source": [
    "np.mean(sdm_mhs_df['rel_diff'])"
   ]
  },
  {
   "cell_type": "code",
   "execution_count": null,
   "metadata": {},
   "outputs": [],
   "source": [
    "df_melt = pd.melt(sdm_mhs_df, id_vars='species', value_vars=['sdm_area','mhs_area'])\n",
    "d = {'sdm_area':'SDM','mhs_area':'MHS'}\n",
    "df_melt['variable'] = df_melt['variable'].apply(lambda var: d[var])\n",
    "df_melt['value'] = df_melt['value'] / 1e12\n",
    "df_melt"
   ]
  },
  {
   "cell_type": "code",
   "execution_count": null,
   "metadata": {},
   "outputs": [],
   "source": [
    "fig, (ax1, ax2, ax3) = plt.subplots(1, 3, sharey=True, figsize=(12, 4))\n",
    "\n",
    "sns.barplot(df_melt, x='value', y='species', hue='variable', ax=ax1)\n",
    "ax1.set(ylabel=None, xlabel='Range size (million km2)')\n",
    "ax1.legend(title=None)\n",
    "\n",
    "sns.barplot(sdm_mhs_df, x='IoU', y='species', ax=ax2, color='grey')\n",
    "ax2.set(ylabel=None)\n",
    "\n",
    "sns.barplot(sdm_mhs_df, x='rel_sdm_area', y='species', ax=ax3, color='grey')\n",
    "ax3.set(ylabel=None, xlabel= 'Relative SDM range size (%)')\n",
    "ax3.axvline(100, color='black')\n",
    "\n",
    "plt.tight_layout()\n",
    "plt.savefig(figuredir + 'sdm_mhs_iou.png', dpi=300)"
   ]
  },
  {
   "cell_type": "code",
   "execution_count": null,
   "metadata": {},
   "outputs": [],
   "source": []
  },
  {
   "cell_type": "code",
   "execution_count": null,
   "metadata": {},
   "outputs": [],
   "source": []
  }
 ],
 "metadata": {
  "kernelspec": {
   "display_name": "ee",
   "language": "python",
   "name": "python3"
  },
  "language_info": {
   "codemirror_mode": {
    "name": "ipython",
    "version": 3
   },
   "file_extension": ".py",
   "mimetype": "text/x-python",
   "name": "python",
   "nbconvert_exporter": "python",
   "pygments_lexer": "ipython3",
   "version": "3.8.13"
  },
  "orig_nbformat": 4,
  "vscode": {
   "interpreter": {
    "hash": "6073755aa6f12da173ae60060eb9721bff4ec494b8627df73ca8d827240fcf4a"
   }
  }
 },
 "nbformat": 4,
 "nbformat_minor": 2
}
