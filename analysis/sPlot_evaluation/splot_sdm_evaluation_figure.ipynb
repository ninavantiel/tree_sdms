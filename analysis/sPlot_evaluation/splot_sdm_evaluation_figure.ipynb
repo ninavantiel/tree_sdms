{
 "cells": [
  {
   "cell_type": "code",
   "execution_count": null,
   "metadata": {},
   "outputs": [],
   "source": [
    "import sys\n",
    "sys.path.insert(0, '/Users/nina/Documents/treemap/treemap/analysis')\n",
    "from config_figures import *"
   ]
  },
  {
   "cell_type": "code",
   "execution_count": null,
   "metadata": {},
   "outputs": [],
   "source": [
    "df = pd.read_csv('../../data/sdm_splot_comparison.csv').drop(['system:index', '.geo'], axis=1)\n",
    "df"
   ]
  },
  {
   "cell_type": "code",
   "execution_count": null,
   "metadata": {},
   "outputs": [],
   "source": [
    "df['tss'] = (df['tp'] / (df['tp'] + df['fn'])) + (df['tn'] / (df['tn'] + df['fp'])) - 1\n",
    "df['precision'] = df['tp'] / (df['tp'] + df['fp'])\n",
    "df['recall'] = df['tp'] / (df['tp'] + df['fn'])\n",
    "df['f1'] = (2 * df['precision'] * df['recall']) / (df['precision'] + df['recall'])\n",
    "df"
   ]
  },
  {
   "cell_type": "code",
   "execution_count": null,
   "metadata": {},
   "outputs": [],
   "source": [
    "df2 = df[df['tp'] + df['fn'] >= 5]\n",
    "df2"
   ]
  },
  {
   "cell_type": "code",
   "execution_count": null,
   "metadata": {},
   "outputs": [],
   "source": [
    "print(df2['tss'].mean(), '+/-', df2['tss'].std())"
   ]
  },
  {
   "cell_type": "code",
   "execution_count": null,
   "metadata": {},
   "outputs": [],
   "source": [
    "df_splot_melt = pd.melt(df2, id_vars=['species'], value_vars=['tss','precision','recall'], var_name='metric')\n",
    "df_splot_melt"
   ]
  },
  {
   "cell_type": "code",
   "execution_count": null,
   "metadata": {},
   "outputs": [],
   "source": [
    "g = sns.FacetGrid(df_splot_melt, col=\"metric\", sharex=False, sharey=False)\n",
    "g.map(sns.histplot, 'value', bins = 25, edgecolor=None)\n",
    "g.set_titles(col_template=\"\")\n",
    "g.axes[0,0].set_xlabel('True skill statistic')\n",
    "g.axes[0,1].set_xlabel('Precision')\n",
    "g.axes[0,2].set_xlabel('Recall')\n",
    "plt.savefig('../../figures/splot_tss_precision_recall.png')"
   ]
  }
 ],
 "metadata": {
  "kernelspec": {
   "display_name": "ee",
   "language": "python",
   "name": "python3"
  },
  "language_info": {
   "codemirror_mode": {
    "name": "ipython",
    "version": 3
   },
   "file_extension": ".py",
   "mimetype": "text/x-python",
   "name": "python",
   "nbconvert_exporter": "python",
   "pygments_lexer": "ipython3",
   "version": "3.8.13"
  },
  "orig_nbformat": 4,
  "vscode": {
   "interpreter": {
    "hash": "6073755aa6f12da173ae60060eb9721bff4ec494b8627df73ca8d827240fcf4a"
   }
  }
 },
 "nbformat": 4,
 "nbformat_minor": 2
}
