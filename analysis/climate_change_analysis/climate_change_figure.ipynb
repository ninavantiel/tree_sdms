{
 "cells": [
  {
   "cell_type": "code",
   "execution_count": null,
   "metadata": {},
   "outputs": [],
   "source": [
    "import sys\n",
    "sys.path.append('..')\n",
    "from config_figures import *"
   ]
  },
  {
   "cell_type": "code",
   "execution_count": null,
   "metadata": {},
   "outputs": [],
   "source": [
    "ecoregions_species_sampled = pd.read_csv(sample_ecoregion_file)\n",
    "ecoregions_species_sampled['ECO_ID'] = ecoregions_species_sampled.apply(lambda x: x.site.split('_')[1], axis=1).astype('int')\n",
    "ecoregions_species_sampled['current_or_future'] = ecoregions_species_sampled.apply(lambda x: x.site.split('_')[2], axis=1)\n",
    "ecoregions_species_sampled = ecoregions_species_sampled.drop(columns=['site']).set_index(['ECO_ID','current_or_future'])\n",
    "ecoregions_species_sampled"
   ]
  },
  {
   "cell_type": "code",
   "execution_count": null,
   "metadata": {},
   "outputs": [],
   "source": [
    "sdms_area_lat_elev = pd.read_csv(sdms_area_lat_elev_file, index_col=['species','climate']).drop(columns=['system:index','.geo'])\n",
    "sdms_area_lat_elev = sdms_area_lat_elev[sdms_area_lat_elev['min_tree_cover'] == 0]\n",
    "sdms_area_lat_elev"
   ]
  },
  {
   "cell_type": "code",
   "execution_count": null,
   "metadata": {},
   "outputs": [],
   "source": [
    "def lat_elev_shift(row):\n",
    "    species_df = sdms_area_lat_elev.loc[row.species]\n",
    "    delta = species_df.loc['2071_2100_ssp585'] - species_df.loc['1981_2010']\n",
    "    row['abs_lat_shift'] = abs(delta['median_lat'])\n",
    "    row['elev_shift'] = delta['median_elev']\n",
    "    return row\n",
    "\n",
    "lat_elev_shift_df = pd.DataFrame({\n",
    "    'species': sdms_area_lat_elev.index.get_level_values('species').copy().drop_duplicates()\n",
    "}).apply(lat_elev_shift, axis=1)\n",
    "lat_elev_shift_df"
   ]
  },
  {
   "cell_type": "code",
   "execution_count": null,
   "metadata": {},
   "outputs": [],
   "source": [
    "def n_lost_gained(row):\n",
    "    eco_species = ecoregions_species_sampled.loc[row.ECO_ID]\n",
    "\n",
    "    delta_species = (eco_species.loc['current'] - eco_species.loc['future']).to_list()\n",
    "    row['n_current'] = eco_species.loc['current'].to_list().count(1)\n",
    "    row['n_future'] = eco_species.loc['future'].to_list().count(1)\n",
    "    row['n_lost'] = delta_species.count(1)\n",
    "    row['n_gained'] = delta_species.count(-1)\n",
    "\n",
    "    species_current_future = eco_species.columns[eco_species.sum() == 2].to_list()\n",
    "    species_lat_elev_shift = lat_elev_shift_df[lat_elev_shift_df['species'].isin(species_current_future)]\n",
    "    row['median_abs_lat_shift'] = species_lat_elev_shift['abs_lat_shift'].median()\n",
    "    row['median_elev_shift'] = species_lat_elev_shift['elev_shift'].median()\n",
    "\n",
    "    return row\n",
    "\n",
    "eco_df = pd.DataFrame({\n",
    "    'ECO_ID': ecoregions_species_sampled.index.get_level_values('ECO_ID').copy().drop_duplicates()\n",
    "}).apply(n_lost_gained, axis=1)\n",
    "eco_df['frac_gained'] = (eco_df['n_gained'] / eco_df['n_current']) * 100\n",
    "eco_df['frac_lost'] = (eco_df['n_lost'] / eco_df['n_current']) * 100\n",
    "eco_df"
   ]
  },
  {
   "cell_type": "code",
   "execution_count": null,
   "metadata": {},
   "outputs": [],
   "source": [
    "nmds_eucl_dist = pd.read_csv('nmds_current_future_eucl_dist.csv')[['ECO_ID', 'eucl_dist', 'eucl_dist_scaled']].rename(\n",
    "    columns={'eucl_dist': 'NMDS_eucl_dist', 'eucl_dist_scaled': 'NMDS_eucl_dist_scaled'}\n",
    ")\n",
    "evopca_eucl_dist = pd.read_csv('evoPCA_current_future_eucl_dist.csv')[['ECO_ID', 'eucl_dist', 'eucl_dist_scaled']].rename(\n",
    "    columns={'eucl_dist': 'evoPCA_eucl_dist', 'eucl_dist_scaled': 'evoPCA_eucl_dist_scaled'}\n",
    ")\n",
    "nmds_evopca_df = pd.merge(nmds_eucl_dist, evopca_eucl_dist)\n",
    "\n",
    "eco_df = pd.merge(eco_df, nmds_evopca_df)\n",
    "eco_df "
   ]
  },
  {
   "cell_type": "code",
   "execution_count": null,
   "metadata": {},
   "outputs": [],
   "source": [
    "forest_ecoregions = ecoregions.filter(ee.Filter.stringContains('BIOME_NAME', 'Forest')).getInfo()['features']"
   ]
  },
  {
   "cell_type": "code",
   "execution_count": null,
   "metadata": {},
   "outputs": [],
   "source": [
    "props = ['BIOME_NAME','ECO_ID']\n",
    "eco_df = pd.merge(eco_df, pd.DataFrame([[item['properties'][p] for p in props] for item in forest_ecoregions], columns=props))"
   ]
  },
  {
   "cell_type": "code",
   "execution_count": null,
   "metadata": {},
   "outputs": [],
   "source": [
    "eco_df.to_csv(climate_change_ecoregion_file, index=False)"
   ]
  },
  {
   "cell_type": "code",
   "execution_count": null,
   "metadata": {},
   "outputs": [],
   "source": [
    "eco_df = pd.read_csv(climate_change_ecoregion_file)\n",
    "eco_df"
   ]
  },
  {
   "cell_type": "code",
   "execution_count": null,
   "metadata": {},
   "outputs": [],
   "source": [
    "biome_names = {\n",
    "    'Boreal Forests/Taiga': 'Boreal Forests',\n",
    "    'Mediterranean Forests, Woodlands & Scrub': 'Mediterranean Forests',\n",
    "    'Temperate Broadleaf & Mixed Forests': 'Temperate Broadleaf Forests', \n",
    "    'Temperate Conifer Forests': 'Temperate Conifer Forests',\n",
    "    'Tropical & Subtropical Coniferous Forests': 'Tropical Coniferous Forests',\n",
    "    'Tropical & Subtropical Dry Broadleaf Forests': 'Tropical Dry Broadleaf Forests',\n",
    "    'Tropical & Subtropical Moist Broadleaf Forests': 'Tropical Moist Broadleaf Forests'\n",
    "}\n",
    "eco_df['BIOME_NAME'] = eco_df['BIOME_NAME'].apply(lambda b: biome_names[b])"
   ]
  },
  {
   "cell_type": "code",
   "execution_count": null,
   "metadata": {},
   "outputs": [],
   "source": [
    "eco_df.groupby('BIOME_NAME').ECO_ID.count()"
   ]
  },
  {
   "cell_type": "code",
   "execution_count": null,
   "metadata": {},
   "outputs": [],
   "source": [
    "df_melted = pd.melt(eco_df, id_vars=['BIOME_NAME','ECO_ID'], value_vars=[\n",
    "    'frac_lost', 'frac_gained', 'median_abs_lat_shift', 'median_elev_shift', \n",
    "    'NMDS_eucl_dist_scaled', 'evoPCA_eucl_dist_scaled'\n",
    "]) \n",
    "df_melted"
   ]
  },
  {
   "cell_type": "code",
   "execution_count": null,
   "metadata": {},
   "outputs": [],
   "source": [
    "sns.set(style='whitegrid')\n",
    "biome_order = [\n",
    "    'Tropical Moist Broadleaf Forests', \n",
    "    'Tropical Coniferous Forests',\n",
    "    'Tropical Dry Broadleaf Forests', \n",
    "    'Boreal Forests', \n",
    "    'Temperate Broadleaf Forests', \n",
    "    'Temperate Conifer Forests', \n",
    "    'Mediterranean Forests'\n",
    "]\n",
    "palette=['#F0E442', '#56B4E9', '#E69F00', '#009E73', '#CC79A7', '#0072B2', '#D55E00']\n",
    "\n",
    "g = sns.catplot(\n",
    "    data=df_melted, y='BIOME_NAME', x='value', col='variable', kind='box', \n",
    "    sharex=False, col_wrap=3, palette=palette, order=biome_order,\n",
    "    col_order=['median_abs_lat_shift','frac_gained','evoPCA_eucl_dist_scaled',\n",
    "               'median_elev_shift','frac_lost','NMDS_eucl_dist_scaled'],\n",
    "    height=2, aspect=1.25, flierprops={'marker':'o', 'markersize':1}, linewidth=0.5\n",
    ")\n",
    "g.set_ylabels(\"\")\n",
    "\n",
    "# g.set_xticklabels(rotation=90)\n",
    "for ax, lab in zip(g.axes, [\n",
    "    'Absolute latitude shift (°)', 'Fraction gained species (%)', 'Change in phylogenetic composition',\n",
    "    'Elevation shift (m)', 'Fraction lost species (%)', 'Change in taxonomic composition'\n",
    "]):\n",
    "    ax.set_xlabel(lab, fontsize=7)\n",
    "    ax.tick_params(labelsize=7)\n",
    "    ax.set_title(\"\")\n",
    "    ax.spines['bottom'].set_linewidth(0.5)\n",
    "    ax.spines['left'].set_linewidth(0.5)\n",
    "\n",
    "g.axes[0].set_xlim(0,7)\n",
    "\n",
    "plt.savefig(figuredir + 'climate_change_boxplots.pdf', bbox_inches='tight')"
   ]
  },
  {
   "cell_type": "markdown",
   "metadata": {},
   "source": [
    "# Statistics"
   ]
  },
  {
   "cell_type": "code",
   "execution_count": null,
   "metadata": {},
   "outputs": [],
   "source": [
    "from sklearn.preprocessing import scale\n",
    "from statsmodels.multivariate.manova import MANOVA"
   ]
  },
  {
   "cell_type": "code",
   "execution_count": null,
   "metadata": {},
   "outputs": [],
   "source": [
    "manova_result = MANOVA.from_formula(\n",
    "    'median_abs_lat_shift + median_elev_shift + frac_lost + frac_gained + NMDS_eucl_dist_scaled + evoPCA_eucl_dist_scaled ~ BIOME_NAME', \n",
    "    eco_df)\n",
    "print(manova_result.mv_test())"
   ]
  },
  {
   "cell_type": "code",
   "execution_count": null,
   "metadata": {},
   "outputs": [],
   "source": [
    "# Coefficient of variation \n",
    "vars = [\n",
    "    'frac_lost', 'frac_gained', 'median_abs_lat_shift', 'median_elev_shift', 'NMDS_eucl_dist_scaled', 'evoPCA_eucl_dist_scaled'\n",
    "]\n",
    "eco_df[vars].std() / eco_df[vars].mean()"
   ]
  },
  {
   "cell_type": "markdown",
   "metadata": {},
   "source": [
    "## Absolute latitude shift"
   ]
  },
  {
   "cell_type": "code",
   "execution_count": null,
   "metadata": {},
   "outputs": [],
   "source": [
    "eco_df.groupby('BIOME_NAME').median_abs_lat_shift.quantile([0.25,0.5,0.75]) "
   ]
  },
  {
   "cell_type": "code",
   "execution_count": null,
   "metadata": {},
   "outputs": [],
   "source": [
    "# absolute latitude shift in ecoregions in tropical forest biomes\n",
    "tropical_abs_lat_shift = eco_df[eco_df.BIOME_NAME.str.contains('Tropical')].median_abs_lat_shift\n",
    "tropical_abs_lat_shift.quantile([0.25, 0.5,0.75]) "
   ]
  },
  {
   "cell_type": "markdown",
   "metadata": {},
   "source": [
    "## Elevation shift"
   ]
  },
  {
   "cell_type": "code",
   "execution_count": null,
   "metadata": {},
   "outputs": [],
   "source": [
    "eco_df.groupby('BIOME_NAME').median_elev_shift.median()#quantile([0.25,0.5,0.75])"
   ]
  },
  {
   "cell_type": "code",
   "execution_count": null,
   "metadata": {},
   "outputs": [],
   "source": [
    "eco_df[(eco_df.median_elev_shift < 5) & (eco_df.median_elev_shift > -5)].shape[0] / eco_df.shape[0]"
   ]
  },
  {
   "cell_type": "markdown",
   "metadata": {},
   "source": [
    "## Fraction of species lost and gained"
   ]
  },
  {
   "cell_type": "code",
   "execution_count": null,
   "metadata": {},
   "outputs": [],
   "source": [
    "eco_df.groupby('BIOME_NAME').frac_lost.agg(['median','min','max'])"
   ]
  }
 ],
 "metadata": {
  "kernelspec": {
   "display_name": "ee",
   "language": "python",
   "name": "python3"
  },
  "language_info": {
   "codemirror_mode": {
    "name": "ipython",
    "version": 3
   },
   "file_extension": ".py",
   "mimetype": "text/x-python",
   "name": "python",
   "nbconvert_exporter": "python",
   "pygments_lexer": "ipython3",
   "version": "3.8.13"
  },
  "orig_nbformat": 4
 },
 "nbformat": 4,
 "nbformat_minor": 2
}
