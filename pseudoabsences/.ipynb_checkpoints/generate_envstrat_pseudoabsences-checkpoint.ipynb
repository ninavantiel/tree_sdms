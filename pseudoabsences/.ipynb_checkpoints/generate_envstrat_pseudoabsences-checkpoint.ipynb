{
 "cells": [
  {
   "cell_type": "code",
   "execution_count": 1,
   "metadata": {},
   "outputs": [],
   "source": [
    "# Import the modules of interest\n",
    "import pandas as pd\n",
    "import numpy as np\n",
    "import random\n",
    "import ee\n",
    "ee.Initialize()"
   ]
  },
  {
   "cell_type": "code",
   "execution_count": 6,
   "metadata": {},
   "outputs": [],
   "source": [
    "composite = ee.Image('projects/crowtherlab/Composite/CrowtherLab_Composite_30ArcSec')\n",
    "unboundedGeo = ee.Geometry.Polygon([[[-180, 88], [180, 88], [180, -88], [-180, -88]]], None, False);"
   ]
  },
  {
   "cell_type": "code",
   "execution_count": 8,
   "metadata": {},
   "outputs": [],
   "source": [
    "terra_poly = composite.select('Pixel_Lat').toInt().reduceToVectors(\n",
    "    geometry = unboundedGeo,\n",
    "    crs = composite.select('Abs_Lat').projection(),\n",
    "    scale = composite.select('Abs_Lat').projection().nominalScale().getInfo(),\n",
    "    geometryType = 'polygon',\n",
    "    eightConnected = False,\n",
    "    labelProperty = 'zone',\n",
    "    #reducer: ee.Reducer.mean(),\n",
    "    maxPixels = 1e13\n",
    ")\n",
    "\n",
    "#terra_geo = terra_poly.geometry()\n",
    "\n",
    "\n",
    "\n",
    "https://code.earthengine.google.com/c5215c4b2d6dc2f86b96d96903708bb6"
   ]
  },
  {
   "cell_type": "code",
   "execution_count": 10,
   "metadata": {},
   "outputs": [
    {
     "ename": "EEException",
     "evalue": "Collection.geometry: Geometry has too many edges (2476200 > 2000000).",
     "output_type": "error",
     "traceback": [
      "\u001b[0;31m---------------------------------------------------------------------------\u001b[0m",
      "\u001b[0;31mHttpError\u001b[0m                                 Traceback (most recent call last)",
      "\u001b[0;32m/usr/local/lib/python3.8/site-packages/ee/data.py\u001b[0m in \u001b[0;36m_execute_cloud_call\u001b[0;34m(call, num_retries)\u001b[0m\n\u001b[1;32m    344\u001b[0m   \u001b[0;32mtry\u001b[0m\u001b[0;34m:\u001b[0m\u001b[0;34m\u001b[0m\u001b[0;34m\u001b[0m\u001b[0m\n\u001b[0;32m--> 345\u001b[0;31m     \u001b[0;32mreturn\u001b[0m \u001b[0mcall\u001b[0m\u001b[0;34m.\u001b[0m\u001b[0mexecute\u001b[0m\u001b[0;34m(\u001b[0m\u001b[0mnum_retries\u001b[0m\u001b[0;34m=\u001b[0m\u001b[0mnum_retries\u001b[0m\u001b[0;34m)\u001b[0m\u001b[0;34m\u001b[0m\u001b[0;34m\u001b[0m\u001b[0m\n\u001b[0m\u001b[1;32m    346\u001b[0m   \u001b[0;32mexcept\u001b[0m \u001b[0mgoogleapiclient\u001b[0m\u001b[0;34m.\u001b[0m\u001b[0merrors\u001b[0m\u001b[0;34m.\u001b[0m\u001b[0mHttpError\u001b[0m \u001b[0;32mas\u001b[0m \u001b[0me\u001b[0m\u001b[0;34m:\u001b[0m\u001b[0;34m\u001b[0m\u001b[0;34m\u001b[0m\u001b[0m\n",
      "\u001b[0;32m/usr/local/lib/python3.8/site-packages/googleapiclient/_helpers.py\u001b[0m in \u001b[0;36mpositional_wrapper\u001b[0;34m(*args, **kwargs)\u001b[0m\n\u001b[1;32m    133\u001b[0m                     \u001b[0mlogger\u001b[0m\u001b[0;34m.\u001b[0m\u001b[0mwarning\u001b[0m\u001b[0;34m(\u001b[0m\u001b[0mmessage\u001b[0m\u001b[0;34m)\u001b[0m\u001b[0;34m\u001b[0m\u001b[0;34m\u001b[0m\u001b[0m\n\u001b[0;32m--> 134\u001b[0;31m             \u001b[0;32mreturn\u001b[0m \u001b[0mwrapped\u001b[0m\u001b[0;34m(\u001b[0m\u001b[0;34m*\u001b[0m\u001b[0margs\u001b[0m\u001b[0;34m,\u001b[0m \u001b[0;34m**\u001b[0m\u001b[0mkwargs\u001b[0m\u001b[0;34m)\u001b[0m\u001b[0;34m\u001b[0m\u001b[0;34m\u001b[0m\u001b[0m\n\u001b[0m\u001b[1;32m    135\u001b[0m \u001b[0;34m\u001b[0m\u001b[0m\n",
      "\u001b[0;32m/usr/local/lib/python3.8/site-packages/googleapiclient/http.py\u001b[0m in \u001b[0;36mexecute\u001b[0;34m(self, http, num_retries)\u001b[0m\n\u001b[1;32m    906\u001b[0m         \u001b[0;32mif\u001b[0m \u001b[0mresp\u001b[0m\u001b[0;34m.\u001b[0m\u001b[0mstatus\u001b[0m \u001b[0;34m>=\u001b[0m \u001b[0;36m300\u001b[0m\u001b[0;34m:\u001b[0m\u001b[0;34m\u001b[0m\u001b[0;34m\u001b[0m\u001b[0m\n\u001b[0;32m--> 907\u001b[0;31m             \u001b[0;32mraise\u001b[0m \u001b[0mHttpError\u001b[0m\u001b[0;34m(\u001b[0m\u001b[0mresp\u001b[0m\u001b[0;34m,\u001b[0m \u001b[0mcontent\u001b[0m\u001b[0;34m,\u001b[0m \u001b[0muri\u001b[0m\u001b[0;34m=\u001b[0m\u001b[0mself\u001b[0m\u001b[0;34m.\u001b[0m\u001b[0muri\u001b[0m\u001b[0;34m)\u001b[0m\u001b[0;34m\u001b[0m\u001b[0;34m\u001b[0m\u001b[0m\n\u001b[0m\u001b[1;32m    908\u001b[0m         \u001b[0;32mreturn\u001b[0m \u001b[0mself\u001b[0m\u001b[0;34m.\u001b[0m\u001b[0mpostproc\u001b[0m\u001b[0;34m(\u001b[0m\u001b[0mresp\u001b[0m\u001b[0;34m,\u001b[0m \u001b[0mcontent\u001b[0m\u001b[0;34m)\u001b[0m\u001b[0;34m\u001b[0m\u001b[0;34m\u001b[0m\u001b[0m\n",
      "\u001b[0;31mHttpError\u001b[0m: <HttpError 400 when requesting https://earthengine.googleapis.com/v1alpha/projects/earthengine-legacy/value:compute?prettyPrint=false&alt=json returned \"Collection.geometry: Geometry has too many edges (2476200 > 2000000).\">",
      "\nDuring handling of the above exception, another exception occurred:\n",
      "\u001b[0;31mEEException\u001b[0m                               Traceback (most recent call last)",
      "\u001b[0;32m<ipython-input-10-e4ac94d41962>\u001b[0m in \u001b[0;36m<module>\u001b[0;34m\u001b[0m\n\u001b[1;32m      1\u001b[0m \u001b[0mrandom_points\u001b[0m \u001b[0;34m=\u001b[0m \u001b[0mee\u001b[0m\u001b[0;34m.\u001b[0m\u001b[0mFeatureCollection\u001b[0m\u001b[0;34m.\u001b[0m\u001b[0mrandomPoints\u001b[0m\u001b[0;34m(\u001b[0m\u001b[0mregion\u001b[0m \u001b[0;34m=\u001b[0m \u001b[0mterra_poly\u001b[0m\u001b[0;34m,\u001b[0m \u001b[0mpoints\u001b[0m \u001b[0;34m=\u001b[0m \u001b[0;36m100\u001b[0m\u001b[0;34m,\u001b[0m \u001b[0mseed\u001b[0m \u001b[0;34m=\u001b[0m \u001b[0mrandom\u001b[0m\u001b[0;34m.\u001b[0m\u001b[0mrandint\u001b[0m\u001b[0;34m(\u001b[0m\u001b[0;36m0\u001b[0m\u001b[0;34m,\u001b[0m\u001b[0;36m999999999\u001b[0m\u001b[0;34m)\u001b[0m\u001b[0;34m)\u001b[0m\u001b[0;34m\u001b[0m\u001b[0;34m\u001b[0m\u001b[0m\n\u001b[0;32m----> 2\u001b[0;31m \u001b[0mrandom_points\u001b[0m\u001b[0;34m.\u001b[0m\u001b[0msize\u001b[0m\u001b[0;34m(\u001b[0m\u001b[0;34m)\u001b[0m\u001b[0;34m.\u001b[0m\u001b[0mgetInfo\u001b[0m\u001b[0;34m(\u001b[0m\u001b[0;34m)\u001b[0m\u001b[0;34m\u001b[0m\u001b[0;34m\u001b[0m\u001b[0m\n\u001b[0m",
      "\u001b[0;32m/usr/local/lib/python3.8/site-packages/ee/computedobject.py\u001b[0m in \u001b[0;36mgetInfo\u001b[0;34m(self)\u001b[0m\n\u001b[1;32m     93\u001b[0m       \u001b[0mThe\u001b[0m \u001b[0mobject\u001b[0m \u001b[0mcan\u001b[0m \u001b[0mevaluate\u001b[0m \u001b[0mto\u001b[0m \u001b[0manything\u001b[0m\u001b[0;34m.\u001b[0m\u001b[0;34m\u001b[0m\u001b[0;34m\u001b[0m\u001b[0m\n\u001b[1;32m     94\u001b[0m     \"\"\"\n\u001b[0;32m---> 95\u001b[0;31m     \u001b[0;32mreturn\u001b[0m \u001b[0mdata\u001b[0m\u001b[0;34m.\u001b[0m\u001b[0mcomputeValue\u001b[0m\u001b[0;34m(\u001b[0m\u001b[0mself\u001b[0m\u001b[0;34m)\u001b[0m\u001b[0;34m\u001b[0m\u001b[0;34m\u001b[0m\u001b[0m\n\u001b[0m\u001b[1;32m     96\u001b[0m \u001b[0;34m\u001b[0m\u001b[0m\n\u001b[1;32m     97\u001b[0m   \u001b[0;32mdef\u001b[0m \u001b[0mencode\u001b[0m\u001b[0;34m(\u001b[0m\u001b[0mself\u001b[0m\u001b[0;34m,\u001b[0m \u001b[0mencoder\u001b[0m\u001b[0;34m)\u001b[0m\u001b[0;34m:\u001b[0m\u001b[0;34m\u001b[0m\u001b[0;34m\u001b[0m\u001b[0m\n",
      "\u001b[0;32m/usr/local/lib/python3.8/site-packages/ee/data.py\u001b[0m in \u001b[0;36mcomputeValue\u001b[0;34m(obj)\u001b[0m\n\u001b[1;32m    704\u001b[0m   \"\"\"\n\u001b[1;32m    705\u001b[0m   \u001b[0;32mif\u001b[0m \u001b[0m_use_cloud_api\u001b[0m\u001b[0;34m:\u001b[0m\u001b[0;34m\u001b[0m\u001b[0;34m\u001b[0m\u001b[0m\n\u001b[0;32m--> 706\u001b[0;31m     return _execute_cloud_call(\n\u001b[0m\u001b[1;32m    707\u001b[0m         _get_cloud_api_resource().projects().value().compute(\n\u001b[1;32m    708\u001b[0m             \u001b[0mbody\u001b[0m\u001b[0;34m=\u001b[0m\u001b[0;34m{\u001b[0m\u001b[0;34m'expression'\u001b[0m\u001b[0;34m:\u001b[0m \u001b[0mserializer\u001b[0m\u001b[0;34m.\u001b[0m\u001b[0mencode\u001b[0m\u001b[0;34m(\u001b[0m\u001b[0mobj\u001b[0m\u001b[0;34m,\u001b[0m \u001b[0mfor_cloud_api\u001b[0m\u001b[0;34m=\u001b[0m\u001b[0;32mTrue\u001b[0m\u001b[0;34m)\u001b[0m\u001b[0;34m}\u001b[0m\u001b[0;34m,\u001b[0m\u001b[0;34m\u001b[0m\u001b[0;34m\u001b[0m\u001b[0m\n",
      "\u001b[0;32m/usr/local/lib/python3.8/site-packages/ee/data.py\u001b[0m in \u001b[0;36m_execute_cloud_call\u001b[0;34m(call, num_retries)\u001b[0m\n\u001b[1;32m    345\u001b[0m     \u001b[0;32mreturn\u001b[0m \u001b[0mcall\u001b[0m\u001b[0;34m.\u001b[0m\u001b[0mexecute\u001b[0m\u001b[0;34m(\u001b[0m\u001b[0mnum_retries\u001b[0m\u001b[0;34m=\u001b[0m\u001b[0mnum_retries\u001b[0m\u001b[0;34m)\u001b[0m\u001b[0;34m\u001b[0m\u001b[0;34m\u001b[0m\u001b[0m\n\u001b[1;32m    346\u001b[0m   \u001b[0;32mexcept\u001b[0m \u001b[0mgoogleapiclient\u001b[0m\u001b[0;34m.\u001b[0m\u001b[0merrors\u001b[0m\u001b[0;34m.\u001b[0m\u001b[0mHttpError\u001b[0m \u001b[0;32mas\u001b[0m \u001b[0me\u001b[0m\u001b[0;34m:\u001b[0m\u001b[0;34m\u001b[0m\u001b[0;34m\u001b[0m\u001b[0m\n\u001b[0;32m--> 347\u001b[0;31m     \u001b[0;32mraise\u001b[0m \u001b[0m_translate_cloud_exception\u001b[0m\u001b[0;34m(\u001b[0m\u001b[0me\u001b[0m\u001b[0;34m)\u001b[0m\u001b[0;34m\u001b[0m\u001b[0;34m\u001b[0m\u001b[0m\n\u001b[0m\u001b[1;32m    348\u001b[0m \u001b[0;34m\u001b[0m\u001b[0m\n\u001b[1;32m    349\u001b[0m \u001b[0;34m\u001b[0m\u001b[0m\n",
      "\u001b[0;31mEEException\u001b[0m: Collection.geometry: Geometry has too many edges (2476200 > 2000000)."
     ]
    }
   ],
   "source": [
    "random_points = ee.FeatureCollection.randomPoints(region = terra_poly, points = 100, seed = random.randint(0,999999999))\n",
    "random_points.size().getInfo()"
   ]
  },
  {
   "cell_type": "code",
   "execution_count": 3,
   "metadata": {},
   "outputs": [],
   "source": [
    "depth_to_bedrock = ee.Image('projects/crowtherlab/Composite/CrowtherLab_Composite_30ArcSec').select('SG_Depth_to_bedrock')\n",
    "scaleToUse = depth_to_bedrock.projection().nominalScale().getInfo()\n",
    "\n",
    "halfGeo = ee.Geometry.Polygon([0, 88, 0, 88, 180, 88, 180, -88, 0, -88, 0, -88], None, False)\n",
    "otherHalfGeo = ee.Geometry.Polygon([-180, 88, 0, 88, 0, 88, 0, -88, 0, -88, -180, -88], None, False)"
   ]
  },
  {
   "cell_type": "code",
   "execution_count": 3,
   "metadata": {},
   "outputs": [],
   "source": [
    "def make_pseudoabsences(n = 10000):    \n",
    "    \n",
    "    random_points = ee.FeatureCollection.randomPoints(region = halfGeo, points = n, seed = random.randint(0,999999999))\n",
    "    random_points = random_points.map(lambda f: f.set(depth_to_bedrock.reduceRegion(\n",
    "        reducer = 'first',\n",
    "        geometry = f.geometry(),\n",
    "        scale = scaleToUse)))\n",
    "    random_points = random_points.filter(ee.Filter.gte('SG_Depth_to_bedrock', 0))\n",
    "    npt = random_points.size().getInfo()\n",
    "\n",
    "    other_random_points = ee.FeatureCollection.randomPoints(region = otherHalfGeo, points = n, seed = random.randint(0,999999999))\n",
    "    other_random_points = other_random_points.map(lambda f: f.set(depth_to_bedrock.reduceRegion(\n",
    "        reducer = 'first',\n",
    "        geometry = f.geometry(),\n",
    "        scale = scaleToUse)))\n",
    "    other_random_points = other_random_points.filter(ee.Filter.gte('SG_Depth_to_bedrock', 0))\n",
    "    other_npt = other_random_points.size().getInfo()\n",
    "    \n",
    "    print(str(npt) + ' points in half geo and ' + str(other_npt) + ' points in other half geo')\n",
    "    \n",
    "    pseudoabsences = random_points.limit(min(npt, other_npt)).merge(other_random_points.limit(min(npt, other_npt)))\n",
    "    \n",
    "    return pseudoabsences"
   ]
  },
  {
   "cell_type": "code",
   "execution_count": null,
   "metadata": {},
   "outputs": [],
   "source": [
    "%%time \n",
    "more_pseudoabsences = make_pseudoabsences(n = 100000)\n",
    "npa = pseudoabsences.size().getInfo()\n",
    "print(npa)"
   ]
  },
  {
   "cell_type": "code",
   "execution_count": 4,
   "metadata": {},
   "outputs": [
    {
     "name": "stdout",
     "output_type": "stream",
     "text": [
      "3387 points in half geo and 1808 points in other half geo\n",
      "CPU times: user 12.9 ms, sys: 2.87 ms, total: 15.7 ms\n",
      "Wall time: 1min 30s\n",
      "3616\n"
     ]
    }
   ],
   "source": [
    "%time pseudoabsences = make_pseudoabsences()\n",
    "npa = pseudoabsences.size().getInfo()\n",
    "print(npa)"
   ]
  },
  {
   "cell_type": "code",
   "execution_count": 5,
   "metadata": {},
   "outputs": [
    {
     "name": "stdout",
     "output_type": "stream",
     "text": [
      "3424 points in half geo and 1815 points in other half geo\n",
      "CPU times: user 19.3 ms, sys: 3.39 ms, total: 22.7 ms\n",
      "Wall time: 1min 44s\n",
      "7246 pseudoabsences generated.\n",
      "3412 points in half geo and 1769 points in other half geo\n",
      "CPU times: user 14 ms, sys: 2.27 ms, total: 16.3 ms\n",
      "Wall time: 1min 53s\n",
      "10784 pseudoabsences generated.\n",
      "3380 points in half geo and 1773 points in other half geo\n",
      "CPU times: user 12.8 ms, sys: 2.02 ms, total: 14.8 ms\n",
      "Wall time: 1min 37s\n",
      "14330 pseudoabsences generated.\n",
      "3350 points in half geo and 1801 points in other half geo\n",
      "CPU times: user 12.7 ms, sys: 2.31 ms, total: 15 ms\n",
      "Wall time: 2min 15s\n",
      "17932 pseudoabsences generated.\n",
      "3380 points in half geo and 1687 points in other half geo\n",
      "CPU times: user 14.4 ms, sys: 2.4 ms, total: 16.8 ms\n",
      "Wall time: 1min 55s\n",
      "21306 pseudoabsences generated.\n",
      "3413 points in half geo and 1791 points in other half geo\n",
      "CPU times: user 12.5 ms, sys: 2.3 ms, total: 14.8 ms\n",
      "Wall time: 1min 56s\n",
      "24888 pseudoabsences generated.\n",
      "3408 points in half geo and 1868 points in other half geo\n",
      "CPU times: user 21.6 ms, sys: 3.05 ms, total: 24.6 ms\n",
      "Wall time: 1min 58s\n",
      "28624 pseudoabsences generated.\n",
      "3445 points in half geo and 1792 points in other half geo\n",
      "CPU times: user 18.1 ms, sys: 2.3 ms, total: 20.4 ms\n",
      "Wall time: 1min 30s\n",
      "32208 pseudoabsences generated.\n",
      "3388 points in half geo and 1747 points in other half geo\n",
      "CPU times: user 13.5 ms, sys: 9.93 ms, total: 23.5 ms\n",
      "Wall time: 1min 58s\n",
      "35702 pseudoabsences generated.\n",
      "3480 points in half geo and 1720 points in other half geo\n",
      "CPU times: user 13 ms, sys: 2.26 ms, total: 15.3 ms\n",
      "Wall time: 1min 34s\n",
      "39142 pseudoabsences generated.\n",
      "3313 points in half geo and 1809 points in other half geo\n",
      "CPU times: user 19.3 ms, sys: 4.74 ms, total: 24 ms\n",
      "Wall time: 2min 40s\n",
      "42760 pseudoabsences generated.\n",
      "3410 points in half geo and 1859 points in other half geo\n",
      "CPU times: user 12.9 ms, sys: 2.48 ms, total: 15.4 ms\n",
      "Wall time: 2min\n",
      "46478 pseudoabsences generated.\n",
      "3302 points in half geo and 1759 points in other half geo\n",
      "CPU times: user 19.7 ms, sys: 2.76 ms, total: 22.4 ms\n",
      "Wall time: 1min 53s\n",
      "49996 pseudoabsences generated.\n",
      "3400 points in half geo and 1777 points in other half geo\n",
      "CPU times: user 12.5 ms, sys: 1.98 ms, total: 14.5 ms\n",
      "Wall time: 1min 33s\n",
      "53550 pseudoabsences generated.\n",
      "3440 points in half geo and 1860 points in other half geo\n",
      "CPU times: user 38.4 ms, sys: 7.6 ms, total: 46 ms\n",
      "Wall time: 3min 4s\n",
      "57270 pseudoabsences generated.\n",
      "3415 points in half geo and 1775 points in other half geo\n",
      "CPU times: user 12.2 ms, sys: 2.09 ms, total: 14.3 ms\n",
      "Wall time: 1min 43s\n",
      "60820 pseudoabsences generated.\n",
      "3391 points in half geo and 1814 points in other half geo\n",
      "CPU times: user 12.5 ms, sys: 2.59 ms, total: 15 ms\n",
      "Wall time: 1min 55s\n",
      "64448 pseudoabsences generated.\n",
      "3262 points in half geo and 1752 points in other half geo\n",
      "CPU times: user 13.7 ms, sys: 2.6 ms, total: 16.3 ms\n",
      "Wall time: 2min\n",
      "67952 pseudoabsences generated.\n",
      "3256 points in half geo and 1718 points in other half geo\n",
      "CPU times: user 15.1 ms, sys: 2.92 ms, total: 18 ms\n",
      "Wall time: 2min 27s\n",
      "71388 pseudoabsences generated.\n",
      "3310 points in half geo and 1825 points in other half geo\n",
      "CPU times: user 16.5 ms, sys: 7.08 ms, total: 23.6 ms\n",
      "Wall time: 1min 56s\n",
      "75038 pseudoabsences generated.\n",
      "3329 points in half geo and 1813 points in other half geo\n",
      "CPU times: user 26.3 ms, sys: 6.66 ms, total: 33 ms\n",
      "Wall time: 2min 50s\n",
      "78664 pseudoabsences generated.\n",
      "3403 points in half geo and 1789 points in other half geo\n",
      "CPU times: user 13.5 ms, sys: 2.6 ms, total: 16.1 ms\n",
      "Wall time: 1min 48s\n",
      "82242 pseudoabsences generated.\n",
      "3400 points in half geo and 1750 points in other half geo\n",
      "CPU times: user 41.9 ms, sys: 61.4 ms, total: 103 ms\n",
      "Wall time: 1min 57s\n",
      "85742 pseudoabsences generated.\n",
      "3384 points in half geo and 1805 points in other half geo\n",
      "CPU times: user 28.1 ms, sys: 10.2 ms, total: 38.4 ms\n",
      "Wall time: 1min 48s\n",
      "89352 pseudoabsences generated.\n",
      "3338 points in half geo and 1720 points in other half geo\n",
      "CPU times: user 14.3 ms, sys: 11.1 ms, total: 25.3 ms\n",
      "Wall time: 1min 39s\n",
      "92792 pseudoabsences generated.\n",
      "3378 points in half geo and 1818 points in other half geo\n",
      "CPU times: user 17.3 ms, sys: 25.4 ms, total: 42.6 ms\n",
      "Wall time: 1min 36s\n",
      "96428 pseudoabsences generated.\n",
      "3247 points in half geo and 1765 points in other half geo\n",
      "CPU times: user 17.1 ms, sys: 3.6 ms, total: 20.7 ms\n",
      "Wall time: 1min 59s\n",
      "99958 pseudoabsences generated.\n",
      "3384 points in half geo and 1745 points in other half geo\n",
      "CPU times: user 12.9 ms, sys: 10.5 ms, total: 23.3 ms\n",
      "Wall time: 1min 22s\n",
      "103448 pseudoabsences generated.\n"
     ]
    }
   ],
   "source": [
    "while npa < 100000:\n",
    "    %time pseudoabsences = pseudoabsences.merge(make_pseudoabsences())\n",
    "    npa = pseudoabsences.size().getInfo()\n",
    "    print(str(npa) + ' pseudoabsences generated.')"
   ]
  },
  {
   "cell_type": "code",
   "execution_count": 6,
   "metadata": {},
   "outputs": [],
   "source": [
    "task = ee.batch.Export.table.toAsset(\n",
    "    collection = pseudoabsences,\n",
    "    description = 'pseudoabsences',\n",
    "    assetId = 'users/ninavantiel/treemap_sdm_ee/pseudoabsences_notSampled')\n",
    "task.start()"
   ]
  }
 ],
 "metadata": {
  "kernelspec": {
   "display_name": "Python 3",
   "language": "python",
   "name": "python3"
  },
  "language_info": {
   "codemirror_mode": {
    "name": "ipython",
    "version": 3
   },
   "file_extension": ".py",
   "mimetype": "text/x-python",
   "name": "python",
   "nbconvert_exporter": "python",
   "pygments_lexer": "ipython3",
   "version": "3.8.5"
  }
 },
 "nbformat": 4,
 "nbformat_minor": 4
}
