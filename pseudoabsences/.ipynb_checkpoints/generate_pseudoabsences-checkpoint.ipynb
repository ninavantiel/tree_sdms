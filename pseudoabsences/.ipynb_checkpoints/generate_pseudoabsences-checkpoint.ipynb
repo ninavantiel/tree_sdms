{
 "cells": [
  {
   "cell_type": "code",
   "execution_count": 1,
   "metadata": {},
   "outputs": [],
   "source": [
    "# Import the modules of interest\n",
    "import pandas as pd\n",
    "import numpy as np\n",
    "import random\n",
    "import ee\n",
    "ee.Initialize()"
   ]
  },
  {
   "cell_type": "code",
   "execution_count": 2,
   "metadata": {},
   "outputs": [],
   "source": [
    "composite = ee.Image('projects/crowtherlab/Composite/CrowtherLab_Composite_30ArcSec')\n",
    "unboundedGeo = ee.Geometry.Polygon([[[-180, 88], [180, 88], [180, -88], [-180, -88]]], None, False)\n",
    "\n",
    "terra_poly = composite.select([\"Pixel_Lat\"]).toInt().reduceToVectors(\n",
    "    geometry= unboundedGeo,\n",
    "    crs= composite.select(\"Abs_Lat\").projection(),\n",
    "    scale= composite.select(\"Abs_Lat\").projection().nominalScale().getInfo()*2,\n",
    "    geometryType= 'polygon',\n",
    "    eightConnected= False,\n",
    "    labelProperty= 'zone',\n",
    "    # reducer= ee.Reducer.mean(),\n",
    "    maxPixels= 1E13\n",
    ");\n",
    "\n",
    "terra_geo = terra_poly.geometry()"
   ]
  },
  {
   "cell_type": "code",
   "execution_count": 3,
   "metadata": {},
   "outputs": [],
   "source": [
    "random_points = ee.FeatureCollection.randomPoints(region = terra_geo, points = 1000000, seed = random.randint(0,999999999))"
   ]
  },
  {
   "cell_type": "code",
   "execution_count": 4,
   "metadata": {},
   "outputs": [],
   "source": [
    "random_points = random_points.map(lambda p: p.set({\n",
    "    'lon': p.geometry().coordinates().get(0),\n",
    "    'lat': p.geometry().coordinates().get(1)\n",
    "}))"
   ]
  },
  {
   "cell_type": "code",
   "execution_count": 6,
   "metadata": {},
   "outputs": [],
   "source": [
    "task = ee.batch.Export.table.toAsset(\n",
    "    collection = random_points,\n",
    "    description = 'pseudoabsences',\n",
    "    assetId = 'projects/crowtherlab/nina/treemap/pseudoabsences_1m')\n",
    "task.start()"
   ]
  }
 ],
 "metadata": {
  "kernelspec": {
   "display_name": "Python 3",
   "language": "python",
   "name": "python3"
  },
  "language_info": {
   "codemirror_mode": {
    "name": "ipython",
    "version": 3
   },
   "file_extension": ".py",
   "mimetype": "text/x-python",
   "name": "python",
   "nbconvert_exporter": "python",
   "pygments_lexer": "ipython3",
   "version": "3.8.5"
  }
 },
 "nbformat": 4,
 "nbformat_minor": 4
}
